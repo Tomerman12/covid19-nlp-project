{
  "nbformat": 4,
  "nbformat_minor": 0,
  "metadata": {
    "colab": {
      "provenance": [],
      "machine_shape": "hm",
      "gpuType": "T4"
    },
    "kernelspec": {
      "name": "python3",
      "display_name": "Python 3"
    },
    "language_info": {
      "name": "python"
    },
    "accelerator": "GPU",
    "widgets": {
      "application/vnd.jupyter.widget-state+json": {
        "1e2226dea7e84d33bcdf56bebf04d526": {
          "model_module": "@jupyter-widgets/controls",
          "model_name": "HBoxModel",
          "model_module_version": "1.5.0",
          "state": {
            "_dom_classes": [],
            "_model_module": "@jupyter-widgets/controls",
            "_model_module_version": "1.5.0",
            "_model_name": "HBoxModel",
            "_view_count": null,
            "_view_module": "@jupyter-widgets/controls",
            "_view_module_version": "1.5.0",
            "_view_name": "HBoxView",
            "box_style": "",
            "children": [
              "IPY_MODEL_7fa3c43d33494605adcd689f5365fe04",
              "IPY_MODEL_5afc89908156463d89a0147b30ca1fc8",
              "IPY_MODEL_17ed75e8bd6f43d6add4e49ad0493b06"
            ],
            "layout": "IPY_MODEL_8ec6190082e84e02a68e14a037a3eac9"
          }
        },
        "7fa3c43d33494605adcd689f5365fe04": {
          "model_module": "@jupyter-widgets/controls",
          "model_name": "HTMLModel",
          "model_module_version": "1.5.0",
          "state": {
            "_dom_classes": [],
            "_model_module": "@jupyter-widgets/controls",
            "_model_module_version": "1.5.0",
            "_model_name": "HTMLModel",
            "_view_count": null,
            "_view_module": "@jupyter-widgets/controls",
            "_view_module_version": "1.5.0",
            "_view_name": "HTMLView",
            "description": "",
            "description_tooltip": null,
            "layout": "IPY_MODEL_c8ec0e333b024cd9aae97c1a53c646d2",
            "placeholder": "​",
            "style": "IPY_MODEL_e5bbcfcc286944048f784f7e868b8845",
            "value": "tokenizer_config.json: 100%"
          }
        },
        "5afc89908156463d89a0147b30ca1fc8": {
          "model_module": "@jupyter-widgets/controls",
          "model_name": "FloatProgressModel",
          "model_module_version": "1.5.0",
          "state": {
            "_dom_classes": [],
            "_model_module": "@jupyter-widgets/controls",
            "_model_module_version": "1.5.0",
            "_model_name": "FloatProgressModel",
            "_view_count": null,
            "_view_module": "@jupyter-widgets/controls",
            "_view_module_version": "1.5.0",
            "_view_name": "ProgressView",
            "bar_style": "success",
            "description": "",
            "description_tooltip": null,
            "layout": "IPY_MODEL_707b928604a0411dbeb9c35719b04431",
            "max": 48,
            "min": 0,
            "orientation": "horizontal",
            "style": "IPY_MODEL_1e9d8ad408ce4be7861867740b719498",
            "value": 48
          }
        },
        "17ed75e8bd6f43d6add4e49ad0493b06": {
          "model_module": "@jupyter-widgets/controls",
          "model_name": "HTMLModel",
          "model_module_version": "1.5.0",
          "state": {
            "_dom_classes": [],
            "_model_module": "@jupyter-widgets/controls",
            "_model_module_version": "1.5.0",
            "_model_name": "HTMLModel",
            "_view_count": null,
            "_view_module": "@jupyter-widgets/controls",
            "_view_module_version": "1.5.0",
            "_view_name": "HTMLView",
            "description": "",
            "description_tooltip": null,
            "layout": "IPY_MODEL_b1da51ab0b0e48d1bf096db80cef34bb",
            "placeholder": "​",
            "style": "IPY_MODEL_c274439d8ce44c0d84578c09f2f9147a",
            "value": " 48.0/48.0 [00:00&lt;00:00, 5.65kB/s]"
          }
        },
        "8ec6190082e84e02a68e14a037a3eac9": {
          "model_module": "@jupyter-widgets/base",
          "model_name": "LayoutModel",
          "model_module_version": "1.2.0",
          "state": {
            "_model_module": "@jupyter-widgets/base",
            "_model_module_version": "1.2.0",
            "_model_name": "LayoutModel",
            "_view_count": null,
            "_view_module": "@jupyter-widgets/base",
            "_view_module_version": "1.2.0",
            "_view_name": "LayoutView",
            "align_content": null,
            "align_items": null,
            "align_self": null,
            "border": null,
            "bottom": null,
            "display": null,
            "flex": null,
            "flex_flow": null,
            "grid_area": null,
            "grid_auto_columns": null,
            "grid_auto_flow": null,
            "grid_auto_rows": null,
            "grid_column": null,
            "grid_gap": null,
            "grid_row": null,
            "grid_template_areas": null,
            "grid_template_columns": null,
            "grid_template_rows": null,
            "height": null,
            "justify_content": null,
            "justify_items": null,
            "left": null,
            "margin": null,
            "max_height": null,
            "max_width": null,
            "min_height": null,
            "min_width": null,
            "object_fit": null,
            "object_position": null,
            "order": null,
            "overflow": null,
            "overflow_x": null,
            "overflow_y": null,
            "padding": null,
            "right": null,
            "top": null,
            "visibility": null,
            "width": null
          }
        },
        "c8ec0e333b024cd9aae97c1a53c646d2": {
          "model_module": "@jupyter-widgets/base",
          "model_name": "LayoutModel",
          "model_module_version": "1.2.0",
          "state": {
            "_model_module": "@jupyter-widgets/base",
            "_model_module_version": "1.2.0",
            "_model_name": "LayoutModel",
            "_view_count": null,
            "_view_module": "@jupyter-widgets/base",
            "_view_module_version": "1.2.0",
            "_view_name": "LayoutView",
            "align_content": null,
            "align_items": null,
            "align_self": null,
            "border": null,
            "bottom": null,
            "display": null,
            "flex": null,
            "flex_flow": null,
            "grid_area": null,
            "grid_auto_columns": null,
            "grid_auto_flow": null,
            "grid_auto_rows": null,
            "grid_column": null,
            "grid_gap": null,
            "grid_row": null,
            "grid_template_areas": null,
            "grid_template_columns": null,
            "grid_template_rows": null,
            "height": null,
            "justify_content": null,
            "justify_items": null,
            "left": null,
            "margin": null,
            "max_height": null,
            "max_width": null,
            "min_height": null,
            "min_width": null,
            "object_fit": null,
            "object_position": null,
            "order": null,
            "overflow": null,
            "overflow_x": null,
            "overflow_y": null,
            "padding": null,
            "right": null,
            "top": null,
            "visibility": null,
            "width": null
          }
        },
        "e5bbcfcc286944048f784f7e868b8845": {
          "model_module": "@jupyter-widgets/controls",
          "model_name": "DescriptionStyleModel",
          "model_module_version": "1.5.0",
          "state": {
            "_model_module": "@jupyter-widgets/controls",
            "_model_module_version": "1.5.0",
            "_model_name": "DescriptionStyleModel",
            "_view_count": null,
            "_view_module": "@jupyter-widgets/base",
            "_view_module_version": "1.2.0",
            "_view_name": "StyleView",
            "description_width": ""
          }
        },
        "707b928604a0411dbeb9c35719b04431": {
          "model_module": "@jupyter-widgets/base",
          "model_name": "LayoutModel",
          "model_module_version": "1.2.0",
          "state": {
            "_model_module": "@jupyter-widgets/base",
            "_model_module_version": "1.2.0",
            "_model_name": "LayoutModel",
            "_view_count": null,
            "_view_module": "@jupyter-widgets/base",
            "_view_module_version": "1.2.0",
            "_view_name": "LayoutView",
            "align_content": null,
            "align_items": null,
            "align_self": null,
            "border": null,
            "bottom": null,
            "display": null,
            "flex": null,
            "flex_flow": null,
            "grid_area": null,
            "grid_auto_columns": null,
            "grid_auto_flow": null,
            "grid_auto_rows": null,
            "grid_column": null,
            "grid_gap": null,
            "grid_row": null,
            "grid_template_areas": null,
            "grid_template_columns": null,
            "grid_template_rows": null,
            "height": null,
            "justify_content": null,
            "justify_items": null,
            "left": null,
            "margin": null,
            "max_height": null,
            "max_width": null,
            "min_height": null,
            "min_width": null,
            "object_fit": null,
            "object_position": null,
            "order": null,
            "overflow": null,
            "overflow_x": null,
            "overflow_y": null,
            "padding": null,
            "right": null,
            "top": null,
            "visibility": null,
            "width": null
          }
        },
        "1e9d8ad408ce4be7861867740b719498": {
          "model_module": "@jupyter-widgets/controls",
          "model_name": "ProgressStyleModel",
          "model_module_version": "1.5.0",
          "state": {
            "_model_module": "@jupyter-widgets/controls",
            "_model_module_version": "1.5.0",
            "_model_name": "ProgressStyleModel",
            "_view_count": null,
            "_view_module": "@jupyter-widgets/base",
            "_view_module_version": "1.2.0",
            "_view_name": "StyleView",
            "bar_color": null,
            "description_width": ""
          }
        },
        "b1da51ab0b0e48d1bf096db80cef34bb": {
          "model_module": "@jupyter-widgets/base",
          "model_name": "LayoutModel",
          "model_module_version": "1.2.0",
          "state": {
            "_model_module": "@jupyter-widgets/base",
            "_model_module_version": "1.2.0",
            "_model_name": "LayoutModel",
            "_view_count": null,
            "_view_module": "@jupyter-widgets/base",
            "_view_module_version": "1.2.0",
            "_view_name": "LayoutView",
            "align_content": null,
            "align_items": null,
            "align_self": null,
            "border": null,
            "bottom": null,
            "display": null,
            "flex": null,
            "flex_flow": null,
            "grid_area": null,
            "grid_auto_columns": null,
            "grid_auto_flow": null,
            "grid_auto_rows": null,
            "grid_column": null,
            "grid_gap": null,
            "grid_row": null,
            "grid_template_areas": null,
            "grid_template_columns": null,
            "grid_template_rows": null,
            "height": null,
            "justify_content": null,
            "justify_items": null,
            "left": null,
            "margin": null,
            "max_height": null,
            "max_width": null,
            "min_height": null,
            "min_width": null,
            "object_fit": null,
            "object_position": null,
            "order": null,
            "overflow": null,
            "overflow_x": null,
            "overflow_y": null,
            "padding": null,
            "right": null,
            "top": null,
            "visibility": null,
            "width": null
          }
        },
        "c274439d8ce44c0d84578c09f2f9147a": {
          "model_module": "@jupyter-widgets/controls",
          "model_name": "DescriptionStyleModel",
          "model_module_version": "1.5.0",
          "state": {
            "_model_module": "@jupyter-widgets/controls",
            "_model_module_version": "1.5.0",
            "_model_name": "DescriptionStyleModel",
            "_view_count": null,
            "_view_module": "@jupyter-widgets/base",
            "_view_module_version": "1.2.0",
            "_view_name": "StyleView",
            "description_width": ""
          }
        },
        "c2ee31774cfe4cfcac8b5b68bca55d7d": {
          "model_module": "@jupyter-widgets/controls",
          "model_name": "HBoxModel",
          "model_module_version": "1.5.0",
          "state": {
            "_dom_classes": [],
            "_model_module": "@jupyter-widgets/controls",
            "_model_module_version": "1.5.0",
            "_model_name": "HBoxModel",
            "_view_count": null,
            "_view_module": "@jupyter-widgets/controls",
            "_view_module_version": "1.5.0",
            "_view_name": "HBoxView",
            "box_style": "",
            "children": [
              "IPY_MODEL_40f2300e500241f280e6a73fe2043946",
              "IPY_MODEL_fb58dcc1e3d14b58b5a7087ab16c3272",
              "IPY_MODEL_e1e1490c164d458cb7fb989d2d7d6a9f"
            ],
            "layout": "IPY_MODEL_d6d2c5bf79f14fb585286eabf299e175"
          }
        },
        "40f2300e500241f280e6a73fe2043946": {
          "model_module": "@jupyter-widgets/controls",
          "model_name": "HTMLModel",
          "model_module_version": "1.5.0",
          "state": {
            "_dom_classes": [],
            "_model_module": "@jupyter-widgets/controls",
            "_model_module_version": "1.5.0",
            "_model_name": "HTMLModel",
            "_view_count": null,
            "_view_module": "@jupyter-widgets/controls",
            "_view_module_version": "1.5.0",
            "_view_name": "HTMLView",
            "description": "",
            "description_tooltip": null,
            "layout": "IPY_MODEL_4247ce8b2ae44ae8ba276fe548b95d30",
            "placeholder": "​",
            "style": "IPY_MODEL_25c92215e1a242fba567288a8a32f4fc",
            "value": "config.json: 100%"
          }
        },
        "fb58dcc1e3d14b58b5a7087ab16c3272": {
          "model_module": "@jupyter-widgets/controls",
          "model_name": "FloatProgressModel",
          "model_module_version": "1.5.0",
          "state": {
            "_dom_classes": [],
            "_model_module": "@jupyter-widgets/controls",
            "_model_module_version": "1.5.0",
            "_model_name": "FloatProgressModel",
            "_view_count": null,
            "_view_module": "@jupyter-widgets/controls",
            "_view_module_version": "1.5.0",
            "_view_name": "ProgressView",
            "bar_style": "success",
            "description": "",
            "description_tooltip": null,
            "layout": "IPY_MODEL_6b4b55966a0e4037b28972a4b0363063",
            "max": 483,
            "min": 0,
            "orientation": "horizontal",
            "style": "IPY_MODEL_765fbe3b1d1041babe475b9c8a350242",
            "value": 483
          }
        },
        "e1e1490c164d458cb7fb989d2d7d6a9f": {
          "model_module": "@jupyter-widgets/controls",
          "model_name": "HTMLModel",
          "model_module_version": "1.5.0",
          "state": {
            "_dom_classes": [],
            "_model_module": "@jupyter-widgets/controls",
            "_model_module_version": "1.5.0",
            "_model_name": "HTMLModel",
            "_view_count": null,
            "_view_module": "@jupyter-widgets/controls",
            "_view_module_version": "1.5.0",
            "_view_name": "HTMLView",
            "description": "",
            "description_tooltip": null,
            "layout": "IPY_MODEL_de328f3beaf54cb1b1a99d865ad913d9",
            "placeholder": "​",
            "style": "IPY_MODEL_b970a93fe747445aa0ac2aee30b30768",
            "value": " 483/483 [00:00&lt;00:00, 55.3kB/s]"
          }
        },
        "d6d2c5bf79f14fb585286eabf299e175": {
          "model_module": "@jupyter-widgets/base",
          "model_name": "LayoutModel",
          "model_module_version": "1.2.0",
          "state": {
            "_model_module": "@jupyter-widgets/base",
            "_model_module_version": "1.2.0",
            "_model_name": "LayoutModel",
            "_view_count": null,
            "_view_module": "@jupyter-widgets/base",
            "_view_module_version": "1.2.0",
            "_view_name": "LayoutView",
            "align_content": null,
            "align_items": null,
            "align_self": null,
            "border": null,
            "bottom": null,
            "display": null,
            "flex": null,
            "flex_flow": null,
            "grid_area": null,
            "grid_auto_columns": null,
            "grid_auto_flow": null,
            "grid_auto_rows": null,
            "grid_column": null,
            "grid_gap": null,
            "grid_row": null,
            "grid_template_areas": null,
            "grid_template_columns": null,
            "grid_template_rows": null,
            "height": null,
            "justify_content": null,
            "justify_items": null,
            "left": null,
            "margin": null,
            "max_height": null,
            "max_width": null,
            "min_height": null,
            "min_width": null,
            "object_fit": null,
            "object_position": null,
            "order": null,
            "overflow": null,
            "overflow_x": null,
            "overflow_y": null,
            "padding": null,
            "right": null,
            "top": null,
            "visibility": null,
            "width": null
          }
        },
        "4247ce8b2ae44ae8ba276fe548b95d30": {
          "model_module": "@jupyter-widgets/base",
          "model_name": "LayoutModel",
          "model_module_version": "1.2.0",
          "state": {
            "_model_module": "@jupyter-widgets/base",
            "_model_module_version": "1.2.0",
            "_model_name": "LayoutModel",
            "_view_count": null,
            "_view_module": "@jupyter-widgets/base",
            "_view_module_version": "1.2.0",
            "_view_name": "LayoutView",
            "align_content": null,
            "align_items": null,
            "align_self": null,
            "border": null,
            "bottom": null,
            "display": null,
            "flex": null,
            "flex_flow": null,
            "grid_area": null,
            "grid_auto_columns": null,
            "grid_auto_flow": null,
            "grid_auto_rows": null,
            "grid_column": null,
            "grid_gap": null,
            "grid_row": null,
            "grid_template_areas": null,
            "grid_template_columns": null,
            "grid_template_rows": null,
            "height": null,
            "justify_content": null,
            "justify_items": null,
            "left": null,
            "margin": null,
            "max_height": null,
            "max_width": null,
            "min_height": null,
            "min_width": null,
            "object_fit": null,
            "object_position": null,
            "order": null,
            "overflow": null,
            "overflow_x": null,
            "overflow_y": null,
            "padding": null,
            "right": null,
            "top": null,
            "visibility": null,
            "width": null
          }
        },
        "25c92215e1a242fba567288a8a32f4fc": {
          "model_module": "@jupyter-widgets/controls",
          "model_name": "DescriptionStyleModel",
          "model_module_version": "1.5.0",
          "state": {
            "_model_module": "@jupyter-widgets/controls",
            "_model_module_version": "1.5.0",
            "_model_name": "DescriptionStyleModel",
            "_view_count": null,
            "_view_module": "@jupyter-widgets/base",
            "_view_module_version": "1.2.0",
            "_view_name": "StyleView",
            "description_width": ""
          }
        },
        "6b4b55966a0e4037b28972a4b0363063": {
          "model_module": "@jupyter-widgets/base",
          "model_name": "LayoutModel",
          "model_module_version": "1.2.0",
          "state": {
            "_model_module": "@jupyter-widgets/base",
            "_model_module_version": "1.2.0",
            "_model_name": "LayoutModel",
            "_view_count": null,
            "_view_module": "@jupyter-widgets/base",
            "_view_module_version": "1.2.0",
            "_view_name": "LayoutView",
            "align_content": null,
            "align_items": null,
            "align_self": null,
            "border": null,
            "bottom": null,
            "display": null,
            "flex": null,
            "flex_flow": null,
            "grid_area": null,
            "grid_auto_columns": null,
            "grid_auto_flow": null,
            "grid_auto_rows": null,
            "grid_column": null,
            "grid_gap": null,
            "grid_row": null,
            "grid_template_areas": null,
            "grid_template_columns": null,
            "grid_template_rows": null,
            "height": null,
            "justify_content": null,
            "justify_items": null,
            "left": null,
            "margin": null,
            "max_height": null,
            "max_width": null,
            "min_height": null,
            "min_width": null,
            "object_fit": null,
            "object_position": null,
            "order": null,
            "overflow": null,
            "overflow_x": null,
            "overflow_y": null,
            "padding": null,
            "right": null,
            "top": null,
            "visibility": null,
            "width": null
          }
        },
        "765fbe3b1d1041babe475b9c8a350242": {
          "model_module": "@jupyter-widgets/controls",
          "model_name": "ProgressStyleModel",
          "model_module_version": "1.5.0",
          "state": {
            "_model_module": "@jupyter-widgets/controls",
            "_model_module_version": "1.5.0",
            "_model_name": "ProgressStyleModel",
            "_view_count": null,
            "_view_module": "@jupyter-widgets/base",
            "_view_module_version": "1.2.0",
            "_view_name": "StyleView",
            "bar_color": null,
            "description_width": ""
          }
        },
        "de328f3beaf54cb1b1a99d865ad913d9": {
          "model_module": "@jupyter-widgets/base",
          "model_name": "LayoutModel",
          "model_module_version": "1.2.0",
          "state": {
            "_model_module": "@jupyter-widgets/base",
            "_model_module_version": "1.2.0",
            "_model_name": "LayoutModel",
            "_view_count": null,
            "_view_module": "@jupyter-widgets/base",
            "_view_module_version": "1.2.0",
            "_view_name": "LayoutView",
            "align_content": null,
            "align_items": null,
            "align_self": null,
            "border": null,
            "bottom": null,
            "display": null,
            "flex": null,
            "flex_flow": null,
            "grid_area": null,
            "grid_auto_columns": null,
            "grid_auto_flow": null,
            "grid_auto_rows": null,
            "grid_column": null,
            "grid_gap": null,
            "grid_row": null,
            "grid_template_areas": null,
            "grid_template_columns": null,
            "grid_template_rows": null,
            "height": null,
            "justify_content": null,
            "justify_items": null,
            "left": null,
            "margin": null,
            "max_height": null,
            "max_width": null,
            "min_height": null,
            "min_width": null,
            "object_fit": null,
            "object_position": null,
            "order": null,
            "overflow": null,
            "overflow_x": null,
            "overflow_y": null,
            "padding": null,
            "right": null,
            "top": null,
            "visibility": null,
            "width": null
          }
        },
        "b970a93fe747445aa0ac2aee30b30768": {
          "model_module": "@jupyter-widgets/controls",
          "model_name": "DescriptionStyleModel",
          "model_module_version": "1.5.0",
          "state": {
            "_model_module": "@jupyter-widgets/controls",
            "_model_module_version": "1.5.0",
            "_model_name": "DescriptionStyleModel",
            "_view_count": null,
            "_view_module": "@jupyter-widgets/base",
            "_view_module_version": "1.2.0",
            "_view_name": "StyleView",
            "description_width": ""
          }
        },
        "32ec9098361741f29388e529650a5259": {
          "model_module": "@jupyter-widgets/controls",
          "model_name": "HBoxModel",
          "model_module_version": "1.5.0",
          "state": {
            "_dom_classes": [],
            "_model_module": "@jupyter-widgets/controls",
            "_model_module_version": "1.5.0",
            "_model_name": "HBoxModel",
            "_view_count": null,
            "_view_module": "@jupyter-widgets/controls",
            "_view_module_version": "1.5.0",
            "_view_name": "HBoxView",
            "box_style": "",
            "children": [
              "IPY_MODEL_e6119ecac1514e9d8f7c3738fa4e94c9",
              "IPY_MODEL_117e7882198042d0a5259895902b2a66",
              "IPY_MODEL_ce6a6d068b3b4e5d8ab297f4d6d0b4c8"
            ],
            "layout": "IPY_MODEL_6c8a29b552354890bad7c5841a59c322"
          }
        },
        "e6119ecac1514e9d8f7c3738fa4e94c9": {
          "model_module": "@jupyter-widgets/controls",
          "model_name": "HTMLModel",
          "model_module_version": "1.5.0",
          "state": {
            "_dom_classes": [],
            "_model_module": "@jupyter-widgets/controls",
            "_model_module_version": "1.5.0",
            "_model_name": "HTMLModel",
            "_view_count": null,
            "_view_module": "@jupyter-widgets/controls",
            "_view_module_version": "1.5.0",
            "_view_name": "HTMLView",
            "description": "",
            "description_tooltip": null,
            "layout": "IPY_MODEL_bd532c7897dd4b8284e158c1f54a0380",
            "placeholder": "​",
            "style": "IPY_MODEL_f8498037b05749eb9a7da8d0a0a18825",
            "value": "vocab.txt: 100%"
          }
        },
        "117e7882198042d0a5259895902b2a66": {
          "model_module": "@jupyter-widgets/controls",
          "model_name": "FloatProgressModel",
          "model_module_version": "1.5.0",
          "state": {
            "_dom_classes": [],
            "_model_module": "@jupyter-widgets/controls",
            "_model_module_version": "1.5.0",
            "_model_name": "FloatProgressModel",
            "_view_count": null,
            "_view_module": "@jupyter-widgets/controls",
            "_view_module_version": "1.5.0",
            "_view_name": "ProgressView",
            "bar_style": "success",
            "description": "",
            "description_tooltip": null,
            "layout": "IPY_MODEL_e7efec26f4c24fa0b95087fdb57d4a13",
            "max": 231508,
            "min": 0,
            "orientation": "horizontal",
            "style": "IPY_MODEL_0c89a97a06d64061b3ae5c706b8b6c3a",
            "value": 231508
          }
        },
        "ce6a6d068b3b4e5d8ab297f4d6d0b4c8": {
          "model_module": "@jupyter-widgets/controls",
          "model_name": "HTMLModel",
          "model_module_version": "1.5.0",
          "state": {
            "_dom_classes": [],
            "_model_module": "@jupyter-widgets/controls",
            "_model_module_version": "1.5.0",
            "_model_name": "HTMLModel",
            "_view_count": null,
            "_view_module": "@jupyter-widgets/controls",
            "_view_module_version": "1.5.0",
            "_view_name": "HTMLView",
            "description": "",
            "description_tooltip": null,
            "layout": "IPY_MODEL_1b47c377ee4b4fcea82430ec30e9ca59",
            "placeholder": "​",
            "style": "IPY_MODEL_9ec090c9baec41f1adc8d09d938f6288",
            "value": " 232k/232k [00:00&lt;00:00, 2.76MB/s]"
          }
        },
        "6c8a29b552354890bad7c5841a59c322": {
          "model_module": "@jupyter-widgets/base",
          "model_name": "LayoutModel",
          "model_module_version": "1.2.0",
          "state": {
            "_model_module": "@jupyter-widgets/base",
            "_model_module_version": "1.2.0",
            "_model_name": "LayoutModel",
            "_view_count": null,
            "_view_module": "@jupyter-widgets/base",
            "_view_module_version": "1.2.0",
            "_view_name": "LayoutView",
            "align_content": null,
            "align_items": null,
            "align_self": null,
            "border": null,
            "bottom": null,
            "display": null,
            "flex": null,
            "flex_flow": null,
            "grid_area": null,
            "grid_auto_columns": null,
            "grid_auto_flow": null,
            "grid_auto_rows": null,
            "grid_column": null,
            "grid_gap": null,
            "grid_row": null,
            "grid_template_areas": null,
            "grid_template_columns": null,
            "grid_template_rows": null,
            "height": null,
            "justify_content": null,
            "justify_items": null,
            "left": null,
            "margin": null,
            "max_height": null,
            "max_width": null,
            "min_height": null,
            "min_width": null,
            "object_fit": null,
            "object_position": null,
            "order": null,
            "overflow": null,
            "overflow_x": null,
            "overflow_y": null,
            "padding": null,
            "right": null,
            "top": null,
            "visibility": null,
            "width": null
          }
        },
        "bd532c7897dd4b8284e158c1f54a0380": {
          "model_module": "@jupyter-widgets/base",
          "model_name": "LayoutModel",
          "model_module_version": "1.2.0",
          "state": {
            "_model_module": "@jupyter-widgets/base",
            "_model_module_version": "1.2.0",
            "_model_name": "LayoutModel",
            "_view_count": null,
            "_view_module": "@jupyter-widgets/base",
            "_view_module_version": "1.2.0",
            "_view_name": "LayoutView",
            "align_content": null,
            "align_items": null,
            "align_self": null,
            "border": null,
            "bottom": null,
            "display": null,
            "flex": null,
            "flex_flow": null,
            "grid_area": null,
            "grid_auto_columns": null,
            "grid_auto_flow": null,
            "grid_auto_rows": null,
            "grid_column": null,
            "grid_gap": null,
            "grid_row": null,
            "grid_template_areas": null,
            "grid_template_columns": null,
            "grid_template_rows": null,
            "height": null,
            "justify_content": null,
            "justify_items": null,
            "left": null,
            "margin": null,
            "max_height": null,
            "max_width": null,
            "min_height": null,
            "min_width": null,
            "object_fit": null,
            "object_position": null,
            "order": null,
            "overflow": null,
            "overflow_x": null,
            "overflow_y": null,
            "padding": null,
            "right": null,
            "top": null,
            "visibility": null,
            "width": null
          }
        },
        "f8498037b05749eb9a7da8d0a0a18825": {
          "model_module": "@jupyter-widgets/controls",
          "model_name": "DescriptionStyleModel",
          "model_module_version": "1.5.0",
          "state": {
            "_model_module": "@jupyter-widgets/controls",
            "_model_module_version": "1.5.0",
            "_model_name": "DescriptionStyleModel",
            "_view_count": null,
            "_view_module": "@jupyter-widgets/base",
            "_view_module_version": "1.2.0",
            "_view_name": "StyleView",
            "description_width": ""
          }
        },
        "e7efec26f4c24fa0b95087fdb57d4a13": {
          "model_module": "@jupyter-widgets/base",
          "model_name": "LayoutModel",
          "model_module_version": "1.2.0",
          "state": {
            "_model_module": "@jupyter-widgets/base",
            "_model_module_version": "1.2.0",
            "_model_name": "LayoutModel",
            "_view_count": null,
            "_view_module": "@jupyter-widgets/base",
            "_view_module_version": "1.2.0",
            "_view_name": "LayoutView",
            "align_content": null,
            "align_items": null,
            "align_self": null,
            "border": null,
            "bottom": null,
            "display": null,
            "flex": null,
            "flex_flow": null,
            "grid_area": null,
            "grid_auto_columns": null,
            "grid_auto_flow": null,
            "grid_auto_rows": null,
            "grid_column": null,
            "grid_gap": null,
            "grid_row": null,
            "grid_template_areas": null,
            "grid_template_columns": null,
            "grid_template_rows": null,
            "height": null,
            "justify_content": null,
            "justify_items": null,
            "left": null,
            "margin": null,
            "max_height": null,
            "max_width": null,
            "min_height": null,
            "min_width": null,
            "object_fit": null,
            "object_position": null,
            "order": null,
            "overflow": null,
            "overflow_x": null,
            "overflow_y": null,
            "padding": null,
            "right": null,
            "top": null,
            "visibility": null,
            "width": null
          }
        },
        "0c89a97a06d64061b3ae5c706b8b6c3a": {
          "model_module": "@jupyter-widgets/controls",
          "model_name": "ProgressStyleModel",
          "model_module_version": "1.5.0",
          "state": {
            "_model_module": "@jupyter-widgets/controls",
            "_model_module_version": "1.5.0",
            "_model_name": "ProgressStyleModel",
            "_view_count": null,
            "_view_module": "@jupyter-widgets/base",
            "_view_module_version": "1.2.0",
            "_view_name": "StyleView",
            "bar_color": null,
            "description_width": ""
          }
        },
        "1b47c377ee4b4fcea82430ec30e9ca59": {
          "model_module": "@jupyter-widgets/base",
          "model_name": "LayoutModel",
          "model_module_version": "1.2.0",
          "state": {
            "_model_module": "@jupyter-widgets/base",
            "_model_module_version": "1.2.0",
            "_model_name": "LayoutModel",
            "_view_count": null,
            "_view_module": "@jupyter-widgets/base",
            "_view_module_version": "1.2.0",
            "_view_name": "LayoutView",
            "align_content": null,
            "align_items": null,
            "align_self": null,
            "border": null,
            "bottom": null,
            "display": null,
            "flex": null,
            "flex_flow": null,
            "grid_area": null,
            "grid_auto_columns": null,
            "grid_auto_flow": null,
            "grid_auto_rows": null,
            "grid_column": null,
            "grid_gap": null,
            "grid_row": null,
            "grid_template_areas": null,
            "grid_template_columns": null,
            "grid_template_rows": null,
            "height": null,
            "justify_content": null,
            "justify_items": null,
            "left": null,
            "margin": null,
            "max_height": null,
            "max_width": null,
            "min_height": null,
            "min_width": null,
            "object_fit": null,
            "object_position": null,
            "order": null,
            "overflow": null,
            "overflow_x": null,
            "overflow_y": null,
            "padding": null,
            "right": null,
            "top": null,
            "visibility": null,
            "width": null
          }
        },
        "9ec090c9baec41f1adc8d09d938f6288": {
          "model_module": "@jupyter-widgets/controls",
          "model_name": "DescriptionStyleModel",
          "model_module_version": "1.5.0",
          "state": {
            "_model_module": "@jupyter-widgets/controls",
            "_model_module_version": "1.5.0",
            "_model_name": "DescriptionStyleModel",
            "_view_count": null,
            "_view_module": "@jupyter-widgets/base",
            "_view_module_version": "1.2.0",
            "_view_name": "StyleView",
            "description_width": ""
          }
        },
        "06f935631d5442ffa5403a496213a2ac": {
          "model_module": "@jupyter-widgets/controls",
          "model_name": "HBoxModel",
          "model_module_version": "1.5.0",
          "state": {
            "_dom_classes": [],
            "_model_module": "@jupyter-widgets/controls",
            "_model_module_version": "1.5.0",
            "_model_name": "HBoxModel",
            "_view_count": null,
            "_view_module": "@jupyter-widgets/controls",
            "_view_module_version": "1.5.0",
            "_view_name": "HBoxView",
            "box_style": "",
            "children": [
              "IPY_MODEL_7116453ff4e4415c9412272c04915fec",
              "IPY_MODEL_e66a5721b26c449f94a640c60e90b3d1",
              "IPY_MODEL_5f3caf420eab4323a7a5beae59a67e1b"
            ],
            "layout": "IPY_MODEL_d22d93a94613416f97474bb45d5d77f4"
          }
        },
        "7116453ff4e4415c9412272c04915fec": {
          "model_module": "@jupyter-widgets/controls",
          "model_name": "HTMLModel",
          "model_module_version": "1.5.0",
          "state": {
            "_dom_classes": [],
            "_model_module": "@jupyter-widgets/controls",
            "_model_module_version": "1.5.0",
            "_model_name": "HTMLModel",
            "_view_count": null,
            "_view_module": "@jupyter-widgets/controls",
            "_view_module_version": "1.5.0",
            "_view_name": "HTMLView",
            "description": "",
            "description_tooltip": null,
            "layout": "IPY_MODEL_c011c1213b064147a18d2a8038ad6c53",
            "placeholder": "​",
            "style": "IPY_MODEL_d5d028666e9644a3a4e4acd4bf114463",
            "value": "tokenizer.json: 100%"
          }
        },
        "e66a5721b26c449f94a640c60e90b3d1": {
          "model_module": "@jupyter-widgets/controls",
          "model_name": "FloatProgressModel",
          "model_module_version": "1.5.0",
          "state": {
            "_dom_classes": [],
            "_model_module": "@jupyter-widgets/controls",
            "_model_module_version": "1.5.0",
            "_model_name": "FloatProgressModel",
            "_view_count": null,
            "_view_module": "@jupyter-widgets/controls",
            "_view_module_version": "1.5.0",
            "_view_name": "ProgressView",
            "bar_style": "success",
            "description": "",
            "description_tooltip": null,
            "layout": "IPY_MODEL_b9344de6195f4fbe897fe47bcded2323",
            "max": 466062,
            "min": 0,
            "orientation": "horizontal",
            "style": "IPY_MODEL_c87272fcc0394448adca4e354d8bb385",
            "value": 466062
          }
        },
        "5f3caf420eab4323a7a5beae59a67e1b": {
          "model_module": "@jupyter-widgets/controls",
          "model_name": "HTMLModel",
          "model_module_version": "1.5.0",
          "state": {
            "_dom_classes": [],
            "_model_module": "@jupyter-widgets/controls",
            "_model_module_version": "1.5.0",
            "_model_name": "HTMLModel",
            "_view_count": null,
            "_view_module": "@jupyter-widgets/controls",
            "_view_module_version": "1.5.0",
            "_view_name": "HTMLView",
            "description": "",
            "description_tooltip": null,
            "layout": "IPY_MODEL_f88c65cc945942fcb74f03acbe966551",
            "placeholder": "​",
            "style": "IPY_MODEL_923975a4d76b48cebe32df3faa72a54c",
            "value": " 466k/466k [00:00&lt;00:00, 24.9MB/s]"
          }
        },
        "d22d93a94613416f97474bb45d5d77f4": {
          "model_module": "@jupyter-widgets/base",
          "model_name": "LayoutModel",
          "model_module_version": "1.2.0",
          "state": {
            "_model_module": "@jupyter-widgets/base",
            "_model_module_version": "1.2.0",
            "_model_name": "LayoutModel",
            "_view_count": null,
            "_view_module": "@jupyter-widgets/base",
            "_view_module_version": "1.2.0",
            "_view_name": "LayoutView",
            "align_content": null,
            "align_items": null,
            "align_self": null,
            "border": null,
            "bottom": null,
            "display": null,
            "flex": null,
            "flex_flow": null,
            "grid_area": null,
            "grid_auto_columns": null,
            "grid_auto_flow": null,
            "grid_auto_rows": null,
            "grid_column": null,
            "grid_gap": null,
            "grid_row": null,
            "grid_template_areas": null,
            "grid_template_columns": null,
            "grid_template_rows": null,
            "height": null,
            "justify_content": null,
            "justify_items": null,
            "left": null,
            "margin": null,
            "max_height": null,
            "max_width": null,
            "min_height": null,
            "min_width": null,
            "object_fit": null,
            "object_position": null,
            "order": null,
            "overflow": null,
            "overflow_x": null,
            "overflow_y": null,
            "padding": null,
            "right": null,
            "top": null,
            "visibility": null,
            "width": null
          }
        },
        "c011c1213b064147a18d2a8038ad6c53": {
          "model_module": "@jupyter-widgets/base",
          "model_name": "LayoutModel",
          "model_module_version": "1.2.0",
          "state": {
            "_model_module": "@jupyter-widgets/base",
            "_model_module_version": "1.2.0",
            "_model_name": "LayoutModel",
            "_view_count": null,
            "_view_module": "@jupyter-widgets/base",
            "_view_module_version": "1.2.0",
            "_view_name": "LayoutView",
            "align_content": null,
            "align_items": null,
            "align_self": null,
            "border": null,
            "bottom": null,
            "display": null,
            "flex": null,
            "flex_flow": null,
            "grid_area": null,
            "grid_auto_columns": null,
            "grid_auto_flow": null,
            "grid_auto_rows": null,
            "grid_column": null,
            "grid_gap": null,
            "grid_row": null,
            "grid_template_areas": null,
            "grid_template_columns": null,
            "grid_template_rows": null,
            "height": null,
            "justify_content": null,
            "justify_items": null,
            "left": null,
            "margin": null,
            "max_height": null,
            "max_width": null,
            "min_height": null,
            "min_width": null,
            "object_fit": null,
            "object_position": null,
            "order": null,
            "overflow": null,
            "overflow_x": null,
            "overflow_y": null,
            "padding": null,
            "right": null,
            "top": null,
            "visibility": null,
            "width": null
          }
        },
        "d5d028666e9644a3a4e4acd4bf114463": {
          "model_module": "@jupyter-widgets/controls",
          "model_name": "DescriptionStyleModel",
          "model_module_version": "1.5.0",
          "state": {
            "_model_module": "@jupyter-widgets/controls",
            "_model_module_version": "1.5.0",
            "_model_name": "DescriptionStyleModel",
            "_view_count": null,
            "_view_module": "@jupyter-widgets/base",
            "_view_module_version": "1.2.0",
            "_view_name": "StyleView",
            "description_width": ""
          }
        },
        "b9344de6195f4fbe897fe47bcded2323": {
          "model_module": "@jupyter-widgets/base",
          "model_name": "LayoutModel",
          "model_module_version": "1.2.0",
          "state": {
            "_model_module": "@jupyter-widgets/base",
            "_model_module_version": "1.2.0",
            "_model_name": "LayoutModel",
            "_view_count": null,
            "_view_module": "@jupyter-widgets/base",
            "_view_module_version": "1.2.0",
            "_view_name": "LayoutView",
            "align_content": null,
            "align_items": null,
            "align_self": null,
            "border": null,
            "bottom": null,
            "display": null,
            "flex": null,
            "flex_flow": null,
            "grid_area": null,
            "grid_auto_columns": null,
            "grid_auto_flow": null,
            "grid_auto_rows": null,
            "grid_column": null,
            "grid_gap": null,
            "grid_row": null,
            "grid_template_areas": null,
            "grid_template_columns": null,
            "grid_template_rows": null,
            "height": null,
            "justify_content": null,
            "justify_items": null,
            "left": null,
            "margin": null,
            "max_height": null,
            "max_width": null,
            "min_height": null,
            "min_width": null,
            "object_fit": null,
            "object_position": null,
            "order": null,
            "overflow": null,
            "overflow_x": null,
            "overflow_y": null,
            "padding": null,
            "right": null,
            "top": null,
            "visibility": null,
            "width": null
          }
        },
        "c87272fcc0394448adca4e354d8bb385": {
          "model_module": "@jupyter-widgets/controls",
          "model_name": "ProgressStyleModel",
          "model_module_version": "1.5.0",
          "state": {
            "_model_module": "@jupyter-widgets/controls",
            "_model_module_version": "1.5.0",
            "_model_name": "ProgressStyleModel",
            "_view_count": null,
            "_view_module": "@jupyter-widgets/base",
            "_view_module_version": "1.2.0",
            "_view_name": "StyleView",
            "bar_color": null,
            "description_width": ""
          }
        },
        "f88c65cc945942fcb74f03acbe966551": {
          "model_module": "@jupyter-widgets/base",
          "model_name": "LayoutModel",
          "model_module_version": "1.2.0",
          "state": {
            "_model_module": "@jupyter-widgets/base",
            "_model_module_version": "1.2.0",
            "_model_name": "LayoutModel",
            "_view_count": null,
            "_view_module": "@jupyter-widgets/base",
            "_view_module_version": "1.2.0",
            "_view_name": "LayoutView",
            "align_content": null,
            "align_items": null,
            "align_self": null,
            "border": null,
            "bottom": null,
            "display": null,
            "flex": null,
            "flex_flow": null,
            "grid_area": null,
            "grid_auto_columns": null,
            "grid_auto_flow": null,
            "grid_auto_rows": null,
            "grid_column": null,
            "grid_gap": null,
            "grid_row": null,
            "grid_template_areas": null,
            "grid_template_columns": null,
            "grid_template_rows": null,
            "height": null,
            "justify_content": null,
            "justify_items": null,
            "left": null,
            "margin": null,
            "max_height": null,
            "max_width": null,
            "min_height": null,
            "min_width": null,
            "object_fit": null,
            "object_position": null,
            "order": null,
            "overflow": null,
            "overflow_x": null,
            "overflow_y": null,
            "padding": null,
            "right": null,
            "top": null,
            "visibility": null,
            "width": null
          }
        },
        "923975a4d76b48cebe32df3faa72a54c": {
          "model_module": "@jupyter-widgets/controls",
          "model_name": "DescriptionStyleModel",
          "model_module_version": "1.5.0",
          "state": {
            "_model_module": "@jupyter-widgets/controls",
            "_model_module_version": "1.5.0",
            "_model_name": "DescriptionStyleModel",
            "_view_count": null,
            "_view_module": "@jupyter-widgets/base",
            "_view_module_version": "1.2.0",
            "_view_name": "StyleView",
            "description_width": ""
          }
        },
        "1f02517786b944acaaef263b03b5206d": {
          "model_module": "@jupyter-widgets/controls",
          "model_name": "HBoxModel",
          "model_module_version": "1.5.0",
          "state": {
            "_dom_classes": [],
            "_model_module": "@jupyter-widgets/controls",
            "_model_module_version": "1.5.0",
            "_model_name": "HBoxModel",
            "_view_count": null,
            "_view_module": "@jupyter-widgets/controls",
            "_view_module_version": "1.5.0",
            "_view_name": "HBoxView",
            "box_style": "",
            "children": [
              "IPY_MODEL_c5d4103521a94ab08db7e16473584320",
              "IPY_MODEL_559f0d6e251044a9a2db49a62f558d4e",
              "IPY_MODEL_4264a24f16a743299aae4a717aa1103d"
            ],
            "layout": "IPY_MODEL_02308d8a81cd4c78a3ff3d96b9b70c40"
          }
        },
        "c5d4103521a94ab08db7e16473584320": {
          "model_module": "@jupyter-widgets/controls",
          "model_name": "HTMLModel",
          "model_module_version": "1.5.0",
          "state": {
            "_dom_classes": [],
            "_model_module": "@jupyter-widgets/controls",
            "_model_module_version": "1.5.0",
            "_model_name": "HTMLModel",
            "_view_count": null,
            "_view_module": "@jupyter-widgets/controls",
            "_view_module_version": "1.5.0",
            "_view_name": "HTMLView",
            "description": "",
            "description_tooltip": null,
            "layout": "IPY_MODEL_93e91b4c3b6741e8ac2359d9c64d82ea",
            "placeholder": "​",
            "style": "IPY_MODEL_184b7cfa0d1d4672ac13a5996c55b868",
            "value": "tokenizer_config.json: 100%"
          }
        },
        "559f0d6e251044a9a2db49a62f558d4e": {
          "model_module": "@jupyter-widgets/controls",
          "model_name": "FloatProgressModel",
          "model_module_version": "1.5.0",
          "state": {
            "_dom_classes": [],
            "_model_module": "@jupyter-widgets/controls",
            "_model_module_version": "1.5.0",
            "_model_name": "FloatProgressModel",
            "_view_count": null,
            "_view_module": "@jupyter-widgets/controls",
            "_view_module_version": "1.5.0",
            "_view_name": "ProgressView",
            "bar_style": "success",
            "description": "",
            "description_tooltip": null,
            "layout": "IPY_MODEL_c98984a5d9ad43fda1aac7bc0969b27b",
            "max": 25,
            "min": 0,
            "orientation": "horizontal",
            "style": "IPY_MODEL_4ec44c7d4dc34e1a8f1faef4ab19297b",
            "value": 25
          }
        },
        "4264a24f16a743299aae4a717aa1103d": {
          "model_module": "@jupyter-widgets/controls",
          "model_name": "HTMLModel",
          "model_module_version": "1.5.0",
          "state": {
            "_dom_classes": [],
            "_model_module": "@jupyter-widgets/controls",
            "_model_module_version": "1.5.0",
            "_model_name": "HTMLModel",
            "_view_count": null,
            "_view_module": "@jupyter-widgets/controls",
            "_view_module_version": "1.5.0",
            "_view_name": "HTMLView",
            "description": "",
            "description_tooltip": null,
            "layout": "IPY_MODEL_5f3fb7ecbcf44a93aa857e05453d0edb",
            "placeholder": "​",
            "style": "IPY_MODEL_eb0042f9fd394ba2ae65c5ca30b0fa84",
            "value": " 25.0/25.0 [00:00&lt;00:00, 2.96kB/s]"
          }
        },
        "02308d8a81cd4c78a3ff3d96b9b70c40": {
          "model_module": "@jupyter-widgets/base",
          "model_name": "LayoutModel",
          "model_module_version": "1.2.0",
          "state": {
            "_model_module": "@jupyter-widgets/base",
            "_model_module_version": "1.2.0",
            "_model_name": "LayoutModel",
            "_view_count": null,
            "_view_module": "@jupyter-widgets/base",
            "_view_module_version": "1.2.0",
            "_view_name": "LayoutView",
            "align_content": null,
            "align_items": null,
            "align_self": null,
            "border": null,
            "bottom": null,
            "display": null,
            "flex": null,
            "flex_flow": null,
            "grid_area": null,
            "grid_auto_columns": null,
            "grid_auto_flow": null,
            "grid_auto_rows": null,
            "grid_column": null,
            "grid_gap": null,
            "grid_row": null,
            "grid_template_areas": null,
            "grid_template_columns": null,
            "grid_template_rows": null,
            "height": null,
            "justify_content": null,
            "justify_items": null,
            "left": null,
            "margin": null,
            "max_height": null,
            "max_width": null,
            "min_height": null,
            "min_width": null,
            "object_fit": null,
            "object_position": null,
            "order": null,
            "overflow": null,
            "overflow_x": null,
            "overflow_y": null,
            "padding": null,
            "right": null,
            "top": null,
            "visibility": null,
            "width": null
          }
        },
        "93e91b4c3b6741e8ac2359d9c64d82ea": {
          "model_module": "@jupyter-widgets/base",
          "model_name": "LayoutModel",
          "model_module_version": "1.2.0",
          "state": {
            "_model_module": "@jupyter-widgets/base",
            "_model_module_version": "1.2.0",
            "_model_name": "LayoutModel",
            "_view_count": null,
            "_view_module": "@jupyter-widgets/base",
            "_view_module_version": "1.2.0",
            "_view_name": "LayoutView",
            "align_content": null,
            "align_items": null,
            "align_self": null,
            "border": null,
            "bottom": null,
            "display": null,
            "flex": null,
            "flex_flow": null,
            "grid_area": null,
            "grid_auto_columns": null,
            "grid_auto_flow": null,
            "grid_auto_rows": null,
            "grid_column": null,
            "grid_gap": null,
            "grid_row": null,
            "grid_template_areas": null,
            "grid_template_columns": null,
            "grid_template_rows": null,
            "height": null,
            "justify_content": null,
            "justify_items": null,
            "left": null,
            "margin": null,
            "max_height": null,
            "max_width": null,
            "min_height": null,
            "min_width": null,
            "object_fit": null,
            "object_position": null,
            "order": null,
            "overflow": null,
            "overflow_x": null,
            "overflow_y": null,
            "padding": null,
            "right": null,
            "top": null,
            "visibility": null,
            "width": null
          }
        },
        "184b7cfa0d1d4672ac13a5996c55b868": {
          "model_module": "@jupyter-widgets/controls",
          "model_name": "DescriptionStyleModel",
          "model_module_version": "1.5.0",
          "state": {
            "_model_module": "@jupyter-widgets/controls",
            "_model_module_version": "1.5.0",
            "_model_name": "DescriptionStyleModel",
            "_view_count": null,
            "_view_module": "@jupyter-widgets/base",
            "_view_module_version": "1.2.0",
            "_view_name": "StyleView",
            "description_width": ""
          }
        },
        "c98984a5d9ad43fda1aac7bc0969b27b": {
          "model_module": "@jupyter-widgets/base",
          "model_name": "LayoutModel",
          "model_module_version": "1.2.0",
          "state": {
            "_model_module": "@jupyter-widgets/base",
            "_model_module_version": "1.2.0",
            "_model_name": "LayoutModel",
            "_view_count": null,
            "_view_module": "@jupyter-widgets/base",
            "_view_module_version": "1.2.0",
            "_view_name": "LayoutView",
            "align_content": null,
            "align_items": null,
            "align_self": null,
            "border": null,
            "bottom": null,
            "display": null,
            "flex": null,
            "flex_flow": null,
            "grid_area": null,
            "grid_auto_columns": null,
            "grid_auto_flow": null,
            "grid_auto_rows": null,
            "grid_column": null,
            "grid_gap": null,
            "grid_row": null,
            "grid_template_areas": null,
            "grid_template_columns": null,
            "grid_template_rows": null,
            "height": null,
            "justify_content": null,
            "justify_items": null,
            "left": null,
            "margin": null,
            "max_height": null,
            "max_width": null,
            "min_height": null,
            "min_width": null,
            "object_fit": null,
            "object_position": null,
            "order": null,
            "overflow": null,
            "overflow_x": null,
            "overflow_y": null,
            "padding": null,
            "right": null,
            "top": null,
            "visibility": null,
            "width": null
          }
        },
        "4ec44c7d4dc34e1a8f1faef4ab19297b": {
          "model_module": "@jupyter-widgets/controls",
          "model_name": "ProgressStyleModel",
          "model_module_version": "1.5.0",
          "state": {
            "_model_module": "@jupyter-widgets/controls",
            "_model_module_version": "1.5.0",
            "_model_name": "ProgressStyleModel",
            "_view_count": null,
            "_view_module": "@jupyter-widgets/base",
            "_view_module_version": "1.2.0",
            "_view_name": "StyleView",
            "bar_color": null,
            "description_width": ""
          }
        },
        "5f3fb7ecbcf44a93aa857e05453d0edb": {
          "model_module": "@jupyter-widgets/base",
          "model_name": "LayoutModel",
          "model_module_version": "1.2.0",
          "state": {
            "_model_module": "@jupyter-widgets/base",
            "_model_module_version": "1.2.0",
            "_model_name": "LayoutModel",
            "_view_count": null,
            "_view_module": "@jupyter-widgets/base",
            "_view_module_version": "1.2.0",
            "_view_name": "LayoutView",
            "align_content": null,
            "align_items": null,
            "align_self": null,
            "border": null,
            "bottom": null,
            "display": null,
            "flex": null,
            "flex_flow": null,
            "grid_area": null,
            "grid_auto_columns": null,
            "grid_auto_flow": null,
            "grid_auto_rows": null,
            "grid_column": null,
            "grid_gap": null,
            "grid_row": null,
            "grid_template_areas": null,
            "grid_template_columns": null,
            "grid_template_rows": null,
            "height": null,
            "justify_content": null,
            "justify_items": null,
            "left": null,
            "margin": null,
            "max_height": null,
            "max_width": null,
            "min_height": null,
            "min_width": null,
            "object_fit": null,
            "object_position": null,
            "order": null,
            "overflow": null,
            "overflow_x": null,
            "overflow_y": null,
            "padding": null,
            "right": null,
            "top": null,
            "visibility": null,
            "width": null
          }
        },
        "eb0042f9fd394ba2ae65c5ca30b0fa84": {
          "model_module": "@jupyter-widgets/controls",
          "model_name": "DescriptionStyleModel",
          "model_module_version": "1.5.0",
          "state": {
            "_model_module": "@jupyter-widgets/controls",
            "_model_module_version": "1.5.0",
            "_model_name": "DescriptionStyleModel",
            "_view_count": null,
            "_view_module": "@jupyter-widgets/base",
            "_view_module_version": "1.2.0",
            "_view_name": "StyleView",
            "description_width": ""
          }
        },
        "7a6b0b2194be47069ceabb1048eee423": {
          "model_module": "@jupyter-widgets/controls",
          "model_name": "HBoxModel",
          "model_module_version": "1.5.0",
          "state": {
            "_dom_classes": [],
            "_model_module": "@jupyter-widgets/controls",
            "_model_module_version": "1.5.0",
            "_model_name": "HBoxModel",
            "_view_count": null,
            "_view_module": "@jupyter-widgets/controls",
            "_view_module_version": "1.5.0",
            "_view_name": "HBoxView",
            "box_style": "",
            "children": [
              "IPY_MODEL_7d2fb7f35379455db5c5cb42e86dacb4",
              "IPY_MODEL_b0dbd22033484e289b05d943d0777dff",
              "IPY_MODEL_5d478b53b35a4ac8ac3facb68685729c"
            ],
            "layout": "IPY_MODEL_9a0c5ac742e84d6a9f36170cdfc03f60"
          }
        },
        "7d2fb7f35379455db5c5cb42e86dacb4": {
          "model_module": "@jupyter-widgets/controls",
          "model_name": "HTMLModel",
          "model_module_version": "1.5.0",
          "state": {
            "_dom_classes": [],
            "_model_module": "@jupyter-widgets/controls",
            "_model_module_version": "1.5.0",
            "_model_name": "HTMLModel",
            "_view_count": null,
            "_view_module": "@jupyter-widgets/controls",
            "_view_module_version": "1.5.0",
            "_view_name": "HTMLView",
            "description": "",
            "description_tooltip": null,
            "layout": "IPY_MODEL_4641540eea364ab28fead828628f685a",
            "placeholder": "​",
            "style": "IPY_MODEL_63db6f38600147bf9ca72d8fbee74cb8",
            "value": "config.json: 100%"
          }
        },
        "b0dbd22033484e289b05d943d0777dff": {
          "model_module": "@jupyter-widgets/controls",
          "model_name": "FloatProgressModel",
          "model_module_version": "1.5.0",
          "state": {
            "_dom_classes": [],
            "_model_module": "@jupyter-widgets/controls",
            "_model_module_version": "1.5.0",
            "_model_name": "FloatProgressModel",
            "_view_count": null,
            "_view_module": "@jupyter-widgets/controls",
            "_view_module_version": "1.5.0",
            "_view_name": "ProgressView",
            "bar_style": "success",
            "description": "",
            "description_tooltip": null,
            "layout": "IPY_MODEL_20da8b431ca847a2ba8d1fdcef7cc9d3",
            "max": 481,
            "min": 0,
            "orientation": "horizontal",
            "style": "IPY_MODEL_9ac6fa3c691e45cab0cc416b6ad0f0b6",
            "value": 481
          }
        },
        "5d478b53b35a4ac8ac3facb68685729c": {
          "model_module": "@jupyter-widgets/controls",
          "model_name": "HTMLModel",
          "model_module_version": "1.5.0",
          "state": {
            "_dom_classes": [],
            "_model_module": "@jupyter-widgets/controls",
            "_model_module_version": "1.5.0",
            "_model_name": "HTMLModel",
            "_view_count": null,
            "_view_module": "@jupyter-widgets/controls",
            "_view_module_version": "1.5.0",
            "_view_name": "HTMLView",
            "description": "",
            "description_tooltip": null,
            "layout": "IPY_MODEL_2dbbbeac4cb946e6b0a364e169f0eaf5",
            "placeholder": "​",
            "style": "IPY_MODEL_60ae02adfea04a82a55d785f01b3824e",
            "value": " 481/481 [00:00&lt;00:00, 46.5kB/s]"
          }
        },
        "9a0c5ac742e84d6a9f36170cdfc03f60": {
          "model_module": "@jupyter-widgets/base",
          "model_name": "LayoutModel",
          "model_module_version": "1.2.0",
          "state": {
            "_model_module": "@jupyter-widgets/base",
            "_model_module_version": "1.2.0",
            "_model_name": "LayoutModel",
            "_view_count": null,
            "_view_module": "@jupyter-widgets/base",
            "_view_module_version": "1.2.0",
            "_view_name": "LayoutView",
            "align_content": null,
            "align_items": null,
            "align_self": null,
            "border": null,
            "bottom": null,
            "display": null,
            "flex": null,
            "flex_flow": null,
            "grid_area": null,
            "grid_auto_columns": null,
            "grid_auto_flow": null,
            "grid_auto_rows": null,
            "grid_column": null,
            "grid_gap": null,
            "grid_row": null,
            "grid_template_areas": null,
            "grid_template_columns": null,
            "grid_template_rows": null,
            "height": null,
            "justify_content": null,
            "justify_items": null,
            "left": null,
            "margin": null,
            "max_height": null,
            "max_width": null,
            "min_height": null,
            "min_width": null,
            "object_fit": null,
            "object_position": null,
            "order": null,
            "overflow": null,
            "overflow_x": null,
            "overflow_y": null,
            "padding": null,
            "right": null,
            "top": null,
            "visibility": null,
            "width": null
          }
        },
        "4641540eea364ab28fead828628f685a": {
          "model_module": "@jupyter-widgets/base",
          "model_name": "LayoutModel",
          "model_module_version": "1.2.0",
          "state": {
            "_model_module": "@jupyter-widgets/base",
            "_model_module_version": "1.2.0",
            "_model_name": "LayoutModel",
            "_view_count": null,
            "_view_module": "@jupyter-widgets/base",
            "_view_module_version": "1.2.0",
            "_view_name": "LayoutView",
            "align_content": null,
            "align_items": null,
            "align_self": null,
            "border": null,
            "bottom": null,
            "display": null,
            "flex": null,
            "flex_flow": null,
            "grid_area": null,
            "grid_auto_columns": null,
            "grid_auto_flow": null,
            "grid_auto_rows": null,
            "grid_column": null,
            "grid_gap": null,
            "grid_row": null,
            "grid_template_areas": null,
            "grid_template_columns": null,
            "grid_template_rows": null,
            "height": null,
            "justify_content": null,
            "justify_items": null,
            "left": null,
            "margin": null,
            "max_height": null,
            "max_width": null,
            "min_height": null,
            "min_width": null,
            "object_fit": null,
            "object_position": null,
            "order": null,
            "overflow": null,
            "overflow_x": null,
            "overflow_y": null,
            "padding": null,
            "right": null,
            "top": null,
            "visibility": null,
            "width": null
          }
        },
        "63db6f38600147bf9ca72d8fbee74cb8": {
          "model_module": "@jupyter-widgets/controls",
          "model_name": "DescriptionStyleModel",
          "model_module_version": "1.5.0",
          "state": {
            "_model_module": "@jupyter-widgets/controls",
            "_model_module_version": "1.5.0",
            "_model_name": "DescriptionStyleModel",
            "_view_count": null,
            "_view_module": "@jupyter-widgets/base",
            "_view_module_version": "1.2.0",
            "_view_name": "StyleView",
            "description_width": ""
          }
        },
        "20da8b431ca847a2ba8d1fdcef7cc9d3": {
          "model_module": "@jupyter-widgets/base",
          "model_name": "LayoutModel",
          "model_module_version": "1.2.0",
          "state": {
            "_model_module": "@jupyter-widgets/base",
            "_model_module_version": "1.2.0",
            "_model_name": "LayoutModel",
            "_view_count": null,
            "_view_module": "@jupyter-widgets/base",
            "_view_module_version": "1.2.0",
            "_view_name": "LayoutView",
            "align_content": null,
            "align_items": null,
            "align_self": null,
            "border": null,
            "bottom": null,
            "display": null,
            "flex": null,
            "flex_flow": null,
            "grid_area": null,
            "grid_auto_columns": null,
            "grid_auto_flow": null,
            "grid_auto_rows": null,
            "grid_column": null,
            "grid_gap": null,
            "grid_row": null,
            "grid_template_areas": null,
            "grid_template_columns": null,
            "grid_template_rows": null,
            "height": null,
            "justify_content": null,
            "justify_items": null,
            "left": null,
            "margin": null,
            "max_height": null,
            "max_width": null,
            "min_height": null,
            "min_width": null,
            "object_fit": null,
            "object_position": null,
            "order": null,
            "overflow": null,
            "overflow_x": null,
            "overflow_y": null,
            "padding": null,
            "right": null,
            "top": null,
            "visibility": null,
            "width": null
          }
        },
        "9ac6fa3c691e45cab0cc416b6ad0f0b6": {
          "model_module": "@jupyter-widgets/controls",
          "model_name": "ProgressStyleModel",
          "model_module_version": "1.5.0",
          "state": {
            "_model_module": "@jupyter-widgets/controls",
            "_model_module_version": "1.5.0",
            "_model_name": "ProgressStyleModel",
            "_view_count": null,
            "_view_module": "@jupyter-widgets/base",
            "_view_module_version": "1.2.0",
            "_view_name": "StyleView",
            "bar_color": null,
            "description_width": ""
          }
        },
        "2dbbbeac4cb946e6b0a364e169f0eaf5": {
          "model_module": "@jupyter-widgets/base",
          "model_name": "LayoutModel",
          "model_module_version": "1.2.0",
          "state": {
            "_model_module": "@jupyter-widgets/base",
            "_model_module_version": "1.2.0",
            "_model_name": "LayoutModel",
            "_view_count": null,
            "_view_module": "@jupyter-widgets/base",
            "_view_module_version": "1.2.0",
            "_view_name": "LayoutView",
            "align_content": null,
            "align_items": null,
            "align_self": null,
            "border": null,
            "bottom": null,
            "display": null,
            "flex": null,
            "flex_flow": null,
            "grid_area": null,
            "grid_auto_columns": null,
            "grid_auto_flow": null,
            "grid_auto_rows": null,
            "grid_column": null,
            "grid_gap": null,
            "grid_row": null,
            "grid_template_areas": null,
            "grid_template_columns": null,
            "grid_template_rows": null,
            "height": null,
            "justify_content": null,
            "justify_items": null,
            "left": null,
            "margin": null,
            "max_height": null,
            "max_width": null,
            "min_height": null,
            "min_width": null,
            "object_fit": null,
            "object_position": null,
            "order": null,
            "overflow": null,
            "overflow_x": null,
            "overflow_y": null,
            "padding": null,
            "right": null,
            "top": null,
            "visibility": null,
            "width": null
          }
        },
        "60ae02adfea04a82a55d785f01b3824e": {
          "model_module": "@jupyter-widgets/controls",
          "model_name": "DescriptionStyleModel",
          "model_module_version": "1.5.0",
          "state": {
            "_model_module": "@jupyter-widgets/controls",
            "_model_module_version": "1.5.0",
            "_model_name": "DescriptionStyleModel",
            "_view_count": null,
            "_view_module": "@jupyter-widgets/base",
            "_view_module_version": "1.2.0",
            "_view_name": "StyleView",
            "description_width": ""
          }
        },
        "6587b0da53724c4998301caddf5a5a52": {
          "model_module": "@jupyter-widgets/controls",
          "model_name": "HBoxModel",
          "model_module_version": "1.5.0",
          "state": {
            "_dom_classes": [],
            "_model_module": "@jupyter-widgets/controls",
            "_model_module_version": "1.5.0",
            "_model_name": "HBoxModel",
            "_view_count": null,
            "_view_module": "@jupyter-widgets/controls",
            "_view_module_version": "1.5.0",
            "_view_name": "HBoxView",
            "box_style": "",
            "children": [
              "IPY_MODEL_035f49d2a3834f65a43957c57e39fbb8",
              "IPY_MODEL_dfb645621d044bc38594a281949571fe",
              "IPY_MODEL_6078ad3547994b0983047ad9a94eb9f1"
            ],
            "layout": "IPY_MODEL_f43dedf5a7ac4cdb92f341d49ac8464e"
          }
        },
        "035f49d2a3834f65a43957c57e39fbb8": {
          "model_module": "@jupyter-widgets/controls",
          "model_name": "HTMLModel",
          "model_module_version": "1.5.0",
          "state": {
            "_dom_classes": [],
            "_model_module": "@jupyter-widgets/controls",
            "_model_module_version": "1.5.0",
            "_model_name": "HTMLModel",
            "_view_count": null,
            "_view_module": "@jupyter-widgets/controls",
            "_view_module_version": "1.5.0",
            "_view_name": "HTMLView",
            "description": "",
            "description_tooltip": null,
            "layout": "IPY_MODEL_b3238e07b6cf415eb12c92728ea3f6c2",
            "placeholder": "​",
            "style": "IPY_MODEL_bb845e1d2d82478aab010a5f97fc3a88",
            "value": "vocab.json: 100%"
          }
        },
        "dfb645621d044bc38594a281949571fe": {
          "model_module": "@jupyter-widgets/controls",
          "model_name": "FloatProgressModel",
          "model_module_version": "1.5.0",
          "state": {
            "_dom_classes": [],
            "_model_module": "@jupyter-widgets/controls",
            "_model_module_version": "1.5.0",
            "_model_name": "FloatProgressModel",
            "_view_count": null,
            "_view_module": "@jupyter-widgets/controls",
            "_view_module_version": "1.5.0",
            "_view_name": "ProgressView",
            "bar_style": "success",
            "description": "",
            "description_tooltip": null,
            "layout": "IPY_MODEL_483f2950ffed4602bb4f36c634171f4f",
            "max": 898823,
            "min": 0,
            "orientation": "horizontal",
            "style": "IPY_MODEL_09aa53eddf7442b285422f619e24c3ba",
            "value": 898823
          }
        },
        "6078ad3547994b0983047ad9a94eb9f1": {
          "model_module": "@jupyter-widgets/controls",
          "model_name": "HTMLModel",
          "model_module_version": "1.5.0",
          "state": {
            "_dom_classes": [],
            "_model_module": "@jupyter-widgets/controls",
            "_model_module_version": "1.5.0",
            "_model_name": "HTMLModel",
            "_view_count": null,
            "_view_module": "@jupyter-widgets/controls",
            "_view_module_version": "1.5.0",
            "_view_name": "HTMLView",
            "description": "",
            "description_tooltip": null,
            "layout": "IPY_MODEL_8df2a4469d5e47dfbab5d2bf281e73b3",
            "placeholder": "​",
            "style": "IPY_MODEL_9a69de27e8934581b73ef037099e2885",
            "value": " 899k/899k [00:00&lt;00:00, 3.55MB/s]"
          }
        },
        "f43dedf5a7ac4cdb92f341d49ac8464e": {
          "model_module": "@jupyter-widgets/base",
          "model_name": "LayoutModel",
          "model_module_version": "1.2.0",
          "state": {
            "_model_module": "@jupyter-widgets/base",
            "_model_module_version": "1.2.0",
            "_model_name": "LayoutModel",
            "_view_count": null,
            "_view_module": "@jupyter-widgets/base",
            "_view_module_version": "1.2.0",
            "_view_name": "LayoutView",
            "align_content": null,
            "align_items": null,
            "align_self": null,
            "border": null,
            "bottom": null,
            "display": null,
            "flex": null,
            "flex_flow": null,
            "grid_area": null,
            "grid_auto_columns": null,
            "grid_auto_flow": null,
            "grid_auto_rows": null,
            "grid_column": null,
            "grid_gap": null,
            "grid_row": null,
            "grid_template_areas": null,
            "grid_template_columns": null,
            "grid_template_rows": null,
            "height": null,
            "justify_content": null,
            "justify_items": null,
            "left": null,
            "margin": null,
            "max_height": null,
            "max_width": null,
            "min_height": null,
            "min_width": null,
            "object_fit": null,
            "object_position": null,
            "order": null,
            "overflow": null,
            "overflow_x": null,
            "overflow_y": null,
            "padding": null,
            "right": null,
            "top": null,
            "visibility": null,
            "width": null
          }
        },
        "b3238e07b6cf415eb12c92728ea3f6c2": {
          "model_module": "@jupyter-widgets/base",
          "model_name": "LayoutModel",
          "model_module_version": "1.2.0",
          "state": {
            "_model_module": "@jupyter-widgets/base",
            "_model_module_version": "1.2.0",
            "_model_name": "LayoutModel",
            "_view_count": null,
            "_view_module": "@jupyter-widgets/base",
            "_view_module_version": "1.2.0",
            "_view_name": "LayoutView",
            "align_content": null,
            "align_items": null,
            "align_self": null,
            "border": null,
            "bottom": null,
            "display": null,
            "flex": null,
            "flex_flow": null,
            "grid_area": null,
            "grid_auto_columns": null,
            "grid_auto_flow": null,
            "grid_auto_rows": null,
            "grid_column": null,
            "grid_gap": null,
            "grid_row": null,
            "grid_template_areas": null,
            "grid_template_columns": null,
            "grid_template_rows": null,
            "height": null,
            "justify_content": null,
            "justify_items": null,
            "left": null,
            "margin": null,
            "max_height": null,
            "max_width": null,
            "min_height": null,
            "min_width": null,
            "object_fit": null,
            "object_position": null,
            "order": null,
            "overflow": null,
            "overflow_x": null,
            "overflow_y": null,
            "padding": null,
            "right": null,
            "top": null,
            "visibility": null,
            "width": null
          }
        },
        "bb845e1d2d82478aab010a5f97fc3a88": {
          "model_module": "@jupyter-widgets/controls",
          "model_name": "DescriptionStyleModel",
          "model_module_version": "1.5.0",
          "state": {
            "_model_module": "@jupyter-widgets/controls",
            "_model_module_version": "1.5.0",
            "_model_name": "DescriptionStyleModel",
            "_view_count": null,
            "_view_module": "@jupyter-widgets/base",
            "_view_module_version": "1.2.0",
            "_view_name": "StyleView",
            "description_width": ""
          }
        },
        "483f2950ffed4602bb4f36c634171f4f": {
          "model_module": "@jupyter-widgets/base",
          "model_name": "LayoutModel",
          "model_module_version": "1.2.0",
          "state": {
            "_model_module": "@jupyter-widgets/base",
            "_model_module_version": "1.2.0",
            "_model_name": "LayoutModel",
            "_view_count": null,
            "_view_module": "@jupyter-widgets/base",
            "_view_module_version": "1.2.0",
            "_view_name": "LayoutView",
            "align_content": null,
            "align_items": null,
            "align_self": null,
            "border": null,
            "bottom": null,
            "display": null,
            "flex": null,
            "flex_flow": null,
            "grid_area": null,
            "grid_auto_columns": null,
            "grid_auto_flow": null,
            "grid_auto_rows": null,
            "grid_column": null,
            "grid_gap": null,
            "grid_row": null,
            "grid_template_areas": null,
            "grid_template_columns": null,
            "grid_template_rows": null,
            "height": null,
            "justify_content": null,
            "justify_items": null,
            "left": null,
            "margin": null,
            "max_height": null,
            "max_width": null,
            "min_height": null,
            "min_width": null,
            "object_fit": null,
            "object_position": null,
            "order": null,
            "overflow": null,
            "overflow_x": null,
            "overflow_y": null,
            "padding": null,
            "right": null,
            "top": null,
            "visibility": null,
            "width": null
          }
        },
        "09aa53eddf7442b285422f619e24c3ba": {
          "model_module": "@jupyter-widgets/controls",
          "model_name": "ProgressStyleModel",
          "model_module_version": "1.5.0",
          "state": {
            "_model_module": "@jupyter-widgets/controls",
            "_model_module_version": "1.5.0",
            "_model_name": "ProgressStyleModel",
            "_view_count": null,
            "_view_module": "@jupyter-widgets/base",
            "_view_module_version": "1.2.0",
            "_view_name": "StyleView",
            "bar_color": null,
            "description_width": ""
          }
        },
        "8df2a4469d5e47dfbab5d2bf281e73b3": {
          "model_module": "@jupyter-widgets/base",
          "model_name": "LayoutModel",
          "model_module_version": "1.2.0",
          "state": {
            "_model_module": "@jupyter-widgets/base",
            "_model_module_version": "1.2.0",
            "_model_name": "LayoutModel",
            "_view_count": null,
            "_view_module": "@jupyter-widgets/base",
            "_view_module_version": "1.2.0",
            "_view_name": "LayoutView",
            "align_content": null,
            "align_items": null,
            "align_self": null,
            "border": null,
            "bottom": null,
            "display": null,
            "flex": null,
            "flex_flow": null,
            "grid_area": null,
            "grid_auto_columns": null,
            "grid_auto_flow": null,
            "grid_auto_rows": null,
            "grid_column": null,
            "grid_gap": null,
            "grid_row": null,
            "grid_template_areas": null,
            "grid_template_columns": null,
            "grid_template_rows": null,
            "height": null,
            "justify_content": null,
            "justify_items": null,
            "left": null,
            "margin": null,
            "max_height": null,
            "max_width": null,
            "min_height": null,
            "min_width": null,
            "object_fit": null,
            "object_position": null,
            "order": null,
            "overflow": null,
            "overflow_x": null,
            "overflow_y": null,
            "padding": null,
            "right": null,
            "top": null,
            "visibility": null,
            "width": null
          }
        },
        "9a69de27e8934581b73ef037099e2885": {
          "model_module": "@jupyter-widgets/controls",
          "model_name": "DescriptionStyleModel",
          "model_module_version": "1.5.0",
          "state": {
            "_model_module": "@jupyter-widgets/controls",
            "_model_module_version": "1.5.0",
            "_model_name": "DescriptionStyleModel",
            "_view_count": null,
            "_view_module": "@jupyter-widgets/base",
            "_view_module_version": "1.2.0",
            "_view_name": "StyleView",
            "description_width": ""
          }
        },
        "ec596dcd8fd54bdb8e08fa7291f864c3": {
          "model_module": "@jupyter-widgets/controls",
          "model_name": "HBoxModel",
          "model_module_version": "1.5.0",
          "state": {
            "_dom_classes": [],
            "_model_module": "@jupyter-widgets/controls",
            "_model_module_version": "1.5.0",
            "_model_name": "HBoxModel",
            "_view_count": null,
            "_view_module": "@jupyter-widgets/controls",
            "_view_module_version": "1.5.0",
            "_view_name": "HBoxView",
            "box_style": "",
            "children": [
              "IPY_MODEL_eeeb21c13f1a4d75b0790f5f1dad9969",
              "IPY_MODEL_9d94e1f4f48f47efaf40147afb602f3f",
              "IPY_MODEL_03a07c6ad3c0453c86dcc99323476a73"
            ],
            "layout": "IPY_MODEL_120e5a43fd784d6f88b55820f91107ea"
          }
        },
        "eeeb21c13f1a4d75b0790f5f1dad9969": {
          "model_module": "@jupyter-widgets/controls",
          "model_name": "HTMLModel",
          "model_module_version": "1.5.0",
          "state": {
            "_dom_classes": [],
            "_model_module": "@jupyter-widgets/controls",
            "_model_module_version": "1.5.0",
            "_model_name": "HTMLModel",
            "_view_count": null,
            "_view_module": "@jupyter-widgets/controls",
            "_view_module_version": "1.5.0",
            "_view_name": "HTMLView",
            "description": "",
            "description_tooltip": null,
            "layout": "IPY_MODEL_06b129bf9c784b3a84ad6ea12d0830b7",
            "placeholder": "​",
            "style": "IPY_MODEL_4ecf544d681b48309652b0431253a741",
            "value": "merges.txt: 100%"
          }
        },
        "9d94e1f4f48f47efaf40147afb602f3f": {
          "model_module": "@jupyter-widgets/controls",
          "model_name": "FloatProgressModel",
          "model_module_version": "1.5.0",
          "state": {
            "_dom_classes": [],
            "_model_module": "@jupyter-widgets/controls",
            "_model_module_version": "1.5.0",
            "_model_name": "FloatProgressModel",
            "_view_count": null,
            "_view_module": "@jupyter-widgets/controls",
            "_view_module_version": "1.5.0",
            "_view_name": "ProgressView",
            "bar_style": "success",
            "description": "",
            "description_tooltip": null,
            "layout": "IPY_MODEL_0d6b3f7b7be14ed5882ef343669e511c",
            "max": 456318,
            "min": 0,
            "orientation": "horizontal",
            "style": "IPY_MODEL_d9c122f7cb214c0baf962f77d096d0e5",
            "value": 456318
          }
        },
        "03a07c6ad3c0453c86dcc99323476a73": {
          "model_module": "@jupyter-widgets/controls",
          "model_name": "HTMLModel",
          "model_module_version": "1.5.0",
          "state": {
            "_dom_classes": [],
            "_model_module": "@jupyter-widgets/controls",
            "_model_module_version": "1.5.0",
            "_model_name": "HTMLModel",
            "_view_count": null,
            "_view_module": "@jupyter-widgets/controls",
            "_view_module_version": "1.5.0",
            "_view_name": "HTMLView",
            "description": "",
            "description_tooltip": null,
            "layout": "IPY_MODEL_caefd1a7ef87490cb322d92745acecfb",
            "placeholder": "​",
            "style": "IPY_MODEL_a67d932605b64dbe96629130248831aa",
            "value": " 456k/456k [00:00&lt;00:00, 38.3MB/s]"
          }
        },
        "120e5a43fd784d6f88b55820f91107ea": {
          "model_module": "@jupyter-widgets/base",
          "model_name": "LayoutModel",
          "model_module_version": "1.2.0",
          "state": {
            "_model_module": "@jupyter-widgets/base",
            "_model_module_version": "1.2.0",
            "_model_name": "LayoutModel",
            "_view_count": null,
            "_view_module": "@jupyter-widgets/base",
            "_view_module_version": "1.2.0",
            "_view_name": "LayoutView",
            "align_content": null,
            "align_items": null,
            "align_self": null,
            "border": null,
            "bottom": null,
            "display": null,
            "flex": null,
            "flex_flow": null,
            "grid_area": null,
            "grid_auto_columns": null,
            "grid_auto_flow": null,
            "grid_auto_rows": null,
            "grid_column": null,
            "grid_gap": null,
            "grid_row": null,
            "grid_template_areas": null,
            "grid_template_columns": null,
            "grid_template_rows": null,
            "height": null,
            "justify_content": null,
            "justify_items": null,
            "left": null,
            "margin": null,
            "max_height": null,
            "max_width": null,
            "min_height": null,
            "min_width": null,
            "object_fit": null,
            "object_position": null,
            "order": null,
            "overflow": null,
            "overflow_x": null,
            "overflow_y": null,
            "padding": null,
            "right": null,
            "top": null,
            "visibility": null,
            "width": null
          }
        },
        "06b129bf9c784b3a84ad6ea12d0830b7": {
          "model_module": "@jupyter-widgets/base",
          "model_name": "LayoutModel",
          "model_module_version": "1.2.0",
          "state": {
            "_model_module": "@jupyter-widgets/base",
            "_model_module_version": "1.2.0",
            "_model_name": "LayoutModel",
            "_view_count": null,
            "_view_module": "@jupyter-widgets/base",
            "_view_module_version": "1.2.0",
            "_view_name": "LayoutView",
            "align_content": null,
            "align_items": null,
            "align_self": null,
            "border": null,
            "bottom": null,
            "display": null,
            "flex": null,
            "flex_flow": null,
            "grid_area": null,
            "grid_auto_columns": null,
            "grid_auto_flow": null,
            "grid_auto_rows": null,
            "grid_column": null,
            "grid_gap": null,
            "grid_row": null,
            "grid_template_areas": null,
            "grid_template_columns": null,
            "grid_template_rows": null,
            "height": null,
            "justify_content": null,
            "justify_items": null,
            "left": null,
            "margin": null,
            "max_height": null,
            "max_width": null,
            "min_height": null,
            "min_width": null,
            "object_fit": null,
            "object_position": null,
            "order": null,
            "overflow": null,
            "overflow_x": null,
            "overflow_y": null,
            "padding": null,
            "right": null,
            "top": null,
            "visibility": null,
            "width": null
          }
        },
        "4ecf544d681b48309652b0431253a741": {
          "model_module": "@jupyter-widgets/controls",
          "model_name": "DescriptionStyleModel",
          "model_module_version": "1.5.0",
          "state": {
            "_model_module": "@jupyter-widgets/controls",
            "_model_module_version": "1.5.0",
            "_model_name": "DescriptionStyleModel",
            "_view_count": null,
            "_view_module": "@jupyter-widgets/base",
            "_view_module_version": "1.2.0",
            "_view_name": "StyleView",
            "description_width": ""
          }
        },
        "0d6b3f7b7be14ed5882ef343669e511c": {
          "model_module": "@jupyter-widgets/base",
          "model_name": "LayoutModel",
          "model_module_version": "1.2.0",
          "state": {
            "_model_module": "@jupyter-widgets/base",
            "_model_module_version": "1.2.0",
            "_model_name": "LayoutModel",
            "_view_count": null,
            "_view_module": "@jupyter-widgets/base",
            "_view_module_version": "1.2.0",
            "_view_name": "LayoutView",
            "align_content": null,
            "align_items": null,
            "align_self": null,
            "border": null,
            "bottom": null,
            "display": null,
            "flex": null,
            "flex_flow": null,
            "grid_area": null,
            "grid_auto_columns": null,
            "grid_auto_flow": null,
            "grid_auto_rows": null,
            "grid_column": null,
            "grid_gap": null,
            "grid_row": null,
            "grid_template_areas": null,
            "grid_template_columns": null,
            "grid_template_rows": null,
            "height": null,
            "justify_content": null,
            "justify_items": null,
            "left": null,
            "margin": null,
            "max_height": null,
            "max_width": null,
            "min_height": null,
            "min_width": null,
            "object_fit": null,
            "object_position": null,
            "order": null,
            "overflow": null,
            "overflow_x": null,
            "overflow_y": null,
            "padding": null,
            "right": null,
            "top": null,
            "visibility": null,
            "width": null
          }
        },
        "d9c122f7cb214c0baf962f77d096d0e5": {
          "model_module": "@jupyter-widgets/controls",
          "model_name": "ProgressStyleModel",
          "model_module_version": "1.5.0",
          "state": {
            "_model_module": "@jupyter-widgets/controls",
            "_model_module_version": "1.5.0",
            "_model_name": "ProgressStyleModel",
            "_view_count": null,
            "_view_module": "@jupyter-widgets/base",
            "_view_module_version": "1.2.0",
            "_view_name": "StyleView",
            "bar_color": null,
            "description_width": ""
          }
        },
        "caefd1a7ef87490cb322d92745acecfb": {
          "model_module": "@jupyter-widgets/base",
          "model_name": "LayoutModel",
          "model_module_version": "1.2.0",
          "state": {
            "_model_module": "@jupyter-widgets/base",
            "_model_module_version": "1.2.0",
            "_model_name": "LayoutModel",
            "_view_count": null,
            "_view_module": "@jupyter-widgets/base",
            "_view_module_version": "1.2.0",
            "_view_name": "LayoutView",
            "align_content": null,
            "align_items": null,
            "align_self": null,
            "border": null,
            "bottom": null,
            "display": null,
            "flex": null,
            "flex_flow": null,
            "grid_area": null,
            "grid_auto_columns": null,
            "grid_auto_flow": null,
            "grid_auto_rows": null,
            "grid_column": null,
            "grid_gap": null,
            "grid_row": null,
            "grid_template_areas": null,
            "grid_template_columns": null,
            "grid_template_rows": null,
            "height": null,
            "justify_content": null,
            "justify_items": null,
            "left": null,
            "margin": null,
            "max_height": null,
            "max_width": null,
            "min_height": null,
            "min_width": null,
            "object_fit": null,
            "object_position": null,
            "order": null,
            "overflow": null,
            "overflow_x": null,
            "overflow_y": null,
            "padding": null,
            "right": null,
            "top": null,
            "visibility": null,
            "width": null
          }
        },
        "a67d932605b64dbe96629130248831aa": {
          "model_module": "@jupyter-widgets/controls",
          "model_name": "DescriptionStyleModel",
          "model_module_version": "1.5.0",
          "state": {
            "_model_module": "@jupyter-widgets/controls",
            "_model_module_version": "1.5.0",
            "_model_name": "DescriptionStyleModel",
            "_view_count": null,
            "_view_module": "@jupyter-widgets/base",
            "_view_module_version": "1.2.0",
            "_view_name": "StyleView",
            "description_width": ""
          }
        },
        "9a588632a33a44d8a01d1256c2ac921c": {
          "model_module": "@jupyter-widgets/controls",
          "model_name": "HBoxModel",
          "model_module_version": "1.5.0",
          "state": {
            "_dom_classes": [],
            "_model_module": "@jupyter-widgets/controls",
            "_model_module_version": "1.5.0",
            "_model_name": "HBoxModel",
            "_view_count": null,
            "_view_module": "@jupyter-widgets/controls",
            "_view_module_version": "1.5.0",
            "_view_name": "HBoxView",
            "box_style": "",
            "children": [
              "IPY_MODEL_04335e7524ef4187b0d46c5fb1d676ec",
              "IPY_MODEL_2d6a7fcd467c4cc1956818eab4df3c85",
              "IPY_MODEL_088302289a264e79ae336b62a83cd64d"
            ],
            "layout": "IPY_MODEL_bac7c56fdeb449979ddc3baaa0a45d1c"
          }
        },
        "04335e7524ef4187b0d46c5fb1d676ec": {
          "model_module": "@jupyter-widgets/controls",
          "model_name": "HTMLModel",
          "model_module_version": "1.5.0",
          "state": {
            "_dom_classes": [],
            "_model_module": "@jupyter-widgets/controls",
            "_model_module_version": "1.5.0",
            "_model_name": "HTMLModel",
            "_view_count": null,
            "_view_module": "@jupyter-widgets/controls",
            "_view_module_version": "1.5.0",
            "_view_name": "HTMLView",
            "description": "",
            "description_tooltip": null,
            "layout": "IPY_MODEL_ec76dde65ca64e9394d73fa80de4579b",
            "placeholder": "​",
            "style": "IPY_MODEL_29dc57cf3d054ac8bc77cba8b57a6bfa",
            "value": "tokenizer.json: 100%"
          }
        },
        "2d6a7fcd467c4cc1956818eab4df3c85": {
          "model_module": "@jupyter-widgets/controls",
          "model_name": "FloatProgressModel",
          "model_module_version": "1.5.0",
          "state": {
            "_dom_classes": [],
            "_model_module": "@jupyter-widgets/controls",
            "_model_module_version": "1.5.0",
            "_model_name": "FloatProgressModel",
            "_view_count": null,
            "_view_module": "@jupyter-widgets/controls",
            "_view_module_version": "1.5.0",
            "_view_name": "ProgressView",
            "bar_style": "success",
            "description": "",
            "description_tooltip": null,
            "layout": "IPY_MODEL_d417a72c661f4142a2a4c3380dca0958",
            "max": 1355863,
            "min": 0,
            "orientation": "horizontal",
            "style": "IPY_MODEL_48a4fd31d4cb4b11b425dfdd043bed87",
            "value": 1355863
          }
        },
        "088302289a264e79ae336b62a83cd64d": {
          "model_module": "@jupyter-widgets/controls",
          "model_name": "HTMLModel",
          "model_module_version": "1.5.0",
          "state": {
            "_dom_classes": [],
            "_model_module": "@jupyter-widgets/controls",
            "_model_module_version": "1.5.0",
            "_model_name": "HTMLModel",
            "_view_count": null,
            "_view_module": "@jupyter-widgets/controls",
            "_view_module_version": "1.5.0",
            "_view_name": "HTMLView",
            "description": "",
            "description_tooltip": null,
            "layout": "IPY_MODEL_9e85e0d2e8184d8385956785413fcf14",
            "placeholder": "​",
            "style": "IPY_MODEL_88753ce16e3e4499a68ead6fcdfff6c7",
            "value": " 1.36M/1.36M [00:00&lt;00:00, 8.33MB/s]"
          }
        },
        "bac7c56fdeb449979ddc3baaa0a45d1c": {
          "model_module": "@jupyter-widgets/base",
          "model_name": "LayoutModel",
          "model_module_version": "1.2.0",
          "state": {
            "_model_module": "@jupyter-widgets/base",
            "_model_module_version": "1.2.0",
            "_model_name": "LayoutModel",
            "_view_count": null,
            "_view_module": "@jupyter-widgets/base",
            "_view_module_version": "1.2.0",
            "_view_name": "LayoutView",
            "align_content": null,
            "align_items": null,
            "align_self": null,
            "border": null,
            "bottom": null,
            "display": null,
            "flex": null,
            "flex_flow": null,
            "grid_area": null,
            "grid_auto_columns": null,
            "grid_auto_flow": null,
            "grid_auto_rows": null,
            "grid_column": null,
            "grid_gap": null,
            "grid_row": null,
            "grid_template_areas": null,
            "grid_template_columns": null,
            "grid_template_rows": null,
            "height": null,
            "justify_content": null,
            "justify_items": null,
            "left": null,
            "margin": null,
            "max_height": null,
            "max_width": null,
            "min_height": null,
            "min_width": null,
            "object_fit": null,
            "object_position": null,
            "order": null,
            "overflow": null,
            "overflow_x": null,
            "overflow_y": null,
            "padding": null,
            "right": null,
            "top": null,
            "visibility": null,
            "width": null
          }
        },
        "ec76dde65ca64e9394d73fa80de4579b": {
          "model_module": "@jupyter-widgets/base",
          "model_name": "LayoutModel",
          "model_module_version": "1.2.0",
          "state": {
            "_model_module": "@jupyter-widgets/base",
            "_model_module_version": "1.2.0",
            "_model_name": "LayoutModel",
            "_view_count": null,
            "_view_module": "@jupyter-widgets/base",
            "_view_module_version": "1.2.0",
            "_view_name": "LayoutView",
            "align_content": null,
            "align_items": null,
            "align_self": null,
            "border": null,
            "bottom": null,
            "display": null,
            "flex": null,
            "flex_flow": null,
            "grid_area": null,
            "grid_auto_columns": null,
            "grid_auto_flow": null,
            "grid_auto_rows": null,
            "grid_column": null,
            "grid_gap": null,
            "grid_row": null,
            "grid_template_areas": null,
            "grid_template_columns": null,
            "grid_template_rows": null,
            "height": null,
            "justify_content": null,
            "justify_items": null,
            "left": null,
            "margin": null,
            "max_height": null,
            "max_width": null,
            "min_height": null,
            "min_width": null,
            "object_fit": null,
            "object_position": null,
            "order": null,
            "overflow": null,
            "overflow_x": null,
            "overflow_y": null,
            "padding": null,
            "right": null,
            "top": null,
            "visibility": null,
            "width": null
          }
        },
        "29dc57cf3d054ac8bc77cba8b57a6bfa": {
          "model_module": "@jupyter-widgets/controls",
          "model_name": "DescriptionStyleModel",
          "model_module_version": "1.5.0",
          "state": {
            "_model_module": "@jupyter-widgets/controls",
            "_model_module_version": "1.5.0",
            "_model_name": "DescriptionStyleModel",
            "_view_count": null,
            "_view_module": "@jupyter-widgets/base",
            "_view_module_version": "1.2.0",
            "_view_name": "StyleView",
            "description_width": ""
          }
        },
        "d417a72c661f4142a2a4c3380dca0958": {
          "model_module": "@jupyter-widgets/base",
          "model_name": "LayoutModel",
          "model_module_version": "1.2.0",
          "state": {
            "_model_module": "@jupyter-widgets/base",
            "_model_module_version": "1.2.0",
            "_model_name": "LayoutModel",
            "_view_count": null,
            "_view_module": "@jupyter-widgets/base",
            "_view_module_version": "1.2.0",
            "_view_name": "LayoutView",
            "align_content": null,
            "align_items": null,
            "align_self": null,
            "border": null,
            "bottom": null,
            "display": null,
            "flex": null,
            "flex_flow": null,
            "grid_area": null,
            "grid_auto_columns": null,
            "grid_auto_flow": null,
            "grid_auto_rows": null,
            "grid_column": null,
            "grid_gap": null,
            "grid_row": null,
            "grid_template_areas": null,
            "grid_template_columns": null,
            "grid_template_rows": null,
            "height": null,
            "justify_content": null,
            "justify_items": null,
            "left": null,
            "margin": null,
            "max_height": null,
            "max_width": null,
            "min_height": null,
            "min_width": null,
            "object_fit": null,
            "object_position": null,
            "order": null,
            "overflow": null,
            "overflow_x": null,
            "overflow_y": null,
            "padding": null,
            "right": null,
            "top": null,
            "visibility": null,
            "width": null
          }
        },
        "48a4fd31d4cb4b11b425dfdd043bed87": {
          "model_module": "@jupyter-widgets/controls",
          "model_name": "ProgressStyleModel",
          "model_module_version": "1.5.0",
          "state": {
            "_model_module": "@jupyter-widgets/controls",
            "_model_module_version": "1.5.0",
            "_model_name": "ProgressStyleModel",
            "_view_count": null,
            "_view_module": "@jupyter-widgets/base",
            "_view_module_version": "1.2.0",
            "_view_name": "StyleView",
            "bar_color": null,
            "description_width": ""
          }
        },
        "9e85e0d2e8184d8385956785413fcf14": {
          "model_module": "@jupyter-widgets/base",
          "model_name": "LayoutModel",
          "model_module_version": "1.2.0",
          "state": {
            "_model_module": "@jupyter-widgets/base",
            "_model_module_version": "1.2.0",
            "_model_name": "LayoutModel",
            "_view_count": null,
            "_view_module": "@jupyter-widgets/base",
            "_view_module_version": "1.2.0",
            "_view_name": "LayoutView",
            "align_content": null,
            "align_items": null,
            "align_self": null,
            "border": null,
            "bottom": null,
            "display": null,
            "flex": null,
            "flex_flow": null,
            "grid_area": null,
            "grid_auto_columns": null,
            "grid_auto_flow": null,
            "grid_auto_rows": null,
            "grid_column": null,
            "grid_gap": null,
            "grid_row": null,
            "grid_template_areas": null,
            "grid_template_columns": null,
            "grid_template_rows": null,
            "height": null,
            "justify_content": null,
            "justify_items": null,
            "left": null,
            "margin": null,
            "max_height": null,
            "max_width": null,
            "min_height": null,
            "min_width": null,
            "object_fit": null,
            "object_position": null,
            "order": null,
            "overflow": null,
            "overflow_x": null,
            "overflow_y": null,
            "padding": null,
            "right": null,
            "top": null,
            "visibility": null,
            "width": null
          }
        },
        "88753ce16e3e4499a68ead6fcdfff6c7": {
          "model_module": "@jupyter-widgets/controls",
          "model_name": "DescriptionStyleModel",
          "model_module_version": "1.5.0",
          "state": {
            "_model_module": "@jupyter-widgets/controls",
            "_model_module_version": "1.5.0",
            "_model_name": "DescriptionStyleModel",
            "_view_count": null,
            "_view_module": "@jupyter-widgets/base",
            "_view_module_version": "1.2.0",
            "_view_name": "StyleView",
            "description_width": ""
          }
        },
        "d0ea4e3571c6404390e09c6590df1d02": {
          "model_module": "@jupyter-widgets/controls",
          "model_name": "HBoxModel",
          "model_module_version": "1.5.0",
          "state": {
            "_dom_classes": [],
            "_model_module": "@jupyter-widgets/controls",
            "_model_module_version": "1.5.0",
            "_model_name": "HBoxModel",
            "_view_count": null,
            "_view_module": "@jupyter-widgets/controls",
            "_view_module_version": "1.5.0",
            "_view_name": "HBoxView",
            "box_style": "",
            "children": [
              "IPY_MODEL_34d5587e3b344e618fdfec1f8a3d3ea3",
              "IPY_MODEL_d6dd0da4d48b4a2fa73dc483979e61bc",
              "IPY_MODEL_62d9519df61b4ab4816b343779361f7a"
            ],
            "layout": "IPY_MODEL_7de14ddd9b654384833571b2a9c3c183"
          }
        },
        "34d5587e3b344e618fdfec1f8a3d3ea3": {
          "model_module": "@jupyter-widgets/controls",
          "model_name": "HTMLModel",
          "model_module_version": "1.5.0",
          "state": {
            "_dom_classes": [],
            "_model_module": "@jupyter-widgets/controls",
            "_model_module_version": "1.5.0",
            "_model_name": "HTMLModel",
            "_view_count": null,
            "_view_module": "@jupyter-widgets/controls",
            "_view_module_version": "1.5.0",
            "_view_name": "HTMLView",
            "description": "",
            "description_tooltip": null,
            "layout": "IPY_MODEL_c5c21930cf5245cc9f24a2910b84f9b5",
            "placeholder": "​",
            "style": "IPY_MODEL_c796e9baae024c8dade4097df3479974",
            "value": "model.safetensors: 100%"
          }
        },
        "d6dd0da4d48b4a2fa73dc483979e61bc": {
          "model_module": "@jupyter-widgets/controls",
          "model_name": "FloatProgressModel",
          "model_module_version": "1.5.0",
          "state": {
            "_dom_classes": [],
            "_model_module": "@jupyter-widgets/controls",
            "_model_module_version": "1.5.0",
            "_model_name": "FloatProgressModel",
            "_view_count": null,
            "_view_module": "@jupyter-widgets/controls",
            "_view_module_version": "1.5.0",
            "_view_name": "ProgressView",
            "bar_style": "success",
            "description": "",
            "description_tooltip": null,
            "layout": "IPY_MODEL_260e1294d77e471fa13a2a94941dfc59",
            "max": 498818054,
            "min": 0,
            "orientation": "horizontal",
            "style": "IPY_MODEL_e361773674fd4988bc17354717c97e6c",
            "value": 498818054
          }
        },
        "62d9519df61b4ab4816b343779361f7a": {
          "model_module": "@jupyter-widgets/controls",
          "model_name": "HTMLModel",
          "model_module_version": "1.5.0",
          "state": {
            "_dom_classes": [],
            "_model_module": "@jupyter-widgets/controls",
            "_model_module_version": "1.5.0",
            "_model_name": "HTMLModel",
            "_view_count": null,
            "_view_module": "@jupyter-widgets/controls",
            "_view_module_version": "1.5.0",
            "_view_name": "HTMLView",
            "description": "",
            "description_tooltip": null,
            "layout": "IPY_MODEL_63bb3db3d0a8476fa39221951188217a",
            "placeholder": "​",
            "style": "IPY_MODEL_64a5c6dbc97d4c299736a3dddf569139",
            "value": " 499M/499M [00:03&lt;00:00, 229MB/s]"
          }
        },
        "7de14ddd9b654384833571b2a9c3c183": {
          "model_module": "@jupyter-widgets/base",
          "model_name": "LayoutModel",
          "model_module_version": "1.2.0",
          "state": {
            "_model_module": "@jupyter-widgets/base",
            "_model_module_version": "1.2.0",
            "_model_name": "LayoutModel",
            "_view_count": null,
            "_view_module": "@jupyter-widgets/base",
            "_view_module_version": "1.2.0",
            "_view_name": "LayoutView",
            "align_content": null,
            "align_items": null,
            "align_self": null,
            "border": null,
            "bottom": null,
            "display": null,
            "flex": null,
            "flex_flow": null,
            "grid_area": null,
            "grid_auto_columns": null,
            "grid_auto_flow": null,
            "grid_auto_rows": null,
            "grid_column": null,
            "grid_gap": null,
            "grid_row": null,
            "grid_template_areas": null,
            "grid_template_columns": null,
            "grid_template_rows": null,
            "height": null,
            "justify_content": null,
            "justify_items": null,
            "left": null,
            "margin": null,
            "max_height": null,
            "max_width": null,
            "min_height": null,
            "min_width": null,
            "object_fit": null,
            "object_position": null,
            "order": null,
            "overflow": null,
            "overflow_x": null,
            "overflow_y": null,
            "padding": null,
            "right": null,
            "top": null,
            "visibility": null,
            "width": null
          }
        },
        "c5c21930cf5245cc9f24a2910b84f9b5": {
          "model_module": "@jupyter-widgets/base",
          "model_name": "LayoutModel",
          "model_module_version": "1.2.0",
          "state": {
            "_model_module": "@jupyter-widgets/base",
            "_model_module_version": "1.2.0",
            "_model_name": "LayoutModel",
            "_view_count": null,
            "_view_module": "@jupyter-widgets/base",
            "_view_module_version": "1.2.0",
            "_view_name": "LayoutView",
            "align_content": null,
            "align_items": null,
            "align_self": null,
            "border": null,
            "bottom": null,
            "display": null,
            "flex": null,
            "flex_flow": null,
            "grid_area": null,
            "grid_auto_columns": null,
            "grid_auto_flow": null,
            "grid_auto_rows": null,
            "grid_column": null,
            "grid_gap": null,
            "grid_row": null,
            "grid_template_areas": null,
            "grid_template_columns": null,
            "grid_template_rows": null,
            "height": null,
            "justify_content": null,
            "justify_items": null,
            "left": null,
            "margin": null,
            "max_height": null,
            "max_width": null,
            "min_height": null,
            "min_width": null,
            "object_fit": null,
            "object_position": null,
            "order": null,
            "overflow": null,
            "overflow_x": null,
            "overflow_y": null,
            "padding": null,
            "right": null,
            "top": null,
            "visibility": null,
            "width": null
          }
        },
        "c796e9baae024c8dade4097df3479974": {
          "model_module": "@jupyter-widgets/controls",
          "model_name": "DescriptionStyleModel",
          "model_module_version": "1.5.0",
          "state": {
            "_model_module": "@jupyter-widgets/controls",
            "_model_module_version": "1.5.0",
            "_model_name": "DescriptionStyleModel",
            "_view_count": null,
            "_view_module": "@jupyter-widgets/base",
            "_view_module_version": "1.2.0",
            "_view_name": "StyleView",
            "description_width": ""
          }
        },
        "260e1294d77e471fa13a2a94941dfc59": {
          "model_module": "@jupyter-widgets/base",
          "model_name": "LayoutModel",
          "model_module_version": "1.2.0",
          "state": {
            "_model_module": "@jupyter-widgets/base",
            "_model_module_version": "1.2.0",
            "_model_name": "LayoutModel",
            "_view_count": null,
            "_view_module": "@jupyter-widgets/base",
            "_view_module_version": "1.2.0",
            "_view_name": "LayoutView",
            "align_content": null,
            "align_items": null,
            "align_self": null,
            "border": null,
            "bottom": null,
            "display": null,
            "flex": null,
            "flex_flow": null,
            "grid_area": null,
            "grid_auto_columns": null,
            "grid_auto_flow": null,
            "grid_auto_rows": null,
            "grid_column": null,
            "grid_gap": null,
            "grid_row": null,
            "grid_template_areas": null,
            "grid_template_columns": null,
            "grid_template_rows": null,
            "height": null,
            "justify_content": null,
            "justify_items": null,
            "left": null,
            "margin": null,
            "max_height": null,
            "max_width": null,
            "min_height": null,
            "min_width": null,
            "object_fit": null,
            "object_position": null,
            "order": null,
            "overflow": null,
            "overflow_x": null,
            "overflow_y": null,
            "padding": null,
            "right": null,
            "top": null,
            "visibility": null,
            "width": null
          }
        },
        "e361773674fd4988bc17354717c97e6c": {
          "model_module": "@jupyter-widgets/controls",
          "model_name": "ProgressStyleModel",
          "model_module_version": "1.5.0",
          "state": {
            "_model_module": "@jupyter-widgets/controls",
            "_model_module_version": "1.5.0",
            "_model_name": "ProgressStyleModel",
            "_view_count": null,
            "_view_module": "@jupyter-widgets/base",
            "_view_module_version": "1.2.0",
            "_view_name": "StyleView",
            "bar_color": null,
            "description_width": ""
          }
        },
        "63bb3db3d0a8476fa39221951188217a": {
          "model_module": "@jupyter-widgets/base",
          "model_name": "LayoutModel",
          "model_module_version": "1.2.0",
          "state": {
            "_model_module": "@jupyter-widgets/base",
            "_model_module_version": "1.2.0",
            "_model_name": "LayoutModel",
            "_view_count": null,
            "_view_module": "@jupyter-widgets/base",
            "_view_module_version": "1.2.0",
            "_view_name": "LayoutView",
            "align_content": null,
            "align_items": null,
            "align_self": null,
            "border": null,
            "bottom": null,
            "display": null,
            "flex": null,
            "flex_flow": null,
            "grid_area": null,
            "grid_auto_columns": null,
            "grid_auto_flow": null,
            "grid_auto_rows": null,
            "grid_column": null,
            "grid_gap": null,
            "grid_row": null,
            "grid_template_areas": null,
            "grid_template_columns": null,
            "grid_template_rows": null,
            "height": null,
            "justify_content": null,
            "justify_items": null,
            "left": null,
            "margin": null,
            "max_height": null,
            "max_width": null,
            "min_height": null,
            "min_width": null,
            "object_fit": null,
            "object_position": null,
            "order": null,
            "overflow": null,
            "overflow_x": null,
            "overflow_y": null,
            "padding": null,
            "right": null,
            "top": null,
            "visibility": null,
            "width": null
          }
        },
        "64a5c6dbc97d4c299736a3dddf569139": {
          "model_module": "@jupyter-widgets/controls",
          "model_name": "DescriptionStyleModel",
          "model_module_version": "1.5.0",
          "state": {
            "_model_module": "@jupyter-widgets/controls",
            "_model_module_version": "1.5.0",
            "_model_name": "DescriptionStyleModel",
            "_view_count": null,
            "_view_module": "@jupyter-widgets/base",
            "_view_module_version": "1.2.0",
            "_view_name": "StyleView",
            "description_width": ""
          }
        },
        "0c2f450378ad46188f916d9fea1dd8e3": {
          "model_module": "@jupyter-widgets/controls",
          "model_name": "HBoxModel",
          "model_module_version": "1.5.0",
          "state": {
            "_dom_classes": [],
            "_model_module": "@jupyter-widgets/controls",
            "_model_module_version": "1.5.0",
            "_model_name": "HBoxModel",
            "_view_count": null,
            "_view_module": "@jupyter-widgets/controls",
            "_view_module_version": "1.5.0",
            "_view_name": "HBoxView",
            "box_style": "",
            "children": [
              "IPY_MODEL_dfc8754f2b3f452fb353a47eec4ebf69",
              "IPY_MODEL_80a8afea546e4e42ab0cd440ec09ab33",
              "IPY_MODEL_3ef1d549a98e48aab8b625e8a6570c59"
            ],
            "layout": "IPY_MODEL_b8c462aa40cc4b599364a5eb8d51757d"
          }
        },
        "dfc8754f2b3f452fb353a47eec4ebf69": {
          "model_module": "@jupyter-widgets/controls",
          "model_name": "HTMLModel",
          "model_module_version": "1.5.0",
          "state": {
            "_dom_classes": [],
            "_model_module": "@jupyter-widgets/controls",
            "_model_module_version": "1.5.0",
            "_model_name": "HTMLModel",
            "_view_count": null,
            "_view_module": "@jupyter-widgets/controls",
            "_view_module_version": "1.5.0",
            "_view_name": "HTMLView",
            "description": "",
            "description_tooltip": null,
            "layout": "IPY_MODEL_f2bcd66478f6446290611fc5a1da1f32",
            "placeholder": "​",
            "style": "IPY_MODEL_99242f2520e64092a4a48b40d1462321",
            "value": "config.json: 100%"
          }
        },
        "80a8afea546e4e42ab0cd440ec09ab33": {
          "model_module": "@jupyter-widgets/controls",
          "model_name": "FloatProgressModel",
          "model_module_version": "1.5.0",
          "state": {
            "_dom_classes": [],
            "_model_module": "@jupyter-widgets/controls",
            "_model_module_version": "1.5.0",
            "_model_name": "FloatProgressModel",
            "_view_count": null,
            "_view_module": "@jupyter-widgets/controls",
            "_view_module_version": "1.5.0",
            "_view_name": "ProgressView",
            "bar_style": "success",
            "description": "",
            "description_tooltip": null,
            "layout": "IPY_MODEL_20d836a1ae74462a9e8433b7645525fd",
            "max": 285,
            "min": 0,
            "orientation": "horizontal",
            "style": "IPY_MODEL_7da2fa7b517e4f4b8e3bf81266d0b349",
            "value": 285
          }
        },
        "3ef1d549a98e48aab8b625e8a6570c59": {
          "model_module": "@jupyter-widgets/controls",
          "model_name": "HTMLModel",
          "model_module_version": "1.5.0",
          "state": {
            "_dom_classes": [],
            "_model_module": "@jupyter-widgets/controls",
            "_model_module_version": "1.5.0",
            "_model_name": "HTMLModel",
            "_view_count": null,
            "_view_module": "@jupyter-widgets/controls",
            "_view_module_version": "1.5.0",
            "_view_name": "HTMLView",
            "description": "",
            "description_tooltip": null,
            "layout": "IPY_MODEL_7c6d3196d8384423ac9aac1dd851401d",
            "placeholder": "​",
            "style": "IPY_MODEL_7abaf666d27c4ae9bd6408ec7fe04595",
            "value": " 285/285 [00:00&lt;00:00, 39.4kB/s]"
          }
        },
        "b8c462aa40cc4b599364a5eb8d51757d": {
          "model_module": "@jupyter-widgets/base",
          "model_name": "LayoutModel",
          "model_module_version": "1.2.0",
          "state": {
            "_model_module": "@jupyter-widgets/base",
            "_model_module_version": "1.2.0",
            "_model_name": "LayoutModel",
            "_view_count": null,
            "_view_module": "@jupyter-widgets/base",
            "_view_module_version": "1.2.0",
            "_view_name": "LayoutView",
            "align_content": null,
            "align_items": null,
            "align_self": null,
            "border": null,
            "bottom": null,
            "display": null,
            "flex": null,
            "flex_flow": null,
            "grid_area": null,
            "grid_auto_columns": null,
            "grid_auto_flow": null,
            "grid_auto_rows": null,
            "grid_column": null,
            "grid_gap": null,
            "grid_row": null,
            "grid_template_areas": null,
            "grid_template_columns": null,
            "grid_template_rows": null,
            "height": null,
            "justify_content": null,
            "justify_items": null,
            "left": null,
            "margin": null,
            "max_height": null,
            "max_width": null,
            "min_height": null,
            "min_width": null,
            "object_fit": null,
            "object_position": null,
            "order": null,
            "overflow": null,
            "overflow_x": null,
            "overflow_y": null,
            "padding": null,
            "right": null,
            "top": null,
            "visibility": null,
            "width": null
          }
        },
        "f2bcd66478f6446290611fc5a1da1f32": {
          "model_module": "@jupyter-widgets/base",
          "model_name": "LayoutModel",
          "model_module_version": "1.2.0",
          "state": {
            "_model_module": "@jupyter-widgets/base",
            "_model_module_version": "1.2.0",
            "_model_name": "LayoutModel",
            "_view_count": null,
            "_view_module": "@jupyter-widgets/base",
            "_view_module_version": "1.2.0",
            "_view_name": "LayoutView",
            "align_content": null,
            "align_items": null,
            "align_self": null,
            "border": null,
            "bottom": null,
            "display": null,
            "flex": null,
            "flex_flow": null,
            "grid_area": null,
            "grid_auto_columns": null,
            "grid_auto_flow": null,
            "grid_auto_rows": null,
            "grid_column": null,
            "grid_gap": null,
            "grid_row": null,
            "grid_template_areas": null,
            "grid_template_columns": null,
            "grid_template_rows": null,
            "height": null,
            "justify_content": null,
            "justify_items": null,
            "left": null,
            "margin": null,
            "max_height": null,
            "max_width": null,
            "min_height": null,
            "min_width": null,
            "object_fit": null,
            "object_position": null,
            "order": null,
            "overflow": null,
            "overflow_x": null,
            "overflow_y": null,
            "padding": null,
            "right": null,
            "top": null,
            "visibility": null,
            "width": null
          }
        },
        "99242f2520e64092a4a48b40d1462321": {
          "model_module": "@jupyter-widgets/controls",
          "model_name": "DescriptionStyleModel",
          "model_module_version": "1.5.0",
          "state": {
            "_model_module": "@jupyter-widgets/controls",
            "_model_module_version": "1.5.0",
            "_model_name": "DescriptionStyleModel",
            "_view_count": null,
            "_view_module": "@jupyter-widgets/base",
            "_view_module_version": "1.2.0",
            "_view_name": "StyleView",
            "description_width": ""
          }
        },
        "20d836a1ae74462a9e8433b7645525fd": {
          "model_module": "@jupyter-widgets/base",
          "model_name": "LayoutModel",
          "model_module_version": "1.2.0",
          "state": {
            "_model_module": "@jupyter-widgets/base",
            "_model_module_version": "1.2.0",
            "_model_name": "LayoutModel",
            "_view_count": null,
            "_view_module": "@jupyter-widgets/base",
            "_view_module_version": "1.2.0",
            "_view_name": "LayoutView",
            "align_content": null,
            "align_items": null,
            "align_self": null,
            "border": null,
            "bottom": null,
            "display": null,
            "flex": null,
            "flex_flow": null,
            "grid_area": null,
            "grid_auto_columns": null,
            "grid_auto_flow": null,
            "grid_auto_rows": null,
            "grid_column": null,
            "grid_gap": null,
            "grid_row": null,
            "grid_template_areas": null,
            "grid_template_columns": null,
            "grid_template_rows": null,
            "height": null,
            "justify_content": null,
            "justify_items": null,
            "left": null,
            "margin": null,
            "max_height": null,
            "max_width": null,
            "min_height": null,
            "min_width": null,
            "object_fit": null,
            "object_position": null,
            "order": null,
            "overflow": null,
            "overflow_x": null,
            "overflow_y": null,
            "padding": null,
            "right": null,
            "top": null,
            "visibility": null,
            "width": null
          }
        },
        "7da2fa7b517e4f4b8e3bf81266d0b349": {
          "model_module": "@jupyter-widgets/controls",
          "model_name": "ProgressStyleModel",
          "model_module_version": "1.5.0",
          "state": {
            "_model_module": "@jupyter-widgets/controls",
            "_model_module_version": "1.5.0",
            "_model_name": "ProgressStyleModel",
            "_view_count": null,
            "_view_module": "@jupyter-widgets/base",
            "_view_module_version": "1.2.0",
            "_view_name": "StyleView",
            "bar_color": null,
            "description_width": ""
          }
        },
        "7c6d3196d8384423ac9aac1dd851401d": {
          "model_module": "@jupyter-widgets/base",
          "model_name": "LayoutModel",
          "model_module_version": "1.2.0",
          "state": {
            "_model_module": "@jupyter-widgets/base",
            "_model_module_version": "1.2.0",
            "_model_name": "LayoutModel",
            "_view_count": null,
            "_view_module": "@jupyter-widgets/base",
            "_view_module_version": "1.2.0",
            "_view_name": "LayoutView",
            "align_content": null,
            "align_items": null,
            "align_self": null,
            "border": null,
            "bottom": null,
            "display": null,
            "flex": null,
            "flex_flow": null,
            "grid_area": null,
            "grid_auto_columns": null,
            "grid_auto_flow": null,
            "grid_auto_rows": null,
            "grid_column": null,
            "grid_gap": null,
            "grid_row": null,
            "grid_template_areas": null,
            "grid_template_columns": null,
            "grid_template_rows": null,
            "height": null,
            "justify_content": null,
            "justify_items": null,
            "left": null,
            "margin": null,
            "max_height": null,
            "max_width": null,
            "min_height": null,
            "min_width": null,
            "object_fit": null,
            "object_position": null,
            "order": null,
            "overflow": null,
            "overflow_x": null,
            "overflow_y": null,
            "padding": null,
            "right": null,
            "top": null,
            "visibility": null,
            "width": null
          }
        },
        "7abaf666d27c4ae9bd6408ec7fe04595": {
          "model_module": "@jupyter-widgets/controls",
          "model_name": "DescriptionStyleModel",
          "model_module_version": "1.5.0",
          "state": {
            "_model_module": "@jupyter-widgets/controls",
            "_model_module_version": "1.5.0",
            "_model_name": "DescriptionStyleModel",
            "_view_count": null,
            "_view_module": "@jupyter-widgets/base",
            "_view_module_version": "1.2.0",
            "_view_name": "StyleView",
            "description_width": ""
          }
        },
        "03af93e27c1b4707810feecde4c3da58": {
          "model_module": "@jupyter-widgets/controls",
          "model_name": "HBoxModel",
          "model_module_version": "1.5.0",
          "state": {
            "_dom_classes": [],
            "_model_module": "@jupyter-widgets/controls",
            "_model_module_version": "1.5.0",
            "_model_name": "HBoxModel",
            "_view_count": null,
            "_view_module": "@jupyter-widgets/controls",
            "_view_module_version": "1.5.0",
            "_view_name": "HBoxView",
            "box_style": "",
            "children": [
              "IPY_MODEL_d1e3c6d76f3c474b8a54ddcccee6ce8f",
              "IPY_MODEL_482887074ae34e5db95942a3ff8bdb26",
              "IPY_MODEL_9f9793b10ae5460486a847dbf94ea0d2"
            ],
            "layout": "IPY_MODEL_82e67007ddd548fea8c56e164bda15f8"
          }
        },
        "d1e3c6d76f3c474b8a54ddcccee6ce8f": {
          "model_module": "@jupyter-widgets/controls",
          "model_name": "HTMLModel",
          "model_module_version": "1.5.0",
          "state": {
            "_dom_classes": [],
            "_model_module": "@jupyter-widgets/controls",
            "_model_module_version": "1.5.0",
            "_model_name": "HTMLModel",
            "_view_count": null,
            "_view_module": "@jupyter-widgets/controls",
            "_view_module_version": "1.5.0",
            "_view_name": "HTMLView",
            "description": "",
            "description_tooltip": null,
            "layout": "IPY_MODEL_9ee3641b300c41f583d8fc6201b577f0",
            "placeholder": "​",
            "style": "IPY_MODEL_70d96609208b46fca246c9720142056a",
            "value": "pytorch_model.bin: 100%"
          }
        },
        "482887074ae34e5db95942a3ff8bdb26": {
          "model_module": "@jupyter-widgets/controls",
          "model_name": "FloatProgressModel",
          "model_module_version": "1.5.0",
          "state": {
            "_dom_classes": [],
            "_model_module": "@jupyter-widgets/controls",
            "_model_module_version": "1.5.0",
            "_model_name": "FloatProgressModel",
            "_view_count": null,
            "_view_module": "@jupyter-widgets/controls",
            "_view_module_version": "1.5.0",
            "_view_name": "ProgressView",
            "bar_style": "success",
            "description": "",
            "description_tooltip": null,
            "layout": "IPY_MODEL_3f04b3a36b394754a1c1dff75371ba78",
            "max": 17756393,
            "min": 0,
            "orientation": "horizontal",
            "style": "IPY_MODEL_c72161afc63848de9f1b2c23839e6a9d",
            "value": 17756393
          }
        },
        "9f9793b10ae5460486a847dbf94ea0d2": {
          "model_module": "@jupyter-widgets/controls",
          "model_name": "HTMLModel",
          "model_module_version": "1.5.0",
          "state": {
            "_dom_classes": [],
            "_model_module": "@jupyter-widgets/controls",
            "_model_module_version": "1.5.0",
            "_model_name": "HTMLModel",
            "_view_count": null,
            "_view_module": "@jupyter-widgets/controls",
            "_view_module_version": "1.5.0",
            "_view_name": "HTMLView",
            "description": "",
            "description_tooltip": null,
            "layout": "IPY_MODEL_55cf78f5925a4f1b9bd190256ab4c477",
            "placeholder": "​",
            "style": "IPY_MODEL_fb774891e59546e19986b1c3f1e9b239",
            "value": " 17.8M/17.8M [00:00&lt;00:00, 538kB/s]"
          }
        },
        "82e67007ddd548fea8c56e164bda15f8": {
          "model_module": "@jupyter-widgets/base",
          "model_name": "LayoutModel",
          "model_module_version": "1.2.0",
          "state": {
            "_model_module": "@jupyter-widgets/base",
            "_model_module_version": "1.2.0",
            "_model_name": "LayoutModel",
            "_view_count": null,
            "_view_module": "@jupyter-widgets/base",
            "_view_module_version": "1.2.0",
            "_view_name": "LayoutView",
            "align_content": null,
            "align_items": null,
            "align_self": null,
            "border": null,
            "bottom": null,
            "display": null,
            "flex": null,
            "flex_flow": null,
            "grid_area": null,
            "grid_auto_columns": null,
            "grid_auto_flow": null,
            "grid_auto_rows": null,
            "grid_column": null,
            "grid_gap": null,
            "grid_row": null,
            "grid_template_areas": null,
            "grid_template_columns": null,
            "grid_template_rows": null,
            "height": null,
            "justify_content": null,
            "justify_items": null,
            "left": null,
            "margin": null,
            "max_height": null,
            "max_width": null,
            "min_height": null,
            "min_width": null,
            "object_fit": null,
            "object_position": null,
            "order": null,
            "overflow": null,
            "overflow_x": null,
            "overflow_y": null,
            "padding": null,
            "right": null,
            "top": null,
            "visibility": null,
            "width": null
          }
        },
        "9ee3641b300c41f583d8fc6201b577f0": {
          "model_module": "@jupyter-widgets/base",
          "model_name": "LayoutModel",
          "model_module_version": "1.2.0",
          "state": {
            "_model_module": "@jupyter-widgets/base",
            "_model_module_version": "1.2.0",
            "_model_name": "LayoutModel",
            "_view_count": null,
            "_view_module": "@jupyter-widgets/base",
            "_view_module_version": "1.2.0",
            "_view_name": "LayoutView",
            "align_content": null,
            "align_items": null,
            "align_self": null,
            "border": null,
            "bottom": null,
            "display": null,
            "flex": null,
            "flex_flow": null,
            "grid_area": null,
            "grid_auto_columns": null,
            "grid_auto_flow": null,
            "grid_auto_rows": null,
            "grid_column": null,
            "grid_gap": null,
            "grid_row": null,
            "grid_template_areas": null,
            "grid_template_columns": null,
            "grid_template_rows": null,
            "height": null,
            "justify_content": null,
            "justify_items": null,
            "left": null,
            "margin": null,
            "max_height": null,
            "max_width": null,
            "min_height": null,
            "min_width": null,
            "object_fit": null,
            "object_position": null,
            "order": null,
            "overflow": null,
            "overflow_x": null,
            "overflow_y": null,
            "padding": null,
            "right": null,
            "top": null,
            "visibility": null,
            "width": null
          }
        },
        "70d96609208b46fca246c9720142056a": {
          "model_module": "@jupyter-widgets/controls",
          "model_name": "DescriptionStyleModel",
          "model_module_version": "1.5.0",
          "state": {
            "_model_module": "@jupyter-widgets/controls",
            "_model_module_version": "1.5.0",
            "_model_name": "DescriptionStyleModel",
            "_view_count": null,
            "_view_module": "@jupyter-widgets/base",
            "_view_module_version": "1.2.0",
            "_view_name": "StyleView",
            "description_width": ""
          }
        },
        "3f04b3a36b394754a1c1dff75371ba78": {
          "model_module": "@jupyter-widgets/base",
          "model_name": "LayoutModel",
          "model_module_version": "1.2.0",
          "state": {
            "_model_module": "@jupyter-widgets/base",
            "_model_module_version": "1.2.0",
            "_model_name": "LayoutModel",
            "_view_count": null,
            "_view_module": "@jupyter-widgets/base",
            "_view_module_version": "1.2.0",
            "_view_name": "LayoutView",
            "align_content": null,
            "align_items": null,
            "align_self": null,
            "border": null,
            "bottom": null,
            "display": null,
            "flex": null,
            "flex_flow": null,
            "grid_area": null,
            "grid_auto_columns": null,
            "grid_auto_flow": null,
            "grid_auto_rows": null,
            "grid_column": null,
            "grid_gap": null,
            "grid_row": null,
            "grid_template_areas": null,
            "grid_template_columns": null,
            "grid_template_rows": null,
            "height": null,
            "justify_content": null,
            "justify_items": null,
            "left": null,
            "margin": null,
            "max_height": null,
            "max_width": null,
            "min_height": null,
            "min_width": null,
            "object_fit": null,
            "object_position": null,
            "order": null,
            "overflow": null,
            "overflow_x": null,
            "overflow_y": null,
            "padding": null,
            "right": null,
            "top": null,
            "visibility": null,
            "width": null
          }
        },
        "c72161afc63848de9f1b2c23839e6a9d": {
          "model_module": "@jupyter-widgets/controls",
          "model_name": "ProgressStyleModel",
          "model_module_version": "1.5.0",
          "state": {
            "_model_module": "@jupyter-widgets/controls",
            "_model_module_version": "1.5.0",
            "_model_name": "ProgressStyleModel",
            "_view_count": null,
            "_view_module": "@jupyter-widgets/base",
            "_view_module_version": "1.2.0",
            "_view_name": "StyleView",
            "bar_color": null,
            "description_width": ""
          }
        },
        "55cf78f5925a4f1b9bd190256ab4c477": {
          "model_module": "@jupyter-widgets/base",
          "model_name": "LayoutModel",
          "model_module_version": "1.2.0",
          "state": {
            "_model_module": "@jupyter-widgets/base",
            "_model_module_version": "1.2.0",
            "_model_name": "LayoutModel",
            "_view_count": null,
            "_view_module": "@jupyter-widgets/base",
            "_view_module_version": "1.2.0",
            "_view_name": "LayoutView",
            "align_content": null,
            "align_items": null,
            "align_self": null,
            "border": null,
            "bottom": null,
            "display": null,
            "flex": null,
            "flex_flow": null,
            "grid_area": null,
            "grid_auto_columns": null,
            "grid_auto_flow": null,
            "grid_auto_rows": null,
            "grid_column": null,
            "grid_gap": null,
            "grid_row": null,
            "grid_template_areas": null,
            "grid_template_columns": null,
            "grid_template_rows": null,
            "height": null,
            "justify_content": null,
            "justify_items": null,
            "left": null,
            "margin": null,
            "max_height": null,
            "max_width": null,
            "min_height": null,
            "min_width": null,
            "object_fit": null,
            "object_position": null,
            "order": null,
            "overflow": null,
            "overflow_x": null,
            "overflow_y": null,
            "padding": null,
            "right": null,
            "top": null,
            "visibility": null,
            "width": null
          }
        },
        "fb774891e59546e19986b1c3f1e9b239": {
          "model_module": "@jupyter-widgets/controls",
          "model_name": "DescriptionStyleModel",
          "model_module_version": "1.5.0",
          "state": {
            "_model_module": "@jupyter-widgets/controls",
            "_model_module_version": "1.5.0",
            "_model_name": "DescriptionStyleModel",
            "_view_count": null,
            "_view_module": "@jupyter-widgets/base",
            "_view_module_version": "1.2.0",
            "_view_name": "StyleView",
            "description_width": ""
          }
        },
        "c93061db2c0645a0a571f826b149bec9": {
          "model_module": "@jupyter-widgets/controls",
          "model_name": "HBoxModel",
          "model_module_version": "1.5.0",
          "state": {
            "_dom_classes": [],
            "_model_module": "@jupyter-widgets/controls",
            "_model_module_version": "1.5.0",
            "_model_name": "HBoxModel",
            "_view_count": null,
            "_view_module": "@jupyter-widgets/controls",
            "_view_module_version": "1.5.0",
            "_view_name": "HBoxView",
            "box_style": "",
            "children": [
              "IPY_MODEL_c6bc972c70334ef69e417eddce31924e",
              "IPY_MODEL_53927728b90f416baf7edd3198635e69",
              "IPY_MODEL_ef0d7ad5025e49a9b29c75fb4811b2ad"
            ],
            "layout": "IPY_MODEL_159f868d612b41cebc9a66e70a842db1"
          }
        },
        "c6bc972c70334ef69e417eddce31924e": {
          "model_module": "@jupyter-widgets/controls",
          "model_name": "HTMLModel",
          "model_module_version": "1.5.0",
          "state": {
            "_dom_classes": [],
            "_model_module": "@jupyter-widgets/controls",
            "_model_module_version": "1.5.0",
            "_model_name": "HTMLModel",
            "_view_count": null,
            "_view_module": "@jupyter-widgets/controls",
            "_view_module_version": "1.5.0",
            "_view_name": "HTMLView",
            "description": "",
            "description_tooltip": null,
            "layout": "IPY_MODEL_38277dbd116e4ae3ad8a4c8a0c0c40fa",
            "placeholder": "​",
            "style": "IPY_MODEL_aad821939e6c4ee7b4d93d53560337bf",
            "value": "model.safetensors: 100%"
          }
        },
        "53927728b90f416baf7edd3198635e69": {
          "model_module": "@jupyter-widgets/controls",
          "model_name": "FloatProgressModel",
          "model_module_version": "1.5.0",
          "state": {
            "_dom_classes": [],
            "_model_module": "@jupyter-widgets/controls",
            "_model_module_version": "1.5.0",
            "_model_name": "FloatProgressModel",
            "_view_count": null,
            "_view_module": "@jupyter-widgets/controls",
            "_view_module_version": "1.5.0",
            "_view_name": "ProgressView",
            "bar_style": "success",
            "description": "",
            "description_tooltip": null,
            "layout": "IPY_MODEL_9ed1a55faf4b4774856f73ea44767628",
            "max": 17743328,
            "min": 0,
            "orientation": "horizontal",
            "style": "IPY_MODEL_abeac8d2c2bc47bf80c9e442bf970cb5",
            "value": 17743328
          }
        },
        "ef0d7ad5025e49a9b29c75fb4811b2ad": {
          "model_module": "@jupyter-widgets/controls",
          "model_name": "HTMLModel",
          "model_module_version": "1.5.0",
          "state": {
            "_dom_classes": [],
            "_model_module": "@jupyter-widgets/controls",
            "_model_module_version": "1.5.0",
            "_model_name": "HTMLModel",
            "_view_count": null,
            "_view_module": "@jupyter-widgets/controls",
            "_view_module_version": "1.5.0",
            "_view_name": "HTMLView",
            "description": "",
            "description_tooltip": null,
            "layout": "IPY_MODEL_d05de9179a2f4632914679c7f589a84a",
            "placeholder": "​",
            "style": "IPY_MODEL_d8df784b5a084444a434a1d020d9b78d",
            "value": " 17.7M/17.7M [00:00&lt;00:00, 30.7MB/s]"
          }
        },
        "159f868d612b41cebc9a66e70a842db1": {
          "model_module": "@jupyter-widgets/base",
          "model_name": "LayoutModel",
          "model_module_version": "1.2.0",
          "state": {
            "_model_module": "@jupyter-widgets/base",
            "_model_module_version": "1.2.0",
            "_model_name": "LayoutModel",
            "_view_count": null,
            "_view_module": "@jupyter-widgets/base",
            "_view_module_version": "1.2.0",
            "_view_name": "LayoutView",
            "align_content": null,
            "align_items": null,
            "align_self": null,
            "border": null,
            "bottom": null,
            "display": null,
            "flex": null,
            "flex_flow": null,
            "grid_area": null,
            "grid_auto_columns": null,
            "grid_auto_flow": null,
            "grid_auto_rows": null,
            "grid_column": null,
            "grid_gap": null,
            "grid_row": null,
            "grid_template_areas": null,
            "grid_template_columns": null,
            "grid_template_rows": null,
            "height": null,
            "justify_content": null,
            "justify_items": null,
            "left": null,
            "margin": null,
            "max_height": null,
            "max_width": null,
            "min_height": null,
            "min_width": null,
            "object_fit": null,
            "object_position": null,
            "order": null,
            "overflow": null,
            "overflow_x": null,
            "overflow_y": null,
            "padding": null,
            "right": null,
            "top": null,
            "visibility": null,
            "width": null
          }
        },
        "38277dbd116e4ae3ad8a4c8a0c0c40fa": {
          "model_module": "@jupyter-widgets/base",
          "model_name": "LayoutModel",
          "model_module_version": "1.2.0",
          "state": {
            "_model_module": "@jupyter-widgets/base",
            "_model_module_version": "1.2.0",
            "_model_name": "LayoutModel",
            "_view_count": null,
            "_view_module": "@jupyter-widgets/base",
            "_view_module_version": "1.2.0",
            "_view_name": "LayoutView",
            "align_content": null,
            "align_items": null,
            "align_self": null,
            "border": null,
            "bottom": null,
            "display": null,
            "flex": null,
            "flex_flow": null,
            "grid_area": null,
            "grid_auto_columns": null,
            "grid_auto_flow": null,
            "grid_auto_rows": null,
            "grid_column": null,
            "grid_gap": null,
            "grid_row": null,
            "grid_template_areas": null,
            "grid_template_columns": null,
            "grid_template_rows": null,
            "height": null,
            "justify_content": null,
            "justify_items": null,
            "left": null,
            "margin": null,
            "max_height": null,
            "max_width": null,
            "min_height": null,
            "min_width": null,
            "object_fit": null,
            "object_position": null,
            "order": null,
            "overflow": null,
            "overflow_x": null,
            "overflow_y": null,
            "padding": null,
            "right": null,
            "top": null,
            "visibility": null,
            "width": null
          }
        },
        "aad821939e6c4ee7b4d93d53560337bf": {
          "model_module": "@jupyter-widgets/controls",
          "model_name": "DescriptionStyleModel",
          "model_module_version": "1.5.0",
          "state": {
            "_model_module": "@jupyter-widgets/controls",
            "_model_module_version": "1.5.0",
            "_model_name": "DescriptionStyleModel",
            "_view_count": null,
            "_view_module": "@jupyter-widgets/base",
            "_view_module_version": "1.2.0",
            "_view_name": "StyleView",
            "description_width": ""
          }
        },
        "9ed1a55faf4b4774856f73ea44767628": {
          "model_module": "@jupyter-widgets/base",
          "model_name": "LayoutModel",
          "model_module_version": "1.2.0",
          "state": {
            "_model_module": "@jupyter-widgets/base",
            "_model_module_version": "1.2.0",
            "_model_name": "LayoutModel",
            "_view_count": null,
            "_view_module": "@jupyter-widgets/base",
            "_view_module_version": "1.2.0",
            "_view_name": "LayoutView",
            "align_content": null,
            "align_items": null,
            "align_self": null,
            "border": null,
            "bottom": null,
            "display": null,
            "flex": null,
            "flex_flow": null,
            "grid_area": null,
            "grid_auto_columns": null,
            "grid_auto_flow": null,
            "grid_auto_rows": null,
            "grid_column": null,
            "grid_gap": null,
            "grid_row": null,
            "grid_template_areas": null,
            "grid_template_columns": null,
            "grid_template_rows": null,
            "height": null,
            "justify_content": null,
            "justify_items": null,
            "left": null,
            "margin": null,
            "max_height": null,
            "max_width": null,
            "min_height": null,
            "min_width": null,
            "object_fit": null,
            "object_position": null,
            "order": null,
            "overflow": null,
            "overflow_x": null,
            "overflow_y": null,
            "padding": null,
            "right": null,
            "top": null,
            "visibility": null,
            "width": null
          }
        },
        "abeac8d2c2bc47bf80c9e442bf970cb5": {
          "model_module": "@jupyter-widgets/controls",
          "model_name": "ProgressStyleModel",
          "model_module_version": "1.5.0",
          "state": {
            "_model_module": "@jupyter-widgets/controls",
            "_model_module_version": "1.5.0",
            "_model_name": "ProgressStyleModel",
            "_view_count": null,
            "_view_module": "@jupyter-widgets/base",
            "_view_module_version": "1.2.0",
            "_view_name": "StyleView",
            "bar_color": null,
            "description_width": ""
          }
        },
        "d05de9179a2f4632914679c7f589a84a": {
          "model_module": "@jupyter-widgets/base",
          "model_name": "LayoutModel",
          "model_module_version": "1.2.0",
          "state": {
            "_model_module": "@jupyter-widgets/base",
            "_model_module_version": "1.2.0",
            "_model_name": "LayoutModel",
            "_view_count": null,
            "_view_module": "@jupyter-widgets/base",
            "_view_module_version": "1.2.0",
            "_view_name": "LayoutView",
            "align_content": null,
            "align_items": null,
            "align_self": null,
            "border": null,
            "bottom": null,
            "display": null,
            "flex": null,
            "flex_flow": null,
            "grid_area": null,
            "grid_auto_columns": null,
            "grid_auto_flow": null,
            "grid_auto_rows": null,
            "grid_column": null,
            "grid_gap": null,
            "grid_row": null,
            "grid_template_areas": null,
            "grid_template_columns": null,
            "grid_template_rows": null,
            "height": null,
            "justify_content": null,
            "justify_items": null,
            "left": null,
            "margin": null,
            "max_height": null,
            "max_width": null,
            "min_height": null,
            "min_width": null,
            "object_fit": null,
            "object_position": null,
            "order": null,
            "overflow": null,
            "overflow_x": null,
            "overflow_y": null,
            "padding": null,
            "right": null,
            "top": null,
            "visibility": null,
            "width": null
          }
        },
        "d8df784b5a084444a434a1d020d9b78d": {
          "model_module": "@jupyter-widgets/controls",
          "model_name": "DescriptionStyleModel",
          "model_module_version": "1.5.0",
          "state": {
            "_model_module": "@jupyter-widgets/controls",
            "_model_module_version": "1.5.0",
            "_model_name": "DescriptionStyleModel",
            "_view_count": null,
            "_view_module": "@jupyter-widgets/base",
            "_view_module_version": "1.2.0",
            "_view_name": "StyleView",
            "description_width": ""
          }
        }
      }
    }
  },
  "cells": [
    {
      "cell_type": "markdown",
      "source": [
        "Imports"
      ],
      "metadata": {
        "id": "-c75DTXGILJl"
      }
    },
    {
      "cell_type": "code",
      "execution_count": null,
      "metadata": {
        "colab": {
          "base_uri": "https://localhost:8080/"
        },
        "id": "UwKSXICZH-yt",
        "outputId": "a93b5c1f-378b-45d4-dffd-501645f63629"
      },
      "outputs": [
        {
          "output_type": "stream",
          "name": "stdout",
          "text": [
            "\u001b[?25l   \u001b[90m━━━━━━━━━━━━━━━━━━━━━━━━━━━━━━━━━━━━━━━━\u001b[0m \u001b[32m0.0/84.1 kB\u001b[0m \u001b[31m?\u001b[0m eta \u001b[36m-:--:--\u001b[0m\r\u001b[2K   \u001b[90m━━━━━━━━━━━━━━━━━━━━━━━━━━━━━━━━━━━━━━━━\u001b[0m \u001b[32m84.1/84.1 kB\u001b[0m \u001b[31m6.4 MB/s\u001b[0m eta \u001b[36m0:00:00\u001b[0m\n",
            "\u001b[?25h\u001b[?25l   \u001b[90m━━━━━━━━━━━━━━━━━━━━━━━━━━━━━━━━━━━━━━━━\u001b[0m \u001b[32m0.0/400.9 kB\u001b[0m \u001b[31m?\u001b[0m eta \u001b[36m-:--:--\u001b[0m\r\u001b[2K   \u001b[90m━━━━━━━━━━━━━━━━━━━━━━━━━━━━━━━━━━━━━━━━\u001b[0m \u001b[32m400.9/400.9 kB\u001b[0m \u001b[31m21.1 MB/s\u001b[0m eta \u001b[36m0:00:00\u001b[0m\n",
            "\u001b[?25h\u001b[?25l   \u001b[90m━━━━━━━━━━━━━━━━━━━━━━━━━━━━━━━━━━━━━━━━\u001b[0m \u001b[32m0.0/247.0 kB\u001b[0m \u001b[31m?\u001b[0m eta \u001b[36m-:--:--\u001b[0m\r\u001b[2K   \u001b[90m━━━━━━━━━━━━━━━━━━━━━━━━━━━━━━━━━━━━━━━━\u001b[0m \u001b[32m247.0/247.0 kB\u001b[0m \u001b[31m21.3 MB/s\u001b[0m eta \u001b[36m0:00:00\u001b[0m\n",
            "\u001b[?25hPython: 3.12.11 (main, Jun  4 2025, 08:56:18) [GCC 11.4.0]\n",
            "PyTorch: 2.8.0+cu126\n",
            "CUDA available: True\n",
            "MPS available (Apple Silicon): False\n",
            "Using device: cuda\n"
          ]
        }
      ],
      "source": [
        "%pip install -q transformers datasets accelerate evaluate optuna wandb scikit-learn optuna\n",
        "\n",
        "import os, sys, math, re, random, json, time\n",
        "import numpy as np\n",
        "import pandas as pd\n",
        "import kagglehub\n",
        "import torch\n",
        "from torch import nn\n",
        "from torch.utils.data import Dataset, DataLoader\n",
        "from sklearn.metrics import accuracy_score, precision_score, recall_score, f1_score, roc_auc_score\n",
        "from transformers import AutoTokenizer\n",
        "import warnings\n",
        "warnings.filterwarnings(\"ignore\")\n",
        "\n",
        "print(\"Python:\", sys.version)\n",
        "print(\"PyTorch:\", torch.__version__)\n",
        "print(\"CUDA available:\", torch.cuda.is_available())\n",
        "print(\"MPS available (Apple Silicon):\", torch.backends.mps.is_available())\n",
        "\n",
        "if torch.cuda.is_available():\n",
        "    DEVICE = torch.device(\"cuda\")\n",
        "elif torch.backends.mps.is_available():\n",
        "    DEVICE = torch.device(\"mps\")\n",
        "else:\n",
        "    DEVICE = torch.device(\"cpu\")\n",
        "print(\"Using device:\", DEVICE)"
      ]
    },
    {
      "cell_type": "markdown",
      "source": [
        "**Get data**"
      ],
      "metadata": {
        "id": "0ni2uGznIZIW"
      }
    },
    {
      "cell_type": "code",
      "source": [
        "path = kagglehub.dataset_download(\"datatattle/covid-19-nlp-text-classification\")\n",
        "raw_df = pd.read_csv(os.path.join(path, \"Corona_NLP_train.csv\"), encoding=\"latin1\")\n",
        "test_df = pd.read_csv(os.path.join(path, \"Corona_NLP_test.csv\"), encoding=\"latin1\")"
      ],
      "metadata": {
        "id": "Up_n-agkIOGh"
      },
      "execution_count": null,
      "outputs": []
    },
    {
      "cell_type": "markdown",
      "source": [
        "**Clean data and tokenization**"
      ],
      "metadata": {
        "id": "hiBbG50TIchE"
      }
    },
    {
      "cell_type": "code",
      "source": [
        "def clean_text(text: str) -> str:\n",
        "    \"\"\"\n",
        "    Minimal tweet cleaning: remove URLs, mentions, hashtags, and extra spaces.\n",
        "    Keep it simple to avoid losing sentiment cues.\n",
        "    \"\"\"\n",
        "    text = re.sub(r\"http\\S+|www\\S+|https\\S+\", \"\", text, flags=re.MULTILINE)\n",
        "    text = re.sub(r\"@\\w+\", \"\", text)\n",
        "    text = re.sub(r\"#\\w+\", \"\", text)\n",
        "    text = re.sub(r\"\\s+\", \" \", text).strip()\n",
        "    return text\n",
        "\n",
        "LABEL_MAP = {\n",
        "    \"Extremely Negative\": 0,\n",
        "    \"Negative\": 1,\n",
        "    \"Neutral\": 2,\n",
        "    \"Positive\": 3,\n",
        "    \"Extremely Positive\": 4\n",
        "}\n",
        "\n",
        "raw_df[\"CleanedTweet\"] = raw_df[\"OriginalTweet\"].astype(str).apply(clean_text)\n",
        "raw_df[\"label\"] = raw_df[\"Sentiment\"].map(LABEL_MAP)\n",
        "raw_df = raw_df.dropna(subset=[\"CleanedTweet\", \"label\"])\n",
        "\n",
        "print(\"Samples:\", len(raw_df))\n",
        "print(raw_df[[\"Sentiment\", \"label\"]].head())\n",
        "\n",
        "from sklearn.model_selection import train_test_split\n",
        "train_df, val_df = train_test_split(\n",
        "    raw_df[[\"CleanedTweet\",\"label\"]],\n",
        "    test_size=0.1,\n",
        "    random_state=42,\n",
        "    stratify=raw_df[\"label\"]\n",
        ")\n",
        "\n",
        "print(\"Train:\", len(train_df), \"Val:\", len(val_df))"
      ],
      "metadata": {
        "colab": {
          "base_uri": "https://localhost:8080/"
        },
        "id": "HL3cOl1yIeVn",
        "outputId": "97cef95b-6ce0-44bc-cf00-f8f303b1703a"
      },
      "execution_count": null,
      "outputs": [
        {
          "output_type": "stream",
          "name": "stdout",
          "text": [
            "Samples: 41157\n",
            "            Sentiment  label\n",
            "0             Neutral      2\n",
            "1            Positive      3\n",
            "2            Positive      3\n",
            "3            Positive      3\n",
            "4  Extremely Negative      0\n",
            "Train: 37041 Val: 4116\n"
          ]
        }
      ]
    },
    {
      "cell_type": "code",
      "source": [
        "MODEL_NAME_DISTILBERT = \"distilbert-base-uncased\"\n",
        "MODEL_NAME_ROBERTA    = \"roberta-base\"\n",
        "\n",
        "tokenizer_distilbert = AutoTokenizer.from_pretrained(MODEL_NAME_DISTILBERT)\n",
        "tokenizer_roberta    = AutoTokenizer.from_pretrained(MODEL_NAME_ROBERTA)\n",
        "\n",
        "class CoronaTweetsDataset(Dataset):\n",
        "    \"\"\"PyTorch Dataset for tokenized tweets.\"\"\"\n",
        "    def __init__(self, texts, labels, tokenizer, max_len=128):\n",
        "        self.encodings = tokenizer(list(texts), truncation=True, padding=True, max_length=max_len)\n",
        "        self.labels = list(labels)\n",
        "\n",
        "    def __len__(self):\n",
        "        return len(self.labels)\n",
        "\n",
        "    def __getitem__(self, idx):\n",
        "        item = {k: torch.tensor(v[idx]) for k, v in self.encodings.items()}\n",
        "        item[\"labels\"] = torch.tensor(self.labels[idx])\n",
        "        return item\n",
        "\n",
        "train_ds_distilbert = CoronaTweetsDataset(train_df[\"CleanedTweet\"], train_df[\"label\"], tokenizer_distilbert)\n",
        "val_ds_distilbert   = CoronaTweetsDataset(val_df[\"CleanedTweet\"],   val_df[\"label\"],   tokenizer_distilbert)\n",
        "train_ds_roberta    = CoronaTweetsDataset(train_df[\"CleanedTweet\"], train_df[\"label\"], tokenizer_roberta)\n",
        "val_ds_roberta      = CoronaTweetsDataset(val_df[\"CleanedTweet\"],   val_df[\"label\"],   tokenizer_roberta)\n",
        "\n",
        "BATCH_TRAIN = 16\n",
        "BATCH_EVAL  = 32\n",
        "loader_train_distilbert = DataLoader(train_ds_distilbert, batch_size=BATCH_TRAIN, shuffle=True)\n",
        "loader_val_distilbert   = DataLoader(val_ds_distilbert,   batch_size=BATCH_EVAL,  shuffle=False)\n",
        "loader_train_roberta    = DataLoader(train_ds_roberta,    batch_size=BATCH_TRAIN, shuffle=True)\n",
        "loader_val_roberta      = DataLoader(val_ds_roberta,      batch_size=BATCH_EVAL,  shuffle=False)"
      ],
      "metadata": {
        "colab": {
          "base_uri": "https://localhost:8080/",
          "height": 305,
          "referenced_widgets": [
            "1e2226dea7e84d33bcdf56bebf04d526",
            "7fa3c43d33494605adcd689f5365fe04",
            "5afc89908156463d89a0147b30ca1fc8",
            "17ed75e8bd6f43d6add4e49ad0493b06",
            "8ec6190082e84e02a68e14a037a3eac9",
            "c8ec0e333b024cd9aae97c1a53c646d2",
            "e5bbcfcc286944048f784f7e868b8845",
            "707b928604a0411dbeb9c35719b04431",
            "1e9d8ad408ce4be7861867740b719498",
            "b1da51ab0b0e48d1bf096db80cef34bb",
            "c274439d8ce44c0d84578c09f2f9147a",
            "c2ee31774cfe4cfcac8b5b68bca55d7d",
            "40f2300e500241f280e6a73fe2043946",
            "fb58dcc1e3d14b58b5a7087ab16c3272",
            "e1e1490c164d458cb7fb989d2d7d6a9f",
            "d6d2c5bf79f14fb585286eabf299e175",
            "4247ce8b2ae44ae8ba276fe548b95d30",
            "25c92215e1a242fba567288a8a32f4fc",
            "6b4b55966a0e4037b28972a4b0363063",
            "765fbe3b1d1041babe475b9c8a350242",
            "de328f3beaf54cb1b1a99d865ad913d9",
            "b970a93fe747445aa0ac2aee30b30768",
            "32ec9098361741f29388e529650a5259",
            "e6119ecac1514e9d8f7c3738fa4e94c9",
            "117e7882198042d0a5259895902b2a66",
            "ce6a6d068b3b4e5d8ab297f4d6d0b4c8",
            "6c8a29b552354890bad7c5841a59c322",
            "bd532c7897dd4b8284e158c1f54a0380",
            "f8498037b05749eb9a7da8d0a0a18825",
            "e7efec26f4c24fa0b95087fdb57d4a13",
            "0c89a97a06d64061b3ae5c706b8b6c3a",
            "1b47c377ee4b4fcea82430ec30e9ca59",
            "9ec090c9baec41f1adc8d09d938f6288",
            "06f935631d5442ffa5403a496213a2ac",
            "7116453ff4e4415c9412272c04915fec",
            "e66a5721b26c449f94a640c60e90b3d1",
            "5f3caf420eab4323a7a5beae59a67e1b",
            "d22d93a94613416f97474bb45d5d77f4",
            "c011c1213b064147a18d2a8038ad6c53",
            "d5d028666e9644a3a4e4acd4bf114463",
            "b9344de6195f4fbe897fe47bcded2323",
            "c87272fcc0394448adca4e354d8bb385",
            "f88c65cc945942fcb74f03acbe966551",
            "923975a4d76b48cebe32df3faa72a54c",
            "1f02517786b944acaaef263b03b5206d",
            "c5d4103521a94ab08db7e16473584320",
            "559f0d6e251044a9a2db49a62f558d4e",
            "4264a24f16a743299aae4a717aa1103d",
            "02308d8a81cd4c78a3ff3d96b9b70c40",
            "93e91b4c3b6741e8ac2359d9c64d82ea",
            "184b7cfa0d1d4672ac13a5996c55b868",
            "c98984a5d9ad43fda1aac7bc0969b27b",
            "4ec44c7d4dc34e1a8f1faef4ab19297b",
            "5f3fb7ecbcf44a93aa857e05453d0edb",
            "eb0042f9fd394ba2ae65c5ca30b0fa84",
            "7a6b0b2194be47069ceabb1048eee423",
            "7d2fb7f35379455db5c5cb42e86dacb4",
            "b0dbd22033484e289b05d943d0777dff",
            "5d478b53b35a4ac8ac3facb68685729c",
            "9a0c5ac742e84d6a9f36170cdfc03f60",
            "4641540eea364ab28fead828628f685a",
            "63db6f38600147bf9ca72d8fbee74cb8",
            "20da8b431ca847a2ba8d1fdcef7cc9d3",
            "9ac6fa3c691e45cab0cc416b6ad0f0b6",
            "2dbbbeac4cb946e6b0a364e169f0eaf5",
            "60ae02adfea04a82a55d785f01b3824e",
            "6587b0da53724c4998301caddf5a5a52",
            "035f49d2a3834f65a43957c57e39fbb8",
            "dfb645621d044bc38594a281949571fe",
            "6078ad3547994b0983047ad9a94eb9f1",
            "f43dedf5a7ac4cdb92f341d49ac8464e",
            "b3238e07b6cf415eb12c92728ea3f6c2",
            "bb845e1d2d82478aab010a5f97fc3a88",
            "483f2950ffed4602bb4f36c634171f4f",
            "09aa53eddf7442b285422f619e24c3ba",
            "8df2a4469d5e47dfbab5d2bf281e73b3",
            "9a69de27e8934581b73ef037099e2885",
            "ec596dcd8fd54bdb8e08fa7291f864c3",
            "eeeb21c13f1a4d75b0790f5f1dad9969",
            "9d94e1f4f48f47efaf40147afb602f3f",
            "03a07c6ad3c0453c86dcc99323476a73",
            "120e5a43fd784d6f88b55820f91107ea",
            "06b129bf9c784b3a84ad6ea12d0830b7",
            "4ecf544d681b48309652b0431253a741",
            "0d6b3f7b7be14ed5882ef343669e511c",
            "d9c122f7cb214c0baf962f77d096d0e5",
            "caefd1a7ef87490cb322d92745acecfb",
            "a67d932605b64dbe96629130248831aa",
            "9a588632a33a44d8a01d1256c2ac921c",
            "04335e7524ef4187b0d46c5fb1d676ec",
            "2d6a7fcd467c4cc1956818eab4df3c85",
            "088302289a264e79ae336b62a83cd64d",
            "bac7c56fdeb449979ddc3baaa0a45d1c",
            "ec76dde65ca64e9394d73fa80de4579b",
            "29dc57cf3d054ac8bc77cba8b57a6bfa",
            "d417a72c661f4142a2a4c3380dca0958",
            "48a4fd31d4cb4b11b425dfdd043bed87",
            "9e85e0d2e8184d8385956785413fcf14",
            "88753ce16e3e4499a68ead6fcdfff6c7"
          ]
        },
        "id": "eli7rPa2If8P",
        "outputId": "fc62b479-9bb1-4ad0-a10e-040df5e61241"
      },
      "execution_count": null,
      "outputs": [
        {
          "output_type": "display_data",
          "data": {
            "text/plain": [
              "tokenizer_config.json:   0%|          | 0.00/48.0 [00:00<?, ?B/s]"
            ],
            "application/vnd.jupyter.widget-view+json": {
              "version_major": 2,
              "version_minor": 0,
              "model_id": "1e2226dea7e84d33bcdf56bebf04d526"
            }
          },
          "metadata": {}
        },
        {
          "output_type": "display_data",
          "data": {
            "text/plain": [
              "config.json:   0%|          | 0.00/483 [00:00<?, ?B/s]"
            ],
            "application/vnd.jupyter.widget-view+json": {
              "version_major": 2,
              "version_minor": 0,
              "model_id": "c2ee31774cfe4cfcac8b5b68bca55d7d"
            }
          },
          "metadata": {}
        },
        {
          "output_type": "display_data",
          "data": {
            "text/plain": [
              "vocab.txt:   0%|          | 0.00/232k [00:00<?, ?B/s]"
            ],
            "application/vnd.jupyter.widget-view+json": {
              "version_major": 2,
              "version_minor": 0,
              "model_id": "32ec9098361741f29388e529650a5259"
            }
          },
          "metadata": {}
        },
        {
          "output_type": "display_data",
          "data": {
            "text/plain": [
              "tokenizer.json:   0%|          | 0.00/466k [00:00<?, ?B/s]"
            ],
            "application/vnd.jupyter.widget-view+json": {
              "version_major": 2,
              "version_minor": 0,
              "model_id": "06f935631d5442ffa5403a496213a2ac"
            }
          },
          "metadata": {}
        },
        {
          "output_type": "display_data",
          "data": {
            "text/plain": [
              "tokenizer_config.json:   0%|          | 0.00/25.0 [00:00<?, ?B/s]"
            ],
            "application/vnd.jupyter.widget-view+json": {
              "version_major": 2,
              "version_minor": 0,
              "model_id": "1f02517786b944acaaef263b03b5206d"
            }
          },
          "metadata": {}
        },
        {
          "output_type": "display_data",
          "data": {
            "text/plain": [
              "config.json:   0%|          | 0.00/481 [00:00<?, ?B/s]"
            ],
            "application/vnd.jupyter.widget-view+json": {
              "version_major": 2,
              "version_minor": 0,
              "model_id": "7a6b0b2194be47069ceabb1048eee423"
            }
          },
          "metadata": {}
        },
        {
          "output_type": "display_data",
          "data": {
            "text/plain": [
              "vocab.json:   0%|          | 0.00/899k [00:00<?, ?B/s]"
            ],
            "application/vnd.jupyter.widget-view+json": {
              "version_major": 2,
              "version_minor": 0,
              "model_id": "6587b0da53724c4998301caddf5a5a52"
            }
          },
          "metadata": {}
        },
        {
          "output_type": "display_data",
          "data": {
            "text/plain": [
              "merges.txt:   0%|          | 0.00/456k [00:00<?, ?B/s]"
            ],
            "application/vnd.jupyter.widget-view+json": {
              "version_major": 2,
              "version_minor": 0,
              "model_id": "ec596dcd8fd54bdb8e08fa7291f864c3"
            }
          },
          "metadata": {}
        },
        {
          "output_type": "display_data",
          "data": {
            "text/plain": [
              "tokenizer.json:   0%|          | 0.00/1.36M [00:00<?, ?B/s]"
            ],
            "application/vnd.jupyter.widget-view+json": {
              "version_major": 2,
              "version_minor": 0,
              "model_id": "9a588632a33a44d8a01d1256c2ac921c"
            }
          },
          "metadata": {}
        }
      ]
    },
    {
      "cell_type": "markdown",
      "source": [
        "**Fine Tuning - Full code**"
      ],
      "metadata": {
        "id": "CKm514U8Ih4O"
      }
    },
    {
      "cell_type": "markdown",
      "source": [
        "learning_rate 1e-5 to 1e-3, weight_decay 1e-6 to 1e-4, batch_size 64 and 128"
      ],
      "metadata": {
        "id": "SQC2EITbXcJs"
      }
    },
    {
      "cell_type": "code",
      "source": [
        "import torch\n",
        "import torch.nn as nn\n",
        "from transformers import AutoModelForSequenceClassification, AutoTokenizer\n",
        "from torch.optim import Adam\n",
        "from sklearn.metrics import accuracy_score, precision_score, recall_score, f1_score, roc_auc_score\n",
        "import optuna\n",
        "import wandb\n",
        "import pandas as pd\n",
        "from torch.utils.data import DataLoader\n",
        "\n",
        "\n",
        "def compute_metrics_np(y_true, y_pred):\n",
        "    \"\"\"Compute comprehensive metrics for evaluation.\"\"\"\n",
        "    acc = accuracy_score(y_true, y_pred)\n",
        "    prec = precision_score(y_true, y_pred, average=\"weighted\", zero_division=0)\n",
        "    rec = recall_score(y_true, y_pred, average=\"weighted\", zero_division=0)\n",
        "    f1 = f1_score(y_true, y_pred, average=\"weighted\", zero_division=0)\n",
        "    try:\n",
        "        auc = roc_auc_score(y_true, pd.get_dummies(y_pred).values, average=\"weighted\", multi_class=\"ovr\")\n",
        "    except Exception:\n",
        "        auc = float(\"nan\")\n",
        "    return {\"accuracy\": acc, \"precision\": prec, \"recall\": rec, \"f1\": f1, \"auc\": auc}\n",
        "\n",
        "def early_stop_check(patience, best_val_accuracy, best_val_accuracy_epoch,\n",
        "                    current_val_accuracy, current_val_accuracy_epoch):\n",
        "    \"\"\"Check if early stopping condition is met.\"\"\"\n",
        "    early_stop_flag = False\n",
        "    if current_val_accuracy > best_val_accuracy:\n",
        "        best_val_accuracy = current_val_accuracy\n",
        "        best_val_accuracy_epoch = current_val_accuracy_epoch\n",
        "    else:\n",
        "        if current_val_accuracy_epoch - best_val_accuracy_epoch >= patience:\n",
        "            early_stop_flag = True\n",
        "    return best_val_accuracy, best_val_accuracy_epoch, early_stop_flag\n",
        "\n",
        "def train_model_with_hyperparams(model, train_loader, val_loader, optimizer, criterion, epochs, patience, trial):\n",
        "    best_val_accuracy = 0.0\n",
        "    best_val_accuracy_epoch = 0\n",
        "    early_stop_flag = False\n",
        "    best_model_state = None\n",
        "\n",
        "    for epoch in range(1, epochs + 1):\n",
        "        model.train()\n",
        "        train_loss = 0.0\n",
        "        total_train_samples = 0\n",
        "        correct_train_predictions = 0\n",
        "\n",
        "        for batch in train_loader:\n",
        "            input_ids = batch['input_ids'].to(DEVICE)\n",
        "            attention_mask = batch['attention_mask'].to(DEVICE)\n",
        "            labels = batch['labels'].to(DEVICE)\n",
        "\n",
        "            optimizer.zero_grad()\n",
        "            outputs = model(input_ids, attention_mask=attention_mask)\n",
        "            logits = outputs.logits\n",
        "            loss = criterion(logits, labels)\n",
        "            loss.backward()\n",
        "            optimizer.step()\n",
        "\n",
        "            train_loss += loss.item() * input_ids.size(0)\n",
        "            total_train_samples += input_ids.size(0)\n",
        "            correct_train_predictions += (logits.argmax(dim=1) == labels).sum().item()\n",
        "\n",
        "        train_loss /= total_train_samples\n",
        "        train_accuracy = correct_train_predictions / total_train_samples\n",
        "\n",
        "        model.eval()\n",
        "        val_loss = 0.0\n",
        "        total_val_samples = 0\n",
        "        correct_val_predictions = 0\n",
        "        all_val_labels = []\n",
        "        all_val_preds = []\n",
        "\n",
        "        with torch.no_grad():\n",
        "            for batch in val_loader:\n",
        "                input_ids = batch['input_ids'].to(DEVICE)\n",
        "                attention_mask = batch['attention_mask'].to(DEVICE)\n",
        "                labels = batch['labels'].to(DEVICE)\n",
        "\n",
        "                outputs = model(input_ids, attention_mask=attention_mask)\n",
        "                logits = outputs.logits\n",
        "                loss = criterion(logits, labels)\n",
        "\n",
        "                val_loss += loss.item() * input_ids.size(0)\n",
        "                total_val_samples += input_ids.size(0)\n",
        "                correct_val_predictions += (logits.argmax(dim=1) == labels).sum().item()\n",
        "\n",
        "                all_val_labels.extend(labels.cpu().numpy())\n",
        "                all_val_preds.extend(logits.argmax(dim=1).cpu().numpy())\n",
        "\n",
        "        val_loss /= total_val_samples\n",
        "        val_accuracy = correct_val_predictions / total_val_samples\n",
        "        val_precision = precision_score(all_val_labels, all_val_preds, average='weighted', zero_division=0)\n",
        "        val_recall = recall_score(all_val_labels, all_val_preds, average='weighted', zero_division=0)\n",
        "        val_f1 = f1_score(all_val_labels, all_val_preds, average='weighted', zero_division=0)\n",
        "\n",
        "        best_val_accuracy, best_val_accuracy_epoch, early_stop_flag = early_stop_check(\n",
        "            patience, best_val_accuracy, best_val_accuracy_epoch, val_accuracy, epoch\n",
        "        )\n",
        "\n",
        "        if val_accuracy == best_val_accuracy:\n",
        "            best_model_state = model.state_dict()\n",
        "\n",
        "        wandb.log({\n",
        "            \"Epoch\": epoch,\n",
        "            \"Train Loss\": train_loss,\n",
        "            \"Train Accuracy\": train_accuracy,\n",
        "            \"Validation Loss\": val_loss,\n",
        "            \"Validation Accuracy\": val_accuracy,\n",
        "            \"Validation Precision\": val_precision,\n",
        "            \"Validation Recall\": val_recall,\n",
        "            \"Validation F1\": val_f1\n",
        "        })\n",
        "\n",
        "        if early_stop_flag:\n",
        "            break\n",
        "\n",
        "    if best_model_state is not None:\n",
        "        torch.save(best_model_state, f\"best_model_trial_{trial.number}.pt\")\n",
        "\n",
        "    return best_val_accuracy\n",
        "\n",
        "def objective_distilbert(trial):\n",
        "    learning_rate = trial.suggest_float(\"learning_rate\", 1e-5, 1e-3, log=True)\n",
        "    weight_decay = trial.suggest_float(\"weight_decay\", 1e-6, 1e-4, log=True)\n",
        "    patience = trial.suggest_int(\"patience\", 7, 10)\n",
        "    batch_size = trial.suggest_categorical(\"batch_size\", [64, 128])\n",
        "    num_layers = trial.suggest_int(\"num_layers\", 1, 3)\n",
        "\n",
        "    train_dataset = CoronaTweetsDataset(train_df[\"CleanedTweet\"], train_df[\"label\"], tokenizer_distilbert)\n",
        "    val_dataset = CoronaTweetsDataset(val_df[\"CleanedTweet\"], val_df[\"label\"], tokenizer_distilbert)\n",
        "    train_loader = DataLoader(train_dataset, batch_size=batch_size, shuffle=True)\n",
        "    val_loader = DataLoader(val_dataset, batch_size=batch_size, shuffle=False)\n",
        "\n",
        "    model = AutoModelForSequenceClassification.from_pretrained(MODEL_NAME_DISTILBERT, num_labels=5).to(DEVICE)\n",
        "\n",
        "    for param in model.distilbert.parameters():\n",
        "        param.requires_grad = False\n",
        "\n",
        "    total_layers = len(model.distilbert.transformer.layer)\n",
        "    for layer_idx in range(max(0, total_layers - num_layers), total_layers):\n",
        "        for param in model.distilbert.transformer.layer[layer_idx].parameters():\n",
        "            param.requires_grad = True\n",
        "\n",
        "    for param in model.classifier.parameters():\n",
        "        param.requires_grad = True\n",
        "\n",
        "    criterion = nn.CrossEntropyLoss()\n",
        "    optimizer = Adam(model.parameters(), lr=learning_rate, weight_decay=weight_decay)\n",
        "\n",
        "    wandb.init(project=\"corona-tweets-finetuning\",\n",
        "               config={\n",
        "                   \"learning_rate\": learning_rate,\n",
        "                   \"weight_decay\": weight_decay,\n",
        "                   \"patience\": patience,\n",
        "                   \"batch_size\": batch_size,\n",
        "                   \"num_layers\": num_layers,\n",
        "                   \"architecture\": \"DistilBERT\",\n",
        "                   \"dataset\": \"corona-tweets\"\n",
        "               },\n",
        "               name=f\"distilbert_trial_{trial.number}\")\n",
        "\n",
        "    best_val_accuracy = train_model_with_hyperparams(model, train_loader, val_loader,\n",
        "                                                    optimizer, criterion, epochs=7,\n",
        "                                                    patience=patience, trial=trial)\n",
        "\n",
        "    wandb.finish()\n",
        "\n",
        "    return best_val_accuracy\n",
        "\n",
        "def objective_roberta(trial):\n",
        "    learning_rate = trial.suggest_float(\"learning_rate\", 1e-5, 1e-3, log=True)\n",
        "    weight_decay = trial.suggest_float(\"weight_decay\", 1e-6, 1e-4, log=True)\n",
        "    patience = trial.suggest_int(\"patience\", 7, 10)\n",
        "    batch_size = trial.suggest_categorical(\"batch_size\", [64, 128])\n",
        "    num_layers = trial.suggest_int(\"num_layers\", 1, 3)\n",
        "\n",
        "    train_dataset = CoronaTweetsDataset(train_df[\"CleanedTweet\"], train_df[\"label\"], tokenizer_roberta)\n",
        "    val_dataset = CoronaTweetsDataset(val_df[\"CleanedTweet\"], val_df[\"label\"], tokenizer_roberta)\n",
        "    train_loader = DataLoader(train_dataset, batch_size=batch_size, shuffle=True)\n",
        "    val_loader = DataLoader(val_dataset, batch_size=batch_size, shuffle=False)\n",
        "\n",
        "    model = AutoModelForSequenceClassification.from_pretrained(MODEL_NAME_ROBERTA, num_labels=5).to(DEVICE)\n",
        "\n",
        "    for param in model.roberta.parameters():\n",
        "        param.requires_grad = False\n",
        "\n",
        "    total_layers = len(model.roberta.encoder.layer)\n",
        "    for layer_idx in range(max(0, total_layers - num_layers), total_layers):\n",
        "        for param in model.roberta.encoder.layer[layer_idx].parameters():\n",
        "            param.requires_grad = True\n",
        "\n",
        "    for param in model.classifier.parameters():\n",
        "        param.requires_grad = True\n",
        "\n",
        "    criterion = nn.CrossEntropyLoss()\n",
        "    optimizer = Adam(model.parameters(), lr=learning_rate, weight_decay=weight_decay)\n",
        "\n",
        "    wandb.init(project=\"corona-tweets-finetuning\",\n",
        "               config={\n",
        "                   \"learning_rate\": learning_rate,\n",
        "                   \"weight_decay\": weight_decay,\n",
        "                   \"patience\": patience,\n",
        "                   \"batch_size\": batch_size,\n",
        "                   \"num_layers\": num_layers,\n",
        "                   \"architecture\": \"RoBERTa\",\n",
        "                   \"dataset\": \"corona-tweets\"\n",
        "               },\n",
        "               name=f\"roberta_trial_{trial.number}\")\n",
        "\n",
        "    best_val_accuracy = train_model_with_hyperparams(model, train_loader, val_loader,\n",
        "                                                    optimizer, criterion, epochs=7,\n",
        "                                                    patience=patience, trial=trial)\n",
        "\n",
        "    wandb.finish()\n",
        "\n",
        "    return best_val_accuracy\n",
        "\n",
        "def evaluate_model(model_path, model_name, test_loader):\n",
        "    \"\"\"Function to evaluate the model on test set.\"\"\"\n",
        "    # Load the model\n",
        "    model = AutoModelForSequenceClassification.from_pretrained(model_name, num_labels=5)\n",
        "    model.load_state_dict(torch.load(model_path))\n",
        "    model = model.to(DEVICE)\n",
        "    model.eval()\n",
        "\n",
        "    all_labels = []\n",
        "    all_preds = []\n",
        "\n",
        "    with torch.no_grad():\n",
        "        for batch in test_loader:\n",
        "            input_ids = batch['input_ids'].to(DEVICE)\n",
        "            attention_mask = batch['attention_mask'].to(DEVICE)\n",
        "            labels = batch['labels'].to(DEVICE)\n",
        "\n",
        "            outputs = model(input_ids, attention_mask=attention_mask)\n",
        "            logits = outputs.logits\n",
        "            preds = logits.argmax(dim=1)\n",
        "\n",
        "            all_labels.extend(labels.cpu().numpy())\n",
        "            all_preds.extend(preds.cpu().numpy())\n",
        "\n",
        "    metrics = compute_metrics_np(all_labels, all_preds)\n",
        "    return metrics\n",
        "\n",
        "\n",
        "print(\"\\n=== Optimizing DistilBERT ===\")\n",
        "study_distilbert = optuna.create_study(direction=\"maximize\")\n",
        "study_distilbert.optimize(objective_distilbert, n_trials=2)\n",
        "\n",
        "print(\"\\n=== Optimizing RoBERTa ===\")\n",
        "study_roberta = optuna.create_study(direction=\"maximize\")\n",
        "study_roberta.optimize(objective_roberta, n_trials=2)\n",
        "\n",
        "print(\"\\n=== Best Parameters ===\")\n",
        "print(\"DistilBERT best params:\", study_distilbert.best_params)\n",
        "print(\"DistilBERT best value:\", study_distilbert.best_value)\n",
        "print(\"RoBERTa best params:\", study_roberta.best_params)\n",
        "print(\"RoBERTa best value:\", study_roberta.best_value)"
      ],
      "metadata": {
        "colab": {
          "base_uri": "https://localhost:8080/",
          "height": 1000,
          "referenced_widgets": [
            "d0ea4e3571c6404390e09c6590df1d02",
            "34d5587e3b344e618fdfec1f8a3d3ea3",
            "d6dd0da4d48b4a2fa73dc483979e61bc",
            "62d9519df61b4ab4816b343779361f7a",
            "7de14ddd9b654384833571b2a9c3c183",
            "c5c21930cf5245cc9f24a2910b84f9b5",
            "c796e9baae024c8dade4097df3479974",
            "260e1294d77e471fa13a2a94941dfc59",
            "e361773674fd4988bc17354717c97e6c",
            "63bb3db3d0a8476fa39221951188217a",
            "64a5c6dbc97d4c299736a3dddf569139"
          ]
        },
        "id": "YdnU0ApvIkGB",
        "outputId": "d806c3ae-430c-442f-fbb4-a4eef8790712"
      },
      "execution_count": null,
      "outputs": [
        {
          "output_type": "stream",
          "name": "stderr",
          "text": [
            "[I 2025-08-19 08:37:07,995] A new study created in memory with name: no-name-2e6895a6-c182-4b57-831e-ed58e2042a2c\n"
          ]
        },
        {
          "output_type": "stream",
          "name": "stdout",
          "text": [
            "\n",
            "=== Optimizing DistilBERT ===\n"
          ]
        },
        {
          "output_type": "stream",
          "name": "stderr",
          "text": [
            "Some weights of DistilBertForSequenceClassification were not initialized from the model checkpoint at distilbert-base-uncased and are newly initialized: ['classifier.bias', 'classifier.weight', 'pre_classifier.bias', 'pre_classifier.weight']\n",
            "You should probably TRAIN this model on a down-stream task to be able to use it for predictions and inference.\n"
          ]
        },
        {
          "output_type": "display_data",
          "data": {
            "text/plain": [
              "<IPython.core.display.HTML object>"
            ],
            "text/html": [
              "Finishing previous runs because reinit is set to 'default'."
            ]
          },
          "metadata": {}
        },
        {
          "output_type": "display_data",
          "data": {
            "text/plain": [
              "<IPython.core.display.HTML object>"
            ],
            "text/html": []
          },
          "metadata": {}
        },
        {
          "output_type": "display_data",
          "data": {
            "text/plain": [
              "<IPython.core.display.HTML object>"
            ],
            "text/html": [
              "<br>    <style><br>        .wandb-row {<br>            display: flex;<br>            flex-direction: row;<br>            flex-wrap: wrap;<br>            justify-content: flex-start;<br>            width: 100%;<br>        }<br>        .wandb-col {<br>            display: flex;<br>            flex-direction: column;<br>            flex-basis: 100%;<br>            flex: 1;<br>            padding: 10px;<br>        }<br>    </style><br><div class=\"wandb-row\"><div class=\"wandb-col\"><h3>Run history:</h3><br/><table class=\"wandb\"><tr><td>Epoch</td><td>▁▂▃▅▆▇█</td></tr><tr><td>Train Accuracy</td><td>▁▄▅▆▇▇█</td></tr><tr><td>Train Loss</td><td>█▅▄▄▃▂▁</td></tr><tr><td>Validation Accuracy</td><td>▁▄▄▇██▇</td></tr><tr><td>Validation F1</td><td>▁▄▄██▇▇</td></tr><tr><td>Validation Loss</td><td>█▅▄▁▁▂▅</td></tr><tr><td>Validation Precision</td><td>▁▅▄█▇▇█</td></tr><tr><td>Validation Recall</td><td>▁▄▄▇██▇</td></tr></table><br/></div><div class=\"wandb-col\"><h3>Run summary:</h3><br/><table class=\"wandb\"><tr><td>Epoch</td><td>7</td></tr><tr><td>Train Accuracy</td><td>0.77433</td></tr><tr><td>Train Loss</td><td>0.56364</td></tr><tr><td>Validation Accuracy</td><td>0.65938</td></tr><tr><td>Validation F1</td><td>0.66281</td></tr><tr><td>Validation Loss</td><td>0.89061</td></tr><tr><td>Validation Precision</td><td>0.67912</td></tr><tr><td>Validation Recall</td><td>0.65938</td></tr></table><br/></div></div>"
            ]
          },
          "metadata": {}
        },
        {
          "output_type": "display_data",
          "data": {
            "text/plain": [
              "<IPython.core.display.HTML object>"
            ],
            "text/html": [
              " View run <strong style=\"color:#cdcd00\">distilbert_trial_0</strong> at: <a href='https://wandb.ai/avigailkollmann-tel-aviv-university/corona-tweets-finetuning/runs/8lrjg2dt' target=\"_blank\">https://wandb.ai/avigailkollmann-tel-aviv-university/corona-tweets-finetuning/runs/8lrjg2dt</a><br> View project at: <a href='https://wandb.ai/avigailkollmann-tel-aviv-university/corona-tweets-finetuning' target=\"_blank\">https://wandb.ai/avigailkollmann-tel-aviv-university/corona-tweets-finetuning</a><br>Synced 5 W&B file(s), 0 media file(s), 0 artifact file(s) and 0 other file(s)"
            ]
          },
          "metadata": {}
        },
        {
          "output_type": "display_data",
          "data": {
            "text/plain": [
              "<IPython.core.display.HTML object>"
            ],
            "text/html": [
              "Find logs at: <code>./wandb/run-20250819_081412-8lrjg2dt/logs</code>"
            ]
          },
          "metadata": {}
        },
        {
          "output_type": "display_data",
          "data": {
            "text/plain": [
              "<IPython.core.display.HTML object>"
            ],
            "text/html": [
              "Tracking run with wandb version 0.21.1"
            ]
          },
          "metadata": {}
        },
        {
          "output_type": "display_data",
          "data": {
            "text/plain": [
              "<IPython.core.display.HTML object>"
            ],
            "text/html": [
              "Run data is saved locally in <code>/content/wandb/run-20250819_083712-c5g3em2k</code>"
            ]
          },
          "metadata": {}
        },
        {
          "output_type": "display_data",
          "data": {
            "text/plain": [
              "<IPython.core.display.HTML object>"
            ],
            "text/html": [
              "Syncing run <strong><a href='https://wandb.ai/avigailkollmann-tel-aviv-university/corona-tweets-finetuning/runs/c5g3em2k' target=\"_blank\">distilbert_trial_0</a></strong> to <a href='https://wandb.ai/avigailkollmann-tel-aviv-university/corona-tweets-finetuning' target=\"_blank\">Weights & Biases</a> (<a href='https://wandb.me/developer-guide' target=\"_blank\">docs</a>)<br>"
            ]
          },
          "metadata": {}
        },
        {
          "output_type": "display_data",
          "data": {
            "text/plain": [
              "<IPython.core.display.HTML object>"
            ],
            "text/html": [
              " View project at <a href='https://wandb.ai/avigailkollmann-tel-aviv-university/corona-tweets-finetuning' target=\"_blank\">https://wandb.ai/avigailkollmann-tel-aviv-university/corona-tweets-finetuning</a>"
            ]
          },
          "metadata": {}
        },
        {
          "output_type": "display_data",
          "data": {
            "text/plain": [
              "<IPython.core.display.HTML object>"
            ],
            "text/html": [
              " View run at <a href='https://wandb.ai/avigailkollmann-tel-aviv-university/corona-tweets-finetuning/runs/c5g3em2k' target=\"_blank\">https://wandb.ai/avigailkollmann-tel-aviv-university/corona-tweets-finetuning/runs/c5g3em2k</a>"
            ]
          },
          "metadata": {}
        },
        {
          "output_type": "display_data",
          "data": {
            "text/plain": [
              "<IPython.core.display.HTML object>"
            ],
            "text/html": []
          },
          "metadata": {}
        },
        {
          "output_type": "display_data",
          "data": {
            "text/plain": [
              "<IPython.core.display.HTML object>"
            ],
            "text/html": [
              "<br>    <style><br>        .wandb-row {<br>            display: flex;<br>            flex-direction: row;<br>            flex-wrap: wrap;<br>            justify-content: flex-start;<br>            width: 100%;<br>        }<br>        .wandb-col {<br>            display: flex;<br>            flex-direction: column;<br>            flex-basis: 100%;<br>            flex: 1;<br>            padding: 10px;<br>        }<br>    </style><br><div class=\"wandb-row\"><div class=\"wandb-col\"><h3>Run history:</h3><br/><table class=\"wandb\"><tr><td>Epoch</td><td>▁▂▃▅▆▇█</td></tr><tr><td>Train Accuracy</td><td>▁▄▅▆▇▇█</td></tr><tr><td>Train Loss</td><td>█▅▄▃▂▂▁</td></tr><tr><td>Validation Accuracy</td><td>▁▄▅▆▇▇█</td></tr><tr><td>Validation F1</td><td>▁▄▅▆▇▇█</td></tr><tr><td>Validation Loss</td><td>█▅▄▃▂▁▁</td></tr><tr><td>Validation Precision</td><td>▁▄▅▆▇▇█</td></tr><tr><td>Validation Recall</td><td>▁▄▅▆▇▇█</td></tr></table><br/></div><div class=\"wandb-col\"><h3>Run summary:</h3><br/><table class=\"wandb\"><tr><td>Epoch</td><td>7</td></tr><tr><td>Train Accuracy</td><td>0.75908</td></tr><tr><td>Train Loss</td><td>0.62388</td></tr><tr><td>Validation Accuracy</td><td>0.70578</td></tr><tr><td>Validation F1</td><td>0.70619</td></tr><tr><td>Validation Loss</td><td>0.76177</td></tr><tr><td>Validation Precision</td><td>0.70938</td></tr><tr><td>Validation Recall</td><td>0.70578</td></tr></table><br/></div></div>"
            ]
          },
          "metadata": {}
        },
        {
          "output_type": "display_data",
          "data": {
            "text/plain": [
              "<IPython.core.display.HTML object>"
            ],
            "text/html": [
              " View run <strong style=\"color:#cdcd00\">distilbert_trial_0</strong> at: <a href='https://wandb.ai/avigailkollmann-tel-aviv-university/corona-tweets-finetuning/runs/c5g3em2k' target=\"_blank\">https://wandb.ai/avigailkollmann-tel-aviv-university/corona-tweets-finetuning/runs/c5g3em2k</a><br> View project at: <a href='https://wandb.ai/avigailkollmann-tel-aviv-university/corona-tweets-finetuning' target=\"_blank\">https://wandb.ai/avigailkollmann-tel-aviv-university/corona-tweets-finetuning</a><br>Synced 5 W&B file(s), 0 media file(s), 0 artifact file(s) and 0 other file(s)"
            ]
          },
          "metadata": {}
        },
        {
          "output_type": "display_data",
          "data": {
            "text/plain": [
              "<IPython.core.display.HTML object>"
            ],
            "text/html": [
              "Find logs at: <code>./wandb/run-20250819_083712-c5g3em2k/logs</code>"
            ]
          },
          "metadata": {}
        },
        {
          "output_type": "stream",
          "name": "stderr",
          "text": [
            "[I 2025-08-19 09:02:14,462] Trial 0 finished with value: 0.70578231292517 and parameters: {'learning_rate': 1.6626888576426607e-05, 'weight_decay': 5.126688313334231e-06, 'patience': 7, 'batch_size': 64, 'num_layers': 2}. Best is trial 0 with value: 0.70578231292517.\n",
            "Some weights of DistilBertForSequenceClassification were not initialized from the model checkpoint at distilbert-base-uncased and are newly initialized: ['classifier.bias', 'classifier.weight', 'pre_classifier.bias', 'pre_classifier.weight']\n",
            "You should probably TRAIN this model on a down-stream task to be able to use it for predictions and inference.\n"
          ]
        },
        {
          "output_type": "display_data",
          "data": {
            "text/plain": [
              "<IPython.core.display.HTML object>"
            ],
            "text/html": [
              "Tracking run with wandb version 0.21.1"
            ]
          },
          "metadata": {}
        },
        {
          "output_type": "display_data",
          "data": {
            "text/plain": [
              "<IPython.core.display.HTML object>"
            ],
            "text/html": [
              "Run data is saved locally in <code>/content/wandb/run-20250819_090217-9yggvs0t</code>"
            ]
          },
          "metadata": {}
        },
        {
          "output_type": "display_data",
          "data": {
            "text/plain": [
              "<IPython.core.display.HTML object>"
            ],
            "text/html": [
              "Syncing run <strong><a href='https://wandb.ai/avigailkollmann-tel-aviv-university/corona-tweets-finetuning/runs/9yggvs0t' target=\"_blank\">distilbert_trial_1</a></strong> to <a href='https://wandb.ai/avigailkollmann-tel-aviv-university/corona-tweets-finetuning' target=\"_blank\">Weights & Biases</a> (<a href='https://wandb.me/developer-guide' target=\"_blank\">docs</a>)<br>"
            ]
          },
          "metadata": {}
        },
        {
          "output_type": "display_data",
          "data": {
            "text/plain": [
              "<IPython.core.display.HTML object>"
            ],
            "text/html": [
              " View project at <a href='https://wandb.ai/avigailkollmann-tel-aviv-university/corona-tweets-finetuning' target=\"_blank\">https://wandb.ai/avigailkollmann-tel-aviv-university/corona-tweets-finetuning</a>"
            ]
          },
          "metadata": {}
        },
        {
          "output_type": "display_data",
          "data": {
            "text/plain": [
              "<IPython.core.display.HTML object>"
            ],
            "text/html": [
              " View run at <a href='https://wandb.ai/avigailkollmann-tel-aviv-university/corona-tweets-finetuning/runs/9yggvs0t' target=\"_blank\">https://wandb.ai/avigailkollmann-tel-aviv-university/corona-tweets-finetuning/runs/9yggvs0t</a>"
            ]
          },
          "metadata": {}
        },
        {
          "output_type": "display_data",
          "data": {
            "text/plain": [
              "<IPython.core.display.HTML object>"
            ],
            "text/html": []
          },
          "metadata": {}
        },
        {
          "output_type": "display_data",
          "data": {
            "text/plain": [
              "<IPython.core.display.HTML object>"
            ],
            "text/html": [
              "<br>    <style><br>        .wandb-row {<br>            display: flex;<br>            flex-direction: row;<br>            flex-wrap: wrap;<br>            justify-content: flex-start;<br>            width: 100%;<br>        }<br>        .wandb-col {<br>            display: flex;<br>            flex-direction: column;<br>            flex-basis: 100%;<br>            flex: 1;<br>            padding: 10px;<br>        }<br>    </style><br><div class=\"wandb-row\"><div class=\"wandb-col\"><h3>Run history:</h3><br/><table class=\"wandb\"><tr><td>Epoch</td><td>▁▂▃▅▆▇█</td></tr><tr><td>Train Accuracy</td><td>▁▄▅▆▇▇█</td></tr><tr><td>Train Loss</td><td>█▆▄▃▃▂▁</td></tr><tr><td>Validation Accuracy</td><td>▁▄▆▇███</td></tr><tr><td>Validation F1</td><td>▁▄▆▇███</td></tr><tr><td>Validation Loss</td><td>█▄▂▁▁▂▃</td></tr><tr><td>Validation Precision</td><td>▁▄▇▇▇██</td></tr><tr><td>Validation Recall</td><td>▁▄▆▇███</td></tr></table><br/></div><div class=\"wandb-col\"><h3>Run summary:</h3><br/><table class=\"wandb\"><tr><td>Epoch</td><td>7</td></tr><tr><td>Train Accuracy</td><td>0.85732</td></tr><tr><td>Train Loss</td><td>0.37923</td></tr><tr><td>Validation Accuracy</td><td>0.72376</td></tr><tr><td>Validation F1</td><td>0.72565</td></tr><tr><td>Validation Loss</td><td>0.78481</td></tr><tr><td>Validation Precision</td><td>0.73373</td></tr><tr><td>Validation Recall</td><td>0.72376</td></tr></table><br/></div></div>"
            ]
          },
          "metadata": {}
        },
        {
          "output_type": "display_data",
          "data": {
            "text/plain": [
              "<IPython.core.display.HTML object>"
            ],
            "text/html": [
              " View run <strong style=\"color:#cdcd00\">distilbert_trial_1</strong> at: <a href='https://wandb.ai/avigailkollmann-tel-aviv-university/corona-tweets-finetuning/runs/9yggvs0t' target=\"_blank\">https://wandb.ai/avigailkollmann-tel-aviv-university/corona-tweets-finetuning/runs/9yggvs0t</a><br> View project at: <a href='https://wandb.ai/avigailkollmann-tel-aviv-university/corona-tweets-finetuning' target=\"_blank\">https://wandb.ai/avigailkollmann-tel-aviv-university/corona-tweets-finetuning</a><br>Synced 5 W&B file(s), 0 media file(s), 0 artifact file(s) and 0 other file(s)"
            ]
          },
          "metadata": {}
        },
        {
          "output_type": "display_data",
          "data": {
            "text/plain": [
              "<IPython.core.display.HTML object>"
            ],
            "text/html": [
              "Find logs at: <code>./wandb/run-20250819_090217-9yggvs0t/logs</code>"
            ]
          },
          "metadata": {}
        },
        {
          "output_type": "stream",
          "name": "stderr",
          "text": [
            "[I 2025-08-19 09:27:17,242] Trial 1 finished with value: 0.7274052478134111 and parameters: {'learning_rate': 4.059868271641817e-05, 'weight_decay': 1.6576622786125564e-06, 'patience': 8, 'batch_size': 64, 'num_layers': 2}. Best is trial 1 with value: 0.7274052478134111.\n",
            "[I 2025-08-19 09:27:17,243] A new study created in memory with name: no-name-27e13e80-28d6-4176-8cbf-e5a4085b15d7\n"
          ]
        },
        {
          "output_type": "stream",
          "name": "stdout",
          "text": [
            "\n",
            "=== Optimizing RoBERTa ===\n"
          ]
        },
        {
          "output_type": "display_data",
          "data": {
            "text/plain": [
              "model.safetensors:   0%|          | 0.00/499M [00:00<?, ?B/s]"
            ],
            "application/vnd.jupyter.widget-view+json": {
              "version_major": 2,
              "version_minor": 0,
              "model_id": "d0ea4e3571c6404390e09c6590df1d02"
            }
          },
          "metadata": {}
        },
        {
          "output_type": "stream",
          "name": "stderr",
          "text": [
            "Some weights of RobertaForSequenceClassification were not initialized from the model checkpoint at roberta-base and are newly initialized: ['classifier.dense.bias', 'classifier.dense.weight', 'classifier.out_proj.bias', 'classifier.out_proj.weight']\n",
            "You should probably TRAIN this model on a down-stream task to be able to use it for predictions and inference.\n"
          ]
        },
        {
          "output_type": "display_data",
          "data": {
            "text/plain": [
              "<IPython.core.display.HTML object>"
            ],
            "text/html": [
              "Tracking run with wandb version 0.21.1"
            ]
          },
          "metadata": {}
        },
        {
          "output_type": "display_data",
          "data": {
            "text/plain": [
              "<IPython.core.display.HTML object>"
            ],
            "text/html": [
              "Run data is saved locally in <code>/content/wandb/run-20250819_092725-8wkry1ff</code>"
            ]
          },
          "metadata": {}
        },
        {
          "output_type": "display_data",
          "data": {
            "text/plain": [
              "<IPython.core.display.HTML object>"
            ],
            "text/html": [
              "Syncing run <strong><a href='https://wandb.ai/avigailkollmann-tel-aviv-university/corona-tweets-finetuning/runs/8wkry1ff' target=\"_blank\">roberta_trial_0</a></strong> to <a href='https://wandb.ai/avigailkollmann-tel-aviv-university/corona-tweets-finetuning' target=\"_blank\">Weights & Biases</a> (<a href='https://wandb.me/developer-guide' target=\"_blank\">docs</a>)<br>"
            ]
          },
          "metadata": {}
        },
        {
          "output_type": "display_data",
          "data": {
            "text/plain": [
              "<IPython.core.display.HTML object>"
            ],
            "text/html": [
              " View project at <a href='https://wandb.ai/avigailkollmann-tel-aviv-university/corona-tweets-finetuning' target=\"_blank\">https://wandb.ai/avigailkollmann-tel-aviv-university/corona-tweets-finetuning</a>"
            ]
          },
          "metadata": {}
        },
        {
          "output_type": "display_data",
          "data": {
            "text/plain": [
              "<IPython.core.display.HTML object>"
            ],
            "text/html": [
              " View run at <a href='https://wandb.ai/avigailkollmann-tel-aviv-university/corona-tweets-finetuning/runs/8wkry1ff' target=\"_blank\">https://wandb.ai/avigailkollmann-tel-aviv-university/corona-tweets-finetuning/runs/8wkry1ff</a>"
            ]
          },
          "metadata": {}
        },
        {
          "output_type": "display_data",
          "data": {
            "text/plain": [
              "<IPython.core.display.HTML object>"
            ],
            "text/html": []
          },
          "metadata": {}
        },
        {
          "output_type": "display_data",
          "data": {
            "text/plain": [
              "<IPython.core.display.HTML object>"
            ],
            "text/html": [
              "<br>    <style><br>        .wandb-row {<br>            display: flex;<br>            flex-direction: row;<br>            flex-wrap: wrap;<br>            justify-content: flex-start;<br>            width: 100%;<br>        }<br>        .wandb-col {<br>            display: flex;<br>            flex-direction: column;<br>            flex-basis: 100%;<br>            flex: 1;<br>            padding: 10px;<br>        }<br>    </style><br><div class=\"wandb-row\"><div class=\"wandb-col\"><h3>Run history:</h3><br/><table class=\"wandb\"><tr><td>Epoch</td><td>▁▂▃▅▆▇█</td></tr><tr><td>Train Accuracy</td><td>▁▄▅▆▇▇█</td></tr><tr><td>Train Loss</td><td>█▅▄▃▂▂▁</td></tr><tr><td>Validation Accuracy</td><td>▁▅▆▆▇▇█</td></tr><tr><td>Validation F1</td><td>▁▅▆▆▇▇█</td></tr><tr><td>Validation Loss</td><td>█▅▃▂▁▂▁</td></tr><tr><td>Validation Precision</td><td>▁▅▆▇█▇█</td></tr><tr><td>Validation Recall</td><td>▁▅▆▆▇▇█</td></tr></table><br/></div><div class=\"wandb-col\"><h3>Run summary:</h3><br/><table class=\"wandb\"><tr><td>Epoch</td><td>7</td></tr><tr><td>Train Accuracy</td><td>0.73024</td></tr><tr><td>Train Loss</td><td>0.67826</td></tr><tr><td>Validation Accuracy</td><td>0.67201</td></tr><tr><td>Validation F1</td><td>0.6701</td></tr><tr><td>Validation Loss</td><td>0.86633</td></tr><tr><td>Validation Precision</td><td>0.67246</td></tr><tr><td>Validation Recall</td><td>0.67201</td></tr></table><br/></div></div>"
            ]
          },
          "metadata": {}
        },
        {
          "output_type": "display_data",
          "data": {
            "text/plain": [
              "<IPython.core.display.HTML object>"
            ],
            "text/html": [
              " View run <strong style=\"color:#cdcd00\">roberta_trial_0</strong> at: <a href='https://wandb.ai/avigailkollmann-tel-aviv-university/corona-tweets-finetuning/runs/8wkry1ff' target=\"_blank\">https://wandb.ai/avigailkollmann-tel-aviv-university/corona-tweets-finetuning/runs/8wkry1ff</a><br> View project at: <a href='https://wandb.ai/avigailkollmann-tel-aviv-university/corona-tweets-finetuning' target=\"_blank\">https://wandb.ai/avigailkollmann-tel-aviv-university/corona-tweets-finetuning</a><br>Synced 5 W&B file(s), 0 media file(s), 0 artifact file(s) and 0 other file(s)"
            ]
          },
          "metadata": {}
        },
        {
          "output_type": "display_data",
          "data": {
            "text/plain": [
              "<IPython.core.display.HTML object>"
            ],
            "text/html": [
              "Find logs at: <code>./wandb/run-20250819_092725-8wkry1ff/logs</code>"
            ]
          },
          "metadata": {}
        },
        {
          "output_type": "stream",
          "name": "stderr",
          "text": [
            "[I 2025-08-19 10:08:23,052] Trial 0 finished with value: 0.6720116618075802 and parameters: {'learning_rate': 3.711473491605903e-05, 'weight_decay': 1.0328558205840956e-06, 'patience': 10, 'batch_size': 128, 'num_layers': 2}. Best is trial 0 with value: 0.6720116618075802.\n",
            "Some weights of RobertaForSequenceClassification were not initialized from the model checkpoint at roberta-base and are newly initialized: ['classifier.dense.bias', 'classifier.dense.weight', 'classifier.out_proj.bias', 'classifier.out_proj.weight']\n",
            "You should probably TRAIN this model on a down-stream task to be able to use it for predictions and inference.\n"
          ]
        },
        {
          "output_type": "display_data",
          "data": {
            "text/plain": [
              "<IPython.core.display.HTML object>"
            ],
            "text/html": [
              "Tracking run with wandb version 0.21.1"
            ]
          },
          "metadata": {}
        },
        {
          "output_type": "display_data",
          "data": {
            "text/plain": [
              "<IPython.core.display.HTML object>"
            ],
            "text/html": [
              "Run data is saved locally in <code>/content/wandb/run-20250819_100826-haowtlrh</code>"
            ]
          },
          "metadata": {}
        },
        {
          "output_type": "display_data",
          "data": {
            "text/plain": [
              "<IPython.core.display.HTML object>"
            ],
            "text/html": [
              "Syncing run <strong><a href='https://wandb.ai/avigailkollmann-tel-aviv-university/corona-tweets-finetuning/runs/haowtlrh' target=\"_blank\">roberta_trial_1</a></strong> to <a href='https://wandb.ai/avigailkollmann-tel-aviv-university/corona-tweets-finetuning' target=\"_blank\">Weights & Biases</a> (<a href='https://wandb.me/developer-guide' target=\"_blank\">docs</a>)<br>"
            ]
          },
          "metadata": {}
        },
        {
          "output_type": "display_data",
          "data": {
            "text/plain": [
              "<IPython.core.display.HTML object>"
            ],
            "text/html": [
              " View project at <a href='https://wandb.ai/avigailkollmann-tel-aviv-university/corona-tweets-finetuning' target=\"_blank\">https://wandb.ai/avigailkollmann-tel-aviv-university/corona-tweets-finetuning</a>"
            ]
          },
          "metadata": {}
        },
        {
          "output_type": "display_data",
          "data": {
            "text/plain": [
              "<IPython.core.display.HTML object>"
            ],
            "text/html": [
              " View run at <a href='https://wandb.ai/avigailkollmann-tel-aviv-university/corona-tweets-finetuning/runs/haowtlrh' target=\"_blank\">https://wandb.ai/avigailkollmann-tel-aviv-university/corona-tweets-finetuning/runs/haowtlrh</a>"
            ]
          },
          "metadata": {}
        },
        {
          "output_type": "display_data",
          "data": {
            "text/plain": [
              "<IPython.core.display.HTML object>"
            ],
            "text/html": []
          },
          "metadata": {}
        },
        {
          "output_type": "display_data",
          "data": {
            "text/plain": [
              "<IPython.core.display.HTML object>"
            ],
            "text/html": [
              "<br>    <style><br>        .wandb-row {<br>            display: flex;<br>            flex-direction: row;<br>            flex-wrap: wrap;<br>            justify-content: flex-start;<br>            width: 100%;<br>        }<br>        .wandb-col {<br>            display: flex;<br>            flex-direction: column;<br>            flex-basis: 100%;<br>            flex: 1;<br>            padding: 10px;<br>        }<br>    </style><br><div class=\"wandb-row\"><div class=\"wandb-col\"><h3>Run history:</h3><br/><table class=\"wandb\"><tr><td>Epoch</td><td>▁▂▃▅▆▇█</td></tr><tr><td>Train Accuracy</td><td>▁▅▆▇▇▇█</td></tr><tr><td>Train Loss</td><td>█▄▃▃▂▂▁</td></tr><tr><td>Validation Accuracy</td><td>▁▄▅▆▇██</td></tr><tr><td>Validation F1</td><td>▁▄▅▆▇██</td></tr><tr><td>Validation Loss</td><td>█▆▅▃▂▂▁</td></tr><tr><td>Validation Precision</td><td>▁▄▅▆▇██</td></tr><tr><td>Validation Recall</td><td>▁▄▅▆▇██</td></tr></table><br/></div><div class=\"wandb-col\"><h3>Run summary:</h3><br/><table class=\"wandb\"><tr><td>Epoch</td><td>7</td></tr><tr><td>Train Accuracy</td><td>0.65209</td></tr><tr><td>Train Loss</td><td>0.86063</td></tr><tr><td>Validation Accuracy</td><td>0.62536</td></tr><tr><td>Validation F1</td><td>0.6238</td></tr><tr><td>Validation Loss</td><td>0.92087</td></tr><tr><td>Validation Precision</td><td>0.63036</td></tr><tr><td>Validation Recall</td><td>0.62536</td></tr></table><br/></div></div>"
            ]
          },
          "metadata": {}
        },
        {
          "output_type": "display_data",
          "data": {
            "text/plain": [
              "<IPython.core.display.HTML object>"
            ],
            "text/html": [
              " View run <strong style=\"color:#cdcd00\">roberta_trial_1</strong> at: <a href='https://wandb.ai/avigailkollmann-tel-aviv-university/corona-tweets-finetuning/runs/haowtlrh' target=\"_blank\">https://wandb.ai/avigailkollmann-tel-aviv-university/corona-tweets-finetuning/runs/haowtlrh</a><br> View project at: <a href='https://wandb.ai/avigailkollmann-tel-aviv-university/corona-tweets-finetuning' target=\"_blank\">https://wandb.ai/avigailkollmann-tel-aviv-university/corona-tweets-finetuning</a><br>Synced 5 W&B file(s), 0 media file(s), 0 artifact file(s) and 0 other file(s)"
            ]
          },
          "metadata": {}
        },
        {
          "output_type": "display_data",
          "data": {
            "text/plain": [
              "<IPython.core.display.HTML object>"
            ],
            "text/html": [
              "Find logs at: <code>./wandb/run-20250819_100826-haowtlrh/logs</code>"
            ]
          },
          "metadata": {}
        },
        {
          "output_type": "stream",
          "name": "stderr",
          "text": [
            "[I 2025-08-19 10:49:21,858] Trial 1 finished with value: 0.6253644314868805 and parameters: {'learning_rate': 1.5096705326354252e-05, 'weight_decay': 1.943190362082204e-06, 'patience': 7, 'batch_size': 128, 'num_layers': 2}. Best is trial 0 with value: 0.6720116618075802.\n"
          ]
        },
        {
          "output_type": "stream",
          "name": "stdout",
          "text": [
            "\n",
            "=== Best Parameters ===\n",
            "DistilBERT best params: {'learning_rate': 4.059868271641817e-05, 'weight_decay': 1.6576622786125564e-06, 'patience': 8, 'batch_size': 64, 'num_layers': 2}\n",
            "DistilBERT best value: 0.7274052478134111\n",
            "RoBERTa best params: {'learning_rate': 3.711473491605903e-05, 'weight_decay': 1.0328558205840956e-06, 'patience': 10, 'batch_size': 128, 'num_layers': 2}\n",
            "RoBERTa best value: 0.6720116618075802\n"
          ]
        }
      ]
    },
    {
      "cell_type": "markdown",
      "source": [
        "learning_rate  2e-4 to 6e-4, weight_decay 1e-6 to 1e-5, batch_size 128"
      ],
      "metadata": {
        "id": "mZsQVBTzX6wD"
      }
    },
    {
      "cell_type": "code",
      "source": [
        "import torch\n",
        "import torch.nn as nn\n",
        "from transformers import AutoModelForSequenceClassification, AutoTokenizer\n",
        "from torch.optim import Adam\n",
        "from sklearn.metrics import accuracy_score, precision_score, recall_score, f1_score, roc_auc_score\n",
        "import optuna\n",
        "import wandb\n",
        "import pandas as pd\n",
        "from torch.utils.data import DataLoader\n",
        "\n",
        "\n",
        "def compute_metrics_np(y_true, y_pred):\n",
        "    \"\"\"Compute comprehensive metrics for evaluation.\"\"\"\n",
        "    acc = accuracy_score(y_true, y_pred)\n",
        "    prec = precision_score(y_true, y_pred, average=\"weighted\", zero_division=0)\n",
        "    rec = recall_score(y_true, y_pred, average=\"weighted\", zero_division=0)\n",
        "    f1 = f1_score(y_true, y_pred, average=\"weighted\", zero_division=0)\n",
        "    try:\n",
        "        auc = roc_auc_score(y_true, pd.get_dummies(y_pred).values, average=\"weighted\", multi_class=\"ovr\")\n",
        "    except Exception:\n",
        "        auc = float(\"nan\")\n",
        "    return {\"accuracy\": acc, \"precision\": prec, \"recall\": rec, \"f1\": f1, \"auc\": auc}\n",
        "\n",
        "def early_stop_check(patience, best_val_accuracy, best_val_accuracy_epoch,\n",
        "                    current_val_accuracy, current_val_accuracy_epoch):\n",
        "    \"\"\"Check if early stopping condition is met.\"\"\"\n",
        "    early_stop_flag = False\n",
        "    if current_val_accuracy > best_val_accuracy:\n",
        "        best_val_accuracy = current_val_accuracy\n",
        "        best_val_accuracy_epoch = current_val_accuracy_epoch\n",
        "    else:\n",
        "        if current_val_accuracy_epoch - best_val_accuracy_epoch >= patience:\n",
        "            early_stop_flag = True\n",
        "    return best_val_accuracy, best_val_accuracy_epoch, early_stop_flag\n",
        "\n",
        "def train_model_with_hyperparams(model, train_loader, val_loader, optimizer, criterion, epochs, patience, trial):\n",
        "    best_val_accuracy = 0.0\n",
        "    best_val_accuracy_epoch = 0\n",
        "    early_stop_flag = False\n",
        "    best_model_state = None\n",
        "\n",
        "    for epoch in range(1, epochs + 1):\n",
        "        model.train()\n",
        "        train_loss = 0.0\n",
        "        total_train_samples = 0\n",
        "        correct_train_predictions = 0\n",
        "\n",
        "        for batch in train_loader:\n",
        "            input_ids = batch['input_ids'].to(DEVICE)\n",
        "            attention_mask = batch['attention_mask'].to(DEVICE)\n",
        "            labels = batch['labels'].to(DEVICE)\n",
        "\n",
        "            optimizer.zero_grad()\n",
        "            outputs = model(input_ids, attention_mask=attention_mask)\n",
        "            logits = outputs.logits\n",
        "            loss = criterion(logits, labels)\n",
        "            loss.backward()\n",
        "            optimizer.step()\n",
        "\n",
        "            train_loss += loss.item() * input_ids.size(0)\n",
        "            total_train_samples += input_ids.size(0)\n",
        "            correct_train_predictions += (logits.argmax(dim=1) == labels).sum().item()\n",
        "\n",
        "        train_loss /= total_train_samples\n",
        "        train_accuracy = correct_train_predictions / total_train_samples\n",
        "\n",
        "        model.eval()\n",
        "        val_loss = 0.0\n",
        "        total_val_samples = 0\n",
        "        correct_val_predictions = 0\n",
        "        all_val_labels = []\n",
        "        all_val_preds = []\n",
        "\n",
        "        with torch.no_grad():\n",
        "            for batch in val_loader:\n",
        "                input_ids = batch['input_ids'].to(DEVICE)\n",
        "                attention_mask = batch['attention_mask'].to(DEVICE)\n",
        "                labels = batch['labels'].to(DEVICE)\n",
        "\n",
        "                outputs = model(input_ids, attention_mask=attention_mask)\n",
        "                logits = outputs.logits\n",
        "                loss = criterion(logits, labels)\n",
        "\n",
        "                val_loss += loss.item() * input_ids.size(0)\n",
        "                total_val_samples += input_ids.size(0)\n",
        "                correct_val_predictions += (logits.argmax(dim=1) == labels).sum().item()\n",
        "\n",
        "                all_val_labels.extend(labels.cpu().numpy())\n",
        "                all_val_preds.extend(logits.argmax(dim=1).cpu().numpy())\n",
        "\n",
        "        val_loss /= total_val_samples\n",
        "        val_accuracy = correct_val_predictions / total_val_samples\n",
        "        val_precision = precision_score(all_val_labels, all_val_preds, average='weighted', zero_division=0)\n",
        "        val_recall = recall_score(all_val_labels, all_val_preds, average='weighted', zero_division=0)\n",
        "        val_f1 = f1_score(all_val_labels, all_val_preds, average='weighted', zero_division=0)\n",
        "\n",
        "        best_val_accuracy, best_val_accuracy_epoch, early_stop_flag = early_stop_check(\n",
        "            patience, best_val_accuracy, best_val_accuracy_epoch, val_accuracy, epoch\n",
        "        )\n",
        "\n",
        "        if val_accuracy == best_val_accuracy:\n",
        "            best_model_state = model.state_dict()\n",
        "\n",
        "        wandb.log({\n",
        "            \"Epoch\": epoch,\n",
        "            \"Train Loss\": train_loss,\n",
        "            \"Train Accuracy\": train_accuracy,\n",
        "            \"Validation Loss\": val_loss,\n",
        "            \"Validation Accuracy\": val_accuracy,\n",
        "            \"Validation Precision\": val_precision,\n",
        "            \"Validation Recall\": val_recall,\n",
        "            \"Validation F1\": val_f1\n",
        "        })\n",
        "\n",
        "        if early_stop_flag:\n",
        "            break\n",
        "\n",
        "    if best_model_state is not None:\n",
        "        torch.save(best_model_state, f\"best_model_trial_{trial.number}.pt\")\n",
        "\n",
        "    return best_val_accuracy\n",
        "\n",
        "def objective_distilbert(trial):\n",
        "    # learning_rate = trial.suggest_float(\"learning_rate\", 1e-5, 1e-3, log=True)\n",
        "    learning_rate = trial.suggest_float(\"learning_rate\", 2e-4, 6e-4, log=True)\n",
        "    # weight_decay = trial.suggest_float(\"weight_decay\", 1e-6, 1e-4, log=True)\n",
        "    weight_decay = trial.suggest_float(\"weight_decay\", 1e-6, 1e-5, log=True)\n",
        "    patience = trial.suggest_int(\"patience\", 7, 10)\n",
        "    # batch_size = trial.suggest_categorical(\"batch_size\", [64, 128])\n",
        "    batch_size = trial.suggest_categorical(\"batch_size\", [128])\n",
        "    num_layers = trial.suggest_int(\"num_layers\", 1, 3)\n",
        "\n",
        "    train_dataset = CoronaTweetsDataset(train_df[\"CleanedTweet\"], train_df[\"label\"], tokenizer_distilbert)\n",
        "    val_dataset = CoronaTweetsDataset(val_df[\"CleanedTweet\"], val_df[\"label\"], tokenizer_distilbert)\n",
        "    train_loader = DataLoader(train_dataset, batch_size=batch_size, shuffle=True)\n",
        "    val_loader = DataLoader(val_dataset, batch_size=batch_size, shuffle=False)\n",
        "\n",
        "    model = AutoModelForSequenceClassification.from_pretrained(MODEL_NAME_DISTILBERT, num_labels=5).to(DEVICE)\n",
        "\n",
        "    for param in model.distilbert.parameters():\n",
        "        param.requires_grad = False\n",
        "\n",
        "    total_layers = len(model.distilbert.transformer.layer)\n",
        "    for layer_idx in range(max(0, total_layers - num_layers), total_layers):\n",
        "        for param in model.distilbert.transformer.layer[layer_idx].parameters():\n",
        "            param.requires_grad = True\n",
        "\n",
        "    for param in model.classifier.parameters():\n",
        "        param.requires_grad = True\n",
        "\n",
        "    criterion = nn.CrossEntropyLoss()\n",
        "    optimizer = Adam(model.parameters(), lr=learning_rate, weight_decay=weight_decay)\n",
        "\n",
        "    wandb.init(project=\"corona-tweets-finetuning\",\n",
        "               config={\n",
        "                   \"learning_rate\": learning_rate,\n",
        "                   \"weight_decay\": weight_decay,\n",
        "                   \"patience\": patience,\n",
        "                   \"batch_size\": batch_size,\n",
        "                   \"num_layers\": num_layers,\n",
        "                   \"architecture\": \"DistilBERT\",\n",
        "                   \"dataset\": \"corona-tweets\"\n",
        "               },\n",
        "               name=f\"distilbert_trial_{trial.number}\")\n",
        "\n",
        "    best_val_accuracy = train_model_with_hyperparams(model, train_loader, val_loader,\n",
        "                                                    optimizer, criterion, epochs=5,\n",
        "                                                    patience=patience, trial=trial)\n",
        "\n",
        "    wandb.finish()\n",
        "\n",
        "    return best_val_accuracy\n",
        "\n",
        "def objective_roberta(trial):\n",
        "    # learning_rate = trial.suggest_float(\"learning_rate\", 1e-5, 1e-3, log=True)\n",
        "    learning_rate = trial.suggest_float(\"learning_rate\", 1e-5, 3e-4, log=True)\n",
        "    # weight_decay = trial.suggest_float(\"weight_decay\", 1e-6, 1e-4, log=True)\n",
        "    weight_decay = trial.suggest_float(\"weight_decay\", 1e-6, 1e-5, log=True)\n",
        "    patience = trial.suggest_int(\"patience\", 7, 10)\n",
        "    batch_size = trial.suggest_categorical(\"batch_size\", [128])\n",
        "    # batch_size = trial.suggest_categorical(\"batch_size\", [64, 128])\n",
        "    num_layers = trial.suggest_int(\"num_layers\", 1, 3)\n",
        "\n",
        "    train_dataset = CoronaTweetsDataset(train_df[\"CleanedTweet\"], train_df[\"label\"], tokenizer_roberta)\n",
        "    val_dataset = CoronaTweetsDataset(val_df[\"CleanedTweet\"], val_df[\"label\"], tokenizer_roberta)\n",
        "    train_loader = DataLoader(train_dataset, batch_size=batch_size, shuffle=True)\n",
        "    val_loader = DataLoader(val_dataset, batch_size=batch_size, shuffle=False)\n",
        "\n",
        "    model = AutoModelForSequenceClassification.from_pretrained(MODEL_NAME_ROBERTA, num_labels=5).to(DEVICE)\n",
        "\n",
        "    for param in model.roberta.parameters():\n",
        "        param.requires_grad = False\n",
        "\n",
        "    total_layers = len(model.roberta.encoder.layer)\n",
        "    for layer_idx in range(max(0, total_layers - num_layers), total_layers):\n",
        "        for param in model.roberta.encoder.layer[layer_idx].parameters():\n",
        "            param.requires_grad = True\n",
        "\n",
        "    for param in model.classifier.parameters():\n",
        "        param.requires_grad = True\n",
        "\n",
        "    criterion = nn.CrossEntropyLoss()\n",
        "    optimizer = Adam(model.parameters(), lr=learning_rate, weight_decay=weight_decay)\n",
        "\n",
        "    wandb.init(project=\"corona-tweets-finetuning\",\n",
        "               config={\n",
        "                   \"learning_rate\": learning_rate,\n",
        "                   \"weight_decay\": weight_decay,\n",
        "                   \"patience\": patience,\n",
        "                   \"batch_size\": batch_size,\n",
        "                   \"num_layers\": num_layers,\n",
        "                   \"architecture\": \"RoBERTa\",\n",
        "                   \"dataset\": \"corona-tweets\"\n",
        "               },\n",
        "               name=f\"roberta_trial_{trial.number}\")\n",
        "\n",
        "    best_val_accuracy = train_model_with_hyperparams(model, train_loader, val_loader,\n",
        "                                                    optimizer, criterion, epochs=5,\n",
        "                                                    patience=patience, trial=trial)\n",
        "\n",
        "    wandb.finish()\n",
        "\n",
        "    return best_val_accuracy\n",
        "\n",
        "def evaluate_model(model_path, model_name, test_loader):\n",
        "    \"\"\"Function to evaluate the model on test set.\"\"\"\n",
        "    # Load the model\n",
        "    model = AutoModelForSequenceClassification.from_pretrained(model_name, num_labels=5)\n",
        "    model.load_state_dict(torch.load(model_path))\n",
        "    model = model.to(DEVICE)\n",
        "    model.eval()\n",
        "\n",
        "    all_labels = []\n",
        "    all_preds = []\n",
        "\n",
        "    with torch.no_grad():\n",
        "        for batch in test_loader:\n",
        "            input_ids = batch['input_ids'].to(DEVICE)\n",
        "            attention_mask = batch['attention_mask'].to(DEVICE)\n",
        "            labels = batch['labels'].to(DEVICE)\n",
        "\n",
        "            outputs = model(input_ids, attention_mask=attention_mask)\n",
        "            logits = outputs.logits\n",
        "            preds = logits.argmax(dim=1)\n",
        "\n",
        "            all_labels.extend(labels.cpu().numpy())\n",
        "            all_preds.extend(preds.cpu().numpy())\n",
        "\n",
        "    metrics = compute_metrics_np(all_labels, all_preds)\n",
        "    return metrics\n",
        "\n",
        "\n",
        "print(\"\\n=== Optimizing DistilBERT ===\")\n",
        "study_distilbert = optuna.create_study(direction=\"maximize\")\n",
        "study_distilbert.optimize(objective_distilbert, n_trials=2)\n",
        "\n",
        "print(\"\\n=== Optimizing RoBERTa ===\")\n",
        "study_roberta = optuna.create_study(direction=\"maximize\")\n",
        "study_roberta.optimize(objective_roberta, n_trials=2)\n",
        "\n",
        "print(\"\\n=== Best Parameters ===\")\n",
        "print(\"DistilBERT best params:\", study_distilbert.best_params)\n",
        "print(\"DistilBERT best value:\", study_distilbert.best_value)\n",
        "print(\"RoBERTa best params:\", study_roberta.best_params)\n",
        "print(\"RoBERTa best value:\", study_roberta.best_value)"
      ],
      "metadata": {
        "colab": {
          "base_uri": "https://localhost:8080/",
          "height": 1000
        },
        "id": "2Dbu3xAmIlkB",
        "outputId": "91c044ba-4a20-4c10-f99d-53390eb79498"
      },
      "execution_count": null,
      "outputs": [
        {
          "output_type": "stream",
          "name": "stderr",
          "text": [
            "[I 2025-08-19 10:49:21,890] A new study created in memory with name: no-name-4113e4e4-a390-4e53-97a2-f6d01a111b7f\n"
          ]
        },
        {
          "output_type": "stream",
          "name": "stdout",
          "text": [
            "\n",
            "=== Optimizing DistilBERT ===\n"
          ]
        },
        {
          "output_type": "stream",
          "name": "stderr",
          "text": [
            "Some weights of DistilBertForSequenceClassification were not initialized from the model checkpoint at distilbert-base-uncased and are newly initialized: ['classifier.bias', 'classifier.weight', 'pre_classifier.bias', 'pre_classifier.weight']\n",
            "You should probably TRAIN this model on a down-stream task to be able to use it for predictions and inference.\n"
          ]
        },
        {
          "output_type": "display_data",
          "data": {
            "text/plain": [
              "<IPython.core.display.HTML object>"
            ],
            "text/html": [
              "Tracking run with wandb version 0.21.1"
            ]
          },
          "metadata": {}
        },
        {
          "output_type": "display_data",
          "data": {
            "text/plain": [
              "<IPython.core.display.HTML object>"
            ],
            "text/html": [
              "Run data is saved locally in <code>/content/wandb/run-20250819_104924-m79dk6a8</code>"
            ]
          },
          "metadata": {}
        },
        {
          "output_type": "display_data",
          "data": {
            "text/plain": [
              "<IPython.core.display.HTML object>"
            ],
            "text/html": [
              "Syncing run <strong><a href='https://wandb.ai/avigailkollmann-tel-aviv-university/corona-tweets-finetuning/runs/m79dk6a8' target=\"_blank\">distilbert_trial_0</a></strong> to <a href='https://wandb.ai/avigailkollmann-tel-aviv-university/corona-tweets-finetuning' target=\"_blank\">Weights & Biases</a> (<a href='https://wandb.me/developer-guide' target=\"_blank\">docs</a>)<br>"
            ]
          },
          "metadata": {}
        },
        {
          "output_type": "display_data",
          "data": {
            "text/plain": [
              "<IPython.core.display.HTML object>"
            ],
            "text/html": [
              " View project at <a href='https://wandb.ai/avigailkollmann-tel-aviv-university/corona-tweets-finetuning' target=\"_blank\">https://wandb.ai/avigailkollmann-tel-aviv-university/corona-tweets-finetuning</a>"
            ]
          },
          "metadata": {}
        },
        {
          "output_type": "display_data",
          "data": {
            "text/plain": [
              "<IPython.core.display.HTML object>"
            ],
            "text/html": [
              " View run at <a href='https://wandb.ai/avigailkollmann-tel-aviv-university/corona-tweets-finetuning/runs/m79dk6a8' target=\"_blank\">https://wandb.ai/avigailkollmann-tel-aviv-university/corona-tweets-finetuning/runs/m79dk6a8</a>"
            ]
          },
          "metadata": {}
        },
        {
          "output_type": "display_data",
          "data": {
            "text/plain": [
              "<IPython.core.display.HTML object>"
            ],
            "text/html": []
          },
          "metadata": {}
        },
        {
          "output_type": "display_data",
          "data": {
            "text/plain": [
              "<IPython.core.display.HTML object>"
            ],
            "text/html": [
              "<br>    <style><br>        .wandb-row {<br>            display: flex;<br>            flex-direction: row;<br>            flex-wrap: wrap;<br>            justify-content: flex-start;<br>            width: 100%;<br>        }<br>        .wandb-col {<br>            display: flex;<br>            flex-direction: column;<br>            flex-basis: 100%;<br>            flex: 1;<br>            padding: 10px;<br>        }<br>    </style><br><div class=\"wandb-row\"><div class=\"wandb-col\"><h3>Run history:</h3><br/><table class=\"wandb\"><tr><td>Epoch</td><td>▁▃▅▆█</td></tr><tr><td>Train Accuracy</td><td>▁▅▆▇█</td></tr><tr><td>Train Loss</td><td>█▄▃▂▁</td></tr><tr><td>Validation Accuracy</td><td>▁▄▅▇█</td></tr><tr><td>Validation F1</td><td>▁▄▅▆█</td></tr><tr><td>Validation Loss</td><td>█▅▄▃▁</td></tr><tr><td>Validation Precision</td><td>▁▅▇▆█</td></tr><tr><td>Validation Recall</td><td>▁▄▅▇█</td></tr></table><br/></div><div class=\"wandb-col\"><h3>Run summary:</h3><br/><table class=\"wandb\"><tr><td>Epoch</td><td>5</td></tr><tr><td>Train Accuracy</td><td>0.70203</td></tr><tr><td>Train Loss</td><td>0.73968</td></tr><tr><td>Validation Accuracy</td><td>0.66448</td></tr><tr><td>Validation F1</td><td>0.66674</td></tr><tr><td>Validation Loss</td><td>0.83487</td></tr><tr><td>Validation Precision</td><td>0.68808</td></tr><tr><td>Validation Recall</td><td>0.66448</td></tr></table><br/></div></div>"
            ]
          },
          "metadata": {}
        },
        {
          "output_type": "display_data",
          "data": {
            "text/plain": [
              "<IPython.core.display.HTML object>"
            ],
            "text/html": [
              " View run <strong style=\"color:#cdcd00\">distilbert_trial_0</strong> at: <a href='https://wandb.ai/avigailkollmann-tel-aviv-university/corona-tweets-finetuning/runs/m79dk6a8' target=\"_blank\">https://wandb.ai/avigailkollmann-tel-aviv-university/corona-tweets-finetuning/runs/m79dk6a8</a><br> View project at: <a href='https://wandb.ai/avigailkollmann-tel-aviv-university/corona-tweets-finetuning' target=\"_blank\">https://wandb.ai/avigailkollmann-tel-aviv-university/corona-tweets-finetuning</a><br>Synced 5 W&B file(s), 0 media file(s), 0 artifact file(s) and 0 other file(s)"
            ]
          },
          "metadata": {}
        },
        {
          "output_type": "display_data",
          "data": {
            "text/plain": [
              "<IPython.core.display.HTML object>"
            ],
            "text/html": [
              "Find logs at: <code>./wandb/run-20250819_104924-m79dk6a8/logs</code>"
            ]
          },
          "metadata": {}
        },
        {
          "output_type": "stream",
          "name": "stderr",
          "text": [
            "[I 2025-08-19 11:04:19,461] Trial 0 finished with value: 0.6644800777453839 and parameters: {'learning_rate': 0.0005843428932035234, 'weight_decay': 3.0231010253454837e-06, 'patience': 7, 'batch_size': 128, 'num_layers': 1}. Best is trial 0 with value: 0.6644800777453839.\n",
            "Some weights of DistilBertForSequenceClassification were not initialized from the model checkpoint at distilbert-base-uncased and are newly initialized: ['classifier.bias', 'classifier.weight', 'pre_classifier.bias', 'pre_classifier.weight']\n",
            "You should probably TRAIN this model on a down-stream task to be able to use it for predictions and inference.\n"
          ]
        },
        {
          "output_type": "display_data",
          "data": {
            "text/plain": [
              "<IPython.core.display.HTML object>"
            ],
            "text/html": [
              "Tracking run with wandb version 0.21.1"
            ]
          },
          "metadata": {}
        },
        {
          "output_type": "display_data",
          "data": {
            "text/plain": [
              "<IPython.core.display.HTML object>"
            ],
            "text/html": [
              "Run data is saved locally in <code>/content/wandb/run-20250819_110422-2gh694an</code>"
            ]
          },
          "metadata": {}
        },
        {
          "output_type": "display_data",
          "data": {
            "text/plain": [
              "<IPython.core.display.HTML object>"
            ],
            "text/html": [
              "Syncing run <strong><a href='https://wandb.ai/avigailkollmann-tel-aviv-university/corona-tweets-finetuning/runs/2gh694an' target=\"_blank\">distilbert_trial_1</a></strong> to <a href='https://wandb.ai/avigailkollmann-tel-aviv-university/corona-tweets-finetuning' target=\"_blank\">Weights & Biases</a> (<a href='https://wandb.me/developer-guide' target=\"_blank\">docs</a>)<br>"
            ]
          },
          "metadata": {}
        },
        {
          "output_type": "display_data",
          "data": {
            "text/plain": [
              "<IPython.core.display.HTML object>"
            ],
            "text/html": [
              " View project at <a href='https://wandb.ai/avigailkollmann-tel-aviv-university/corona-tweets-finetuning' target=\"_blank\">https://wandb.ai/avigailkollmann-tel-aviv-university/corona-tweets-finetuning</a>"
            ]
          },
          "metadata": {}
        },
        {
          "output_type": "display_data",
          "data": {
            "text/plain": [
              "<IPython.core.display.HTML object>"
            ],
            "text/html": [
              " View run at <a href='https://wandb.ai/avigailkollmann-tel-aviv-university/corona-tweets-finetuning/runs/2gh694an' target=\"_blank\">https://wandb.ai/avigailkollmann-tel-aviv-university/corona-tweets-finetuning/runs/2gh694an</a>"
            ]
          },
          "metadata": {}
        },
        {
          "output_type": "display_data",
          "data": {
            "text/plain": [
              "<IPython.core.display.HTML object>"
            ],
            "text/html": []
          },
          "metadata": {}
        },
        {
          "output_type": "display_data",
          "data": {
            "text/plain": [
              "<IPython.core.display.HTML object>"
            ],
            "text/html": [
              "<br>    <style><br>        .wandb-row {<br>            display: flex;<br>            flex-direction: row;<br>            flex-wrap: wrap;<br>            justify-content: flex-start;<br>            width: 100%;<br>        }<br>        .wandb-col {<br>            display: flex;<br>            flex-direction: column;<br>            flex-basis: 100%;<br>            flex: 1;<br>            padding: 10px;<br>        }<br>    </style><br><div class=\"wandb-row\"><div class=\"wandb-col\"><h3>Run history:</h3><br/><table class=\"wandb\"><tr><td>Epoch</td><td>▁▃▅▆█</td></tr><tr><td>Train Accuracy</td><td>▁▅▆▇█</td></tr><tr><td>Train Loss</td><td>█▅▃▂▁</td></tr><tr><td>Validation Accuracy</td><td>▁▂▂▇█</td></tr><tr><td>Validation F1</td><td>▁▂▃▇█</td></tr><tr><td>Validation Loss</td><td>█▆█▂▁</td></tr><tr><td>Validation Precision</td><td>▁▃▄██</td></tr><tr><td>Validation Recall</td><td>▁▂▂▇█</td></tr></table><br/></div><div class=\"wandb-col\"><h3>Run summary:</h3><br/><table class=\"wandb\"><tr><td>Epoch</td><td>5</td></tr><tr><td>Train Accuracy</td><td>0.89323</td></tr><tr><td>Train Loss</td><td>0.29508</td></tr><tr><td>Validation Accuracy</td><td>0.80442</td></tr><tr><td>Validation F1</td><td>0.80521</td></tr><tr><td>Validation Loss</td><td>0.53881</td></tr><tr><td>Validation Precision</td><td>0.80726</td></tr><tr><td>Validation Recall</td><td>0.80442</td></tr></table><br/></div></div>"
            ]
          },
          "metadata": {}
        },
        {
          "output_type": "display_data",
          "data": {
            "text/plain": [
              "<IPython.core.display.HTML object>"
            ],
            "text/html": [
              " View run <strong style=\"color:#cdcd00\">distilbert_trial_1</strong> at: <a href='https://wandb.ai/avigailkollmann-tel-aviv-university/corona-tweets-finetuning/runs/2gh694an' target=\"_blank\">https://wandb.ai/avigailkollmann-tel-aviv-university/corona-tweets-finetuning/runs/2gh694an</a><br> View project at: <a href='https://wandb.ai/avigailkollmann-tel-aviv-university/corona-tweets-finetuning' target=\"_blank\">https://wandb.ai/avigailkollmann-tel-aviv-university/corona-tweets-finetuning</a><br>Synced 5 W&B file(s), 0 media file(s), 0 artifact file(s) and 0 other file(s)"
            ]
          },
          "metadata": {}
        },
        {
          "output_type": "display_data",
          "data": {
            "text/plain": [
              "<IPython.core.display.HTML object>"
            ],
            "text/html": [
              "Find logs at: <code>./wandb/run-20250819_110422-2gh694an/logs</code>"
            ]
          },
          "metadata": {}
        },
        {
          "output_type": "stream",
          "name": "stderr",
          "text": [
            "[I 2025-08-19 11:25:10,030] Trial 1 finished with value: 0.8044217687074829 and parameters: {'learning_rate': 0.0003201964668340656, 'weight_decay': 8.193666273888372e-06, 'patience': 7, 'batch_size': 128, 'num_layers': 3}. Best is trial 1 with value: 0.8044217687074829.\n",
            "[I 2025-08-19 11:25:10,032] A new study created in memory with name: no-name-d031f3f3-7018-41e3-95e9-b24e74a7fe03\n"
          ]
        },
        {
          "output_type": "stream",
          "name": "stdout",
          "text": [
            "\n",
            "=== Optimizing RoBERTa ===\n"
          ]
        },
        {
          "output_type": "stream",
          "name": "stderr",
          "text": [
            "Some weights of RobertaForSequenceClassification were not initialized from the model checkpoint at roberta-base and are newly initialized: ['classifier.dense.bias', 'classifier.dense.weight', 'classifier.out_proj.bias', 'classifier.out_proj.weight']\n",
            "You should probably TRAIN this model on a down-stream task to be able to use it for predictions and inference.\n"
          ]
        },
        {
          "output_type": "display_data",
          "data": {
            "text/plain": [
              "<IPython.core.display.HTML object>"
            ],
            "text/html": [
              "Tracking run with wandb version 0.21.1"
            ]
          },
          "metadata": {}
        },
        {
          "output_type": "display_data",
          "data": {
            "text/plain": [
              "<IPython.core.display.HTML object>"
            ],
            "text/html": [
              "Run data is saved locally in <code>/content/wandb/run-20250819_112513-vyozu2j6</code>"
            ]
          },
          "metadata": {}
        },
        {
          "output_type": "display_data",
          "data": {
            "text/plain": [
              "<IPython.core.display.HTML object>"
            ],
            "text/html": [
              "Syncing run <strong><a href='https://wandb.ai/avigailkollmann-tel-aviv-university/corona-tweets-finetuning/runs/vyozu2j6' target=\"_blank\">roberta_trial_0</a></strong> to <a href='https://wandb.ai/avigailkollmann-tel-aviv-university/corona-tweets-finetuning' target=\"_blank\">Weights & Biases</a> (<a href='https://wandb.me/developer-guide' target=\"_blank\">docs</a>)<br>"
            ]
          },
          "metadata": {}
        },
        {
          "output_type": "display_data",
          "data": {
            "text/plain": [
              "<IPython.core.display.HTML object>"
            ],
            "text/html": [
              " View project at <a href='https://wandb.ai/avigailkollmann-tel-aviv-university/corona-tweets-finetuning' target=\"_blank\">https://wandb.ai/avigailkollmann-tel-aviv-university/corona-tweets-finetuning</a>"
            ]
          },
          "metadata": {}
        },
        {
          "output_type": "display_data",
          "data": {
            "text/plain": [
              "<IPython.core.display.HTML object>"
            ],
            "text/html": [
              " View run at <a href='https://wandb.ai/avigailkollmann-tel-aviv-university/corona-tweets-finetuning/runs/vyozu2j6' target=\"_blank\">https://wandb.ai/avigailkollmann-tel-aviv-university/corona-tweets-finetuning/runs/vyozu2j6</a>"
            ]
          },
          "metadata": {}
        },
        {
          "output_type": "display_data",
          "data": {
            "text/plain": [
              "<IPython.core.display.HTML object>"
            ],
            "text/html": []
          },
          "metadata": {}
        },
        {
          "output_type": "display_data",
          "data": {
            "text/plain": [
              "<IPython.core.display.HTML object>"
            ],
            "text/html": [
              "<br>    <style><br>        .wandb-row {<br>            display: flex;<br>            flex-direction: row;<br>            flex-wrap: wrap;<br>            justify-content: flex-start;<br>            width: 100%;<br>        }<br>        .wandb-col {<br>            display: flex;<br>            flex-direction: column;<br>            flex-basis: 100%;<br>            flex: 1;<br>            padding: 10px;<br>        }<br>    </style><br><div class=\"wandb-row\"><div class=\"wandb-col\"><h3>Run history:</h3><br/><table class=\"wandb\"><tr><td>Epoch</td><td>▁▃▅▆█</td></tr><tr><td>Train Accuracy</td><td>▁▄▆▇█</td></tr><tr><td>Train Loss</td><td>█▅▃▂▁</td></tr><tr><td>Validation Accuracy</td><td>▁▃▇█▆</td></tr><tr><td>Validation F1</td><td>▁▃▇█▆</td></tr><tr><td>Validation Loss</td><td>█▆▂▁▄</td></tr><tr><td>Validation Precision</td><td>▁▄▇█▇</td></tr><tr><td>Validation Recall</td><td>▁▃▇█▆</td></tr></table><br/></div><div class=\"wandb-col\"><h3>Run summary:</h3><br/><table class=\"wandb\"><tr><td>Epoch</td><td>5</td></tr><tr><td>Train Accuracy</td><td>0.75068</td></tr><tr><td>Train Loss</td><td>0.63684</td></tr><tr><td>Validation Accuracy</td><td>0.65962</td></tr><tr><td>Validation F1</td><td>0.65628</td></tr><tr><td>Validation Loss</td><td>0.87477</td></tr><tr><td>Validation Precision</td><td>0.66596</td></tr><tr><td>Validation Recall</td><td>0.65962</td></tr></table><br/></div></div>"
            ]
          },
          "metadata": {}
        },
        {
          "output_type": "display_data",
          "data": {
            "text/plain": [
              "<IPython.core.display.HTML object>"
            ],
            "text/html": [
              " View run <strong style=\"color:#cdcd00\">roberta_trial_0</strong> at: <a href='https://wandb.ai/avigailkollmann-tel-aviv-university/corona-tweets-finetuning/runs/vyozu2j6' target=\"_blank\">https://wandb.ai/avigailkollmann-tel-aviv-university/corona-tweets-finetuning/runs/vyozu2j6</a><br> View project at: <a href='https://wandb.ai/avigailkollmann-tel-aviv-university/corona-tweets-finetuning' target=\"_blank\">https://wandb.ai/avigailkollmann-tel-aviv-university/corona-tweets-finetuning</a><br>Synced 5 W&B file(s), 0 media file(s), 0 artifact file(s) and 0 other file(s)"
            ]
          },
          "metadata": {}
        },
        {
          "output_type": "display_data",
          "data": {
            "text/plain": [
              "<IPython.core.display.HTML object>"
            ],
            "text/html": [
              "Find logs at: <code>./wandb/run-20250819_112513-vyozu2j6/logs</code>"
            ]
          },
          "metadata": {}
        },
        {
          "output_type": "stream",
          "name": "stderr",
          "text": [
            "[I 2025-08-19 11:54:29,259] Trial 0 finished with value: 0.684645286686103 and parameters: {'learning_rate': 9.11417622219932e-05, 'weight_decay': 1.2730957784267977e-06, 'patience': 9, 'batch_size': 128, 'num_layers': 2}. Best is trial 0 with value: 0.684645286686103.\n",
            "Some weights of RobertaForSequenceClassification were not initialized from the model checkpoint at roberta-base and are newly initialized: ['classifier.dense.bias', 'classifier.dense.weight', 'classifier.out_proj.bias', 'classifier.out_proj.weight']\n",
            "You should probably TRAIN this model on a down-stream task to be able to use it for predictions and inference.\n"
          ]
        },
        {
          "output_type": "display_data",
          "data": {
            "text/plain": [
              "<IPython.core.display.HTML object>"
            ],
            "text/html": [
              "Tracking run with wandb version 0.21.1"
            ]
          },
          "metadata": {}
        },
        {
          "output_type": "display_data",
          "data": {
            "text/plain": [
              "<IPython.core.display.HTML object>"
            ],
            "text/html": [
              "Run data is saved locally in <code>/content/wandb/run-20250819_115432-4gu0ojeo</code>"
            ]
          },
          "metadata": {}
        },
        {
          "output_type": "display_data",
          "data": {
            "text/plain": [
              "<IPython.core.display.HTML object>"
            ],
            "text/html": [
              "Syncing run <strong><a href='https://wandb.ai/avigailkollmann-tel-aviv-university/corona-tweets-finetuning/runs/4gu0ojeo' target=\"_blank\">roberta_trial_1</a></strong> to <a href='https://wandb.ai/avigailkollmann-tel-aviv-university/corona-tweets-finetuning' target=\"_blank\">Weights & Biases</a> (<a href='https://wandb.me/developer-guide' target=\"_blank\">docs</a>)<br>"
            ]
          },
          "metadata": {}
        },
        {
          "output_type": "display_data",
          "data": {
            "text/plain": [
              "<IPython.core.display.HTML object>"
            ],
            "text/html": [
              " View project at <a href='https://wandb.ai/avigailkollmann-tel-aviv-university/corona-tweets-finetuning' target=\"_blank\">https://wandb.ai/avigailkollmann-tel-aviv-university/corona-tweets-finetuning</a>"
            ]
          },
          "metadata": {}
        },
        {
          "output_type": "display_data",
          "data": {
            "text/plain": [
              "<IPython.core.display.HTML object>"
            ],
            "text/html": [
              " View run at <a href='https://wandb.ai/avigailkollmann-tel-aviv-university/corona-tweets-finetuning/runs/4gu0ojeo' target=\"_blank\">https://wandb.ai/avigailkollmann-tel-aviv-university/corona-tweets-finetuning/runs/4gu0ojeo</a>"
            ]
          },
          "metadata": {}
        },
        {
          "output_type": "display_data",
          "data": {
            "text/plain": [
              "<IPython.core.display.HTML object>"
            ],
            "text/html": []
          },
          "metadata": {}
        },
        {
          "output_type": "display_data",
          "data": {
            "text/plain": [
              "<IPython.core.display.HTML object>"
            ],
            "text/html": [
              "<br>    <style><br>        .wandb-row {<br>            display: flex;<br>            flex-direction: row;<br>            flex-wrap: wrap;<br>            justify-content: flex-start;<br>            width: 100%;<br>        }<br>        .wandb-col {<br>            display: flex;<br>            flex-direction: column;<br>            flex-basis: 100%;<br>            flex: 1;<br>            padding: 10px;<br>        }<br>    </style><br><div class=\"wandb-row\"><div class=\"wandb-col\"><h3>Run history:</h3><br/><table class=\"wandb\"><tr><td>Epoch</td><td>▁▃▅▆█</td></tr><tr><td>Train Accuracy</td><td>▁▅▆▇█</td></tr><tr><td>Train Loss</td><td>█▄▃▂▁</td></tr><tr><td>Validation Accuracy</td><td>▁▆▇██</td></tr><tr><td>Validation F1</td><td>▁▆▇▇█</td></tr><tr><td>Validation Loss</td><td>█▄▂▂▁</td></tr><tr><td>Validation Precision</td><td>▁▆▆▇█</td></tr><tr><td>Validation Recall</td><td>▁▆▇██</td></tr></table><br/></div><div class=\"wandb-col\"><h3>Run summary:</h3><br/><table class=\"wandb\"><tr><td>Epoch</td><td>5</td></tr><tr><td>Train Accuracy</td><td>0.68084</td></tr><tr><td>Train Loss</td><td>0.7871</td></tr><tr><td>Validation Accuracy</td><td>0.64261</td></tr><tr><td>Validation F1</td><td>0.63939</td></tr><tr><td>Validation Loss</td><td>0.88786</td></tr><tr><td>Validation Precision</td><td>0.64852</td></tr><tr><td>Validation Recall</td><td>0.64261</td></tr></table><br/></div></div>"
            ]
          },
          "metadata": {}
        },
        {
          "output_type": "display_data",
          "data": {
            "text/plain": [
              "<IPython.core.display.HTML object>"
            ],
            "text/html": [
              " View run <strong style=\"color:#cdcd00\">roberta_trial_1</strong> at: <a href='https://wandb.ai/avigailkollmann-tel-aviv-university/corona-tweets-finetuning/runs/4gu0ojeo' target=\"_blank\">https://wandb.ai/avigailkollmann-tel-aviv-university/corona-tweets-finetuning/runs/4gu0ojeo</a><br> View project at: <a href='https://wandb.ai/avigailkollmann-tel-aviv-university/corona-tweets-finetuning' target=\"_blank\">https://wandb.ai/avigailkollmann-tel-aviv-university/corona-tweets-finetuning</a><br>Synced 5 W&B file(s), 0 media file(s), 0 artifact file(s) and 0 other file(s)"
            ]
          },
          "metadata": {}
        },
        {
          "output_type": "display_data",
          "data": {
            "text/plain": [
              "<IPython.core.display.HTML object>"
            ],
            "text/html": [
              "Find logs at: <code>./wandb/run-20250819_115432-4gu0ojeo/logs</code>"
            ]
          },
          "metadata": {}
        },
        {
          "output_type": "stream",
          "name": "stderr",
          "text": [
            "[I 2025-08-19 12:26:53,988] Trial 1 finished with value: 0.6426141885325559 and parameters: {'learning_rate': 2.0743029121057295e-05, 'weight_decay': 7.150871183616759e-06, 'patience': 9, 'batch_size': 128, 'num_layers': 3}. Best is trial 0 with value: 0.684645286686103.\n"
          ]
        },
        {
          "output_type": "stream",
          "name": "stdout",
          "text": [
            "\n",
            "=== Best Parameters ===\n",
            "DistilBERT best params: {'learning_rate': 0.0003201964668340656, 'weight_decay': 8.193666273888372e-06, 'patience': 7, 'batch_size': 128, 'num_layers': 3}\n",
            "DistilBERT best value: 0.8044217687074829\n",
            "RoBERTa best params: {'learning_rate': 9.11417622219932e-05, 'weight_decay': 1.2730957784267977e-06, 'patience': 9, 'batch_size': 128, 'num_layers': 2}\n",
            "RoBERTa best value: 0.684645286686103\n"
          ]
        }
      ]
    },
    {
      "cell_type": "markdown",
      "source": [
        "learning_rate 1e-5 to 3e-4, weight_decay 1e-6 to 1e-5, batch_size 128"
      ],
      "metadata": {
        "id": "eXpxPJqmYLRj"
      }
    },
    {
      "cell_type": "code",
      "source": [
        "import torch\n",
        "import torch.nn as nn\n",
        "from transformers import AutoModelForSequenceClassification, AutoTokenizer\n",
        "from torch.optim import Adam\n",
        "from sklearn.metrics import accuracy_score, precision_score, recall_score, f1_score, roc_auc_score\n",
        "import optuna\n",
        "import wandb\n",
        "import pandas as pd\n",
        "from torch.utils.data import DataLoader\n",
        "\n",
        "\n",
        "def compute_metrics_np(y_true, y_pred):\n",
        "    \"\"\"Compute comprehensive metrics for evaluation.\"\"\"\n",
        "    acc = accuracy_score(y_true, y_pred)\n",
        "    prec = precision_score(y_true, y_pred, average=\"weighted\", zero_division=0)\n",
        "    rec = recall_score(y_true, y_pred, average=\"weighted\", zero_division=0)\n",
        "    f1 = f1_score(y_true, y_pred, average=\"weighted\", zero_division=0)\n",
        "    try:\n",
        "        auc = roc_auc_score(y_true, pd.get_dummies(y_pred).values, average=\"weighted\", multi_class=\"ovr\")\n",
        "    except Exception:\n",
        "        auc = float(\"nan\")\n",
        "    return {\"accuracy\": acc, \"precision\": prec, \"recall\": rec, \"f1\": f1, \"auc\": auc}\n",
        "\n",
        "def early_stop_check(patience, best_val_accuracy, best_val_accuracy_epoch,\n",
        "                    current_val_accuracy, current_val_accuracy_epoch):\n",
        "    \"\"\"Check if early stopping condition is met.\"\"\"\n",
        "    early_stop_flag = False\n",
        "    if current_val_accuracy > best_val_accuracy:\n",
        "        best_val_accuracy = current_val_accuracy\n",
        "        best_val_accuracy_epoch = current_val_accuracy_epoch\n",
        "    else:\n",
        "        if current_val_accuracy_epoch - best_val_accuracy_epoch >= patience:\n",
        "            early_stop_flag = True\n",
        "    return best_val_accuracy, best_val_accuracy_epoch, early_stop_flag\n",
        "\n",
        "def train_model_with_hyperparams(model, train_loader, val_loader, optimizer, criterion, epochs, patience, trial):\n",
        "    best_val_accuracy = 0.0\n",
        "    best_val_accuracy_epoch = 0\n",
        "    early_stop_flag = False\n",
        "    best_model_state = None\n",
        "\n",
        "    for epoch in range(1, epochs + 1):\n",
        "        model.train()\n",
        "        train_loss = 0.0\n",
        "        total_train_samples = 0\n",
        "        correct_train_predictions = 0\n",
        "\n",
        "        for batch in train_loader:\n",
        "            input_ids = batch['input_ids'].to(DEVICE)\n",
        "            attention_mask = batch['attention_mask'].to(DEVICE)\n",
        "            labels = batch['labels'].to(DEVICE)\n",
        "\n",
        "            optimizer.zero_grad()\n",
        "            outputs = model(input_ids, attention_mask=attention_mask)\n",
        "            logits = outputs.logits\n",
        "            loss = criterion(logits, labels)\n",
        "            loss.backward()\n",
        "            optimizer.step()\n",
        "\n",
        "            train_loss += loss.item() * input_ids.size(0)\n",
        "            total_train_samples += input_ids.size(0)\n",
        "            correct_train_predictions += (logits.argmax(dim=1) == labels).sum().item()\n",
        "\n",
        "        train_loss /= total_train_samples\n",
        "        train_accuracy = correct_train_predictions / total_train_samples\n",
        "\n",
        "        model.eval()\n",
        "        val_loss = 0.0\n",
        "        total_val_samples = 0\n",
        "        correct_val_predictions = 0\n",
        "        all_val_labels = []\n",
        "        all_val_preds = []\n",
        "\n",
        "        with torch.no_grad():\n",
        "            for batch in val_loader:\n",
        "                input_ids = batch['input_ids'].to(DEVICE)\n",
        "                attention_mask = batch['attention_mask'].to(DEVICE)\n",
        "                labels = batch['labels'].to(DEVICE)\n",
        "\n",
        "                outputs = model(input_ids, attention_mask=attention_mask)\n",
        "                logits = outputs.logits\n",
        "                loss = criterion(logits, labels)\n",
        "\n",
        "                val_loss += loss.item() * input_ids.size(0)\n",
        "                total_val_samples += input_ids.size(0)\n",
        "                correct_val_predictions += (logits.argmax(dim=1) == labels).sum().item()\n",
        "\n",
        "                all_val_labels.extend(labels.cpu().numpy())\n",
        "                all_val_preds.extend(logits.argmax(dim=1).cpu().numpy())\n",
        "\n",
        "        val_loss /= total_val_samples\n",
        "        val_accuracy = correct_val_predictions / total_val_samples\n",
        "        val_precision = precision_score(all_val_labels, all_val_preds, average='weighted', zero_division=0)\n",
        "        val_recall = recall_score(all_val_labels, all_val_preds, average='weighted', zero_division=0)\n",
        "        val_f1 = f1_score(all_val_labels, all_val_preds, average='weighted', zero_division=0)\n",
        "\n",
        "        best_val_accuracy, best_val_accuracy_epoch, early_stop_flag = early_stop_check(\n",
        "            patience, best_val_accuracy, best_val_accuracy_epoch, val_accuracy, epoch\n",
        "        )\n",
        "\n",
        "        if val_accuracy == best_val_accuracy:\n",
        "            best_model_state = model.state_dict()\n",
        "\n",
        "        wandb.log({\n",
        "            \"Epoch\": epoch,\n",
        "            \"Train Loss\": train_loss,\n",
        "            \"Train Accuracy\": train_accuracy,\n",
        "            \"Validation Loss\": val_loss,\n",
        "            \"Validation Accuracy\": val_accuracy,\n",
        "            \"Validation Precision\": val_precision,\n",
        "            \"Validation Recall\": val_recall,\n",
        "            \"Validation F1\": val_f1\n",
        "        })\n",
        "\n",
        "        if early_stop_flag:\n",
        "            break\n",
        "\n",
        "    if best_model_state is not None:\n",
        "        torch.save(best_model_state, f\"best_model_trial_{trial.number}.pt\")\n",
        "\n",
        "    return best_val_accuracy\n",
        "\n",
        "def objective_distilbert(trial):\n",
        "    # learning_rate = trial.suggest_float(\"learning_rate\", 1e-5, 1e-3, log=True)\n",
        "    learning_rate = trial.suggest_float(\"learning_rate\", 2e-4, 6e-4, log=True)\n",
        "    # weight_decay = trial.suggest_float(\"weight_decay\", 1e-6, 1e-4, log=True)\n",
        "    weight_decay = trial.suggest_float(\"weight_decay\", 1e-6, 1e-5, log=True)\n",
        "    patience = trial.suggest_int(\"patience\", 7, 10)\n",
        "    # batch_size = trial.suggest_categorical(\"batch_size\", [64, 128])\n",
        "    batch_size = trial.suggest_categorical(\"batch_size\", [128])\n",
        "    num_layers = trial.suggest_int(\"num_layers\", 1, 3)\n",
        "\n",
        "    train_dataset = CoronaTweetsDataset(train_df[\"CleanedTweet\"], train_df[\"label\"], tokenizer_distilbert)\n",
        "    val_dataset = CoronaTweetsDataset(val_df[\"CleanedTweet\"], val_df[\"label\"], tokenizer_distilbert)\n",
        "    train_loader = DataLoader(train_dataset, batch_size=batch_size, shuffle=True)\n",
        "    val_loader = DataLoader(val_dataset, batch_size=batch_size, shuffle=False)\n",
        "\n",
        "    model = AutoModelForSequenceClassification.from_pretrained(MODEL_NAME_DISTILBERT, num_labels=5).to(DEVICE)\n",
        "\n",
        "    for param in model.distilbert.parameters():\n",
        "        param.requires_grad = False\n",
        "\n",
        "    total_layers = len(model.distilbert.transformer.layer)\n",
        "    for layer_idx in range(max(0, total_layers - num_layers), total_layers):\n",
        "        for param in model.distilbert.transformer.layer[layer_idx].parameters():\n",
        "            param.requires_grad = True\n",
        "\n",
        "    for param in model.classifier.parameters():\n",
        "        param.requires_grad = True\n",
        "\n",
        "    criterion = nn.CrossEntropyLoss()\n",
        "    optimizer = Adam(model.parameters(), lr=learning_rate, weight_decay=weight_decay)\n",
        "\n",
        "    wandb.init(project=\"corona-tweets-finetuning\",\n",
        "               config={\n",
        "                   \"learning_rate\": learning_rate,\n",
        "                   \"weight_decay\": weight_decay,\n",
        "                   \"patience\": patience,\n",
        "                   \"batch_size\": batch_size,\n",
        "                   \"num_layers\": num_layers,\n",
        "                   \"architecture\": \"DistilBERT\",\n",
        "                   \"dataset\": \"corona-tweets\"\n",
        "               },\n",
        "               name=f\"distilbert_trial_{trial.number}\")\n",
        "\n",
        "    best_val_accuracy = train_model_with_hyperparams(model, train_loader, val_loader,\n",
        "                                                    optimizer, criterion, epochs=5,\n",
        "                                                    patience=patience, trial=trial)\n",
        "\n",
        "    wandb.finish()\n",
        "\n",
        "    return best_val_accuracy\n",
        "\n",
        "def objective_roberta(trial):\n",
        "    # learning_rate = trial.suggest_float(\"learning_rate\", 1e-5, 1e-3, log=True)\n",
        "    learning_rate = trial.suggest_float(\"learning_rate\", 1e-5, 3e-4, log=True)\n",
        "    # weight_decay = trial.suggest_float(\"weight_decay\", 1e-6, 1e-4, log=True)\n",
        "    weight_decay = trial.suggest_float(\"weight_decay\", 1e-6, 1e-5, log=True)\n",
        "    patience = trial.suggest_int(\"patience\", 7, 10)\n",
        "    batch_size = trial.suggest_categorical(\"batch_size\", [128])\n",
        "    # batch_size = trial.suggest_categorical(\"batch_size\", [64, 128])\n",
        "    num_layers = trial.suggest_int(\"num_layers\", 1, 3)\n",
        "\n",
        "    train_dataset = CoronaTweetsDataset(train_df[\"CleanedTweet\"], train_df[\"label\"], tokenizer_roberta)\n",
        "    val_dataset = CoronaTweetsDataset(val_df[\"CleanedTweet\"], val_df[\"label\"], tokenizer_roberta)\n",
        "    train_loader = DataLoader(train_dataset, batch_size=batch_size, shuffle=True)\n",
        "    val_loader = DataLoader(val_dataset, batch_size=batch_size, shuffle=False)\n",
        "\n",
        "    model = AutoModelForSequenceClassification.from_pretrained(MODEL_NAME_ROBERTA, num_labels=5).to(DEVICE)\n",
        "\n",
        "    for param in model.roberta.parameters():\n",
        "        param.requires_grad = False\n",
        "\n",
        "    total_layers = len(model.roberta.encoder.layer)\n",
        "    for layer_idx in range(max(0, total_layers - num_layers), total_layers):\n",
        "        for param in model.roberta.encoder.layer[layer_idx].parameters():\n",
        "            param.requires_grad = True\n",
        "\n",
        "    for param in model.classifier.parameters():\n",
        "        param.requires_grad = True\n",
        "\n",
        "    criterion = nn.CrossEntropyLoss()\n",
        "    optimizer = Adam(model.parameters(), lr=learning_rate, weight_decay=weight_decay)\n",
        "\n",
        "    wandb.init(project=\"corona-tweets-finetuning\",\n",
        "               config={\n",
        "                   \"learning_rate\": learning_rate,\n",
        "                   \"weight_decay\": weight_decay,\n",
        "                   \"patience\": patience,\n",
        "                   \"batch_size\": batch_size,\n",
        "                   \"num_layers\": num_layers,\n",
        "                   \"architecture\": \"RoBERTa\",\n",
        "                   \"dataset\": \"corona-tweets\"\n",
        "               },\n",
        "               name=f\"roberta_trial_{trial.number}\")\n",
        "\n",
        "    best_val_accuracy = train_model_with_hyperparams(model, train_loader, val_loader,\n",
        "                                                    optimizer, criterion, epochs=5,\n",
        "                                                    patience=patience, trial=trial)\n",
        "\n",
        "    wandb.finish()\n",
        "\n",
        "    return best_val_accuracy\n",
        "\n",
        "def evaluate_model(model_path, model_name, test_loader):\n",
        "    \"\"\"Function to evaluate the model on test set.\"\"\"\n",
        "    # Load the model\n",
        "    model = AutoModelForSequenceClassification.from_pretrained(model_name, num_labels=5)\n",
        "    model.load_state_dict(torch.load(model_path))\n",
        "    model = model.to(DEVICE)\n",
        "    model.eval()\n",
        "\n",
        "    all_labels = []\n",
        "    all_preds = []\n",
        "\n",
        "    with torch.no_grad():\n",
        "        for batch in test_loader:\n",
        "            input_ids = batch['input_ids'].to(DEVICE)\n",
        "            attention_mask = batch['attention_mask'].to(DEVICE)\n",
        "            labels = batch['labels'].to(DEVICE)\n",
        "\n",
        "            outputs = model(input_ids, attention_mask=attention_mask)\n",
        "            logits = outputs.logits\n",
        "            preds = logits.argmax(dim=1)\n",
        "\n",
        "            all_labels.extend(labels.cpu().numpy())\n",
        "            all_preds.extend(preds.cpu().numpy())\n",
        "\n",
        "    metrics = compute_metrics_np(all_labels, all_preds)\n",
        "    return metrics\n",
        "\n",
        "\n",
        "print(\"\\n=== Optimizing DistilBERT ===\")\n",
        "study_distilbert = optuna.create_study(direction=\"maximize\")\n",
        "study_distilbert.optimize(objective_distilbert, n_trials=2)\n",
        "\n",
        "print(\"\\n=== Optimizing RoBERTa ===\")\n",
        "study_roberta = optuna.create_study(direction=\"maximize\")\n",
        "study_roberta.optimize(objective_roberta, n_trials=2)\n",
        "\n",
        "print(\"\\n=== Best Parameters ===\")\n",
        "print(\"DistilBERT best params:\", study_distilbert.best_params)\n",
        "print(\"DistilBERT best value:\", study_distilbert.best_value)\n",
        "print(\"RoBERTa best params:\", study_roberta.best_params)\n",
        "print(\"RoBERTa best value:\", study_roberta.best_value)"
      ],
      "metadata": {
        "colab": {
          "base_uri": "https://localhost:8080/",
          "height": 1000
        },
        "id": "_DKVo7kaIoaG",
        "outputId": "267b970a-684e-467c-ac61-bfbe52fba38e"
      },
      "execution_count": null,
      "outputs": [
        {
          "output_type": "stream",
          "name": "stderr",
          "text": [
            "[I 2025-08-19 12:26:54,020] A new study created in memory with name: no-name-6704aee6-d4b8-44fe-a170-c158f047bf5d\n"
          ]
        },
        {
          "output_type": "stream",
          "name": "stdout",
          "text": [
            "\n",
            "=== Optimizing DistilBERT ===\n"
          ]
        },
        {
          "output_type": "stream",
          "name": "stderr",
          "text": [
            "Some weights of DistilBertForSequenceClassification were not initialized from the model checkpoint at distilbert-base-uncased and are newly initialized: ['classifier.bias', 'classifier.weight', 'pre_classifier.bias', 'pre_classifier.weight']\n",
            "You should probably TRAIN this model on a down-stream task to be able to use it for predictions and inference.\n"
          ]
        },
        {
          "output_type": "display_data",
          "data": {
            "text/plain": [
              "<IPython.core.display.HTML object>"
            ],
            "text/html": [
              "Tracking run with wandb version 0.21.1"
            ]
          },
          "metadata": {}
        },
        {
          "output_type": "display_data",
          "data": {
            "text/plain": [
              "<IPython.core.display.HTML object>"
            ],
            "text/html": [
              "Run data is saved locally in <code>/content/wandb/run-20250819_122657-ehmezag2</code>"
            ]
          },
          "metadata": {}
        },
        {
          "output_type": "display_data",
          "data": {
            "text/plain": [
              "<IPython.core.display.HTML object>"
            ],
            "text/html": [
              "Syncing run <strong><a href='https://wandb.ai/avigailkollmann-tel-aviv-university/corona-tweets-finetuning/runs/ehmezag2' target=\"_blank\">distilbert_trial_0</a></strong> to <a href='https://wandb.ai/avigailkollmann-tel-aviv-university/corona-tweets-finetuning' target=\"_blank\">Weights & Biases</a> (<a href='https://wandb.me/developer-guide' target=\"_blank\">docs</a>)<br>"
            ]
          },
          "metadata": {}
        },
        {
          "output_type": "display_data",
          "data": {
            "text/plain": [
              "<IPython.core.display.HTML object>"
            ],
            "text/html": [
              " View project at <a href='https://wandb.ai/avigailkollmann-tel-aviv-university/corona-tweets-finetuning' target=\"_blank\">https://wandb.ai/avigailkollmann-tel-aviv-university/corona-tweets-finetuning</a>"
            ]
          },
          "metadata": {}
        },
        {
          "output_type": "display_data",
          "data": {
            "text/plain": [
              "<IPython.core.display.HTML object>"
            ],
            "text/html": [
              " View run at <a href='https://wandb.ai/avigailkollmann-tel-aviv-university/corona-tweets-finetuning/runs/ehmezag2' target=\"_blank\">https://wandb.ai/avigailkollmann-tel-aviv-university/corona-tweets-finetuning/runs/ehmezag2</a>"
            ]
          },
          "metadata": {}
        },
        {
          "output_type": "display_data",
          "data": {
            "text/plain": [
              "<IPython.core.display.HTML object>"
            ],
            "text/html": []
          },
          "metadata": {}
        },
        {
          "output_type": "display_data",
          "data": {
            "text/plain": [
              "<IPython.core.display.HTML object>"
            ],
            "text/html": [
              "<br>    <style><br>        .wandb-row {<br>            display: flex;<br>            flex-direction: row;<br>            flex-wrap: wrap;<br>            justify-content: flex-start;<br>            width: 100%;<br>        }<br>        .wandb-col {<br>            display: flex;<br>            flex-direction: column;<br>            flex-basis: 100%;<br>            flex: 1;<br>            padding: 10px;<br>        }<br>    </style><br><div class=\"wandb-row\"><div class=\"wandb-col\"><h3>Run history:</h3><br/><table class=\"wandb\"><tr><td>Epoch</td><td>▁▃▅▆█</td></tr><tr><td>Train Accuracy</td><td>▁▅▆▇█</td></tr><tr><td>Train Loss</td><td>█▅▃▂▁</td></tr><tr><td>Validation Accuracy</td><td>▁▄▆█▇</td></tr><tr><td>Validation F1</td><td>▁▄▆█▇</td></tr><tr><td>Validation Loss</td><td>█▄▅▁▂</td></tr><tr><td>Validation Precision</td><td>▁▅▆█▇</td></tr><tr><td>Validation Recall</td><td>▁▄▆█▇</td></tr></table><br/></div><div class=\"wandb-col\"><h3>Run summary:</h3><br/><table class=\"wandb\"><tr><td>Epoch</td><td>5</td></tr><tr><td>Train Accuracy</td><td>0.88073</td></tr><tr><td>Train Loss</td><td>0.32523</td></tr><tr><td>Validation Accuracy</td><td>0.78984</td></tr><tr><td>Validation F1</td><td>0.79017</td></tr><tr><td>Validation Loss</td><td>0.59623</td></tr><tr><td>Validation Precision</td><td>0.79385</td></tr><tr><td>Validation Recall</td><td>0.78984</td></tr></table><br/></div></div>"
            ]
          },
          "metadata": {}
        },
        {
          "output_type": "display_data",
          "data": {
            "text/plain": [
              "<IPython.core.display.HTML object>"
            ],
            "text/html": [
              " View run <strong style=\"color:#cdcd00\">distilbert_trial_0</strong> at: <a href='https://wandb.ai/avigailkollmann-tel-aviv-university/corona-tweets-finetuning/runs/ehmezag2' target=\"_blank\">https://wandb.ai/avigailkollmann-tel-aviv-university/corona-tweets-finetuning/runs/ehmezag2</a><br> View project at: <a href='https://wandb.ai/avigailkollmann-tel-aviv-university/corona-tweets-finetuning' target=\"_blank\">https://wandb.ai/avigailkollmann-tel-aviv-university/corona-tweets-finetuning</a><br>Synced 5 W&B file(s), 0 media file(s), 0 artifact file(s) and 0 other file(s)"
            ]
          },
          "metadata": {}
        },
        {
          "output_type": "display_data",
          "data": {
            "text/plain": [
              "<IPython.core.display.HTML object>"
            ],
            "text/html": [
              "Find logs at: <code>./wandb/run-20250819_122657-ehmezag2/logs</code>"
            ]
          },
          "metadata": {}
        },
        {
          "output_type": "stream",
          "name": "stderr",
          "text": [
            "[I 2025-08-19 12:47:44,673] Trial 0 finished with value: 0.7983479105928085 and parameters: {'learning_rate': 0.0003929999204358724, 'weight_decay': 1.1841474864462186e-06, 'patience': 8, 'batch_size': 128, 'num_layers': 3}. Best is trial 0 with value: 0.7983479105928085.\n",
            "Some weights of DistilBertForSequenceClassification were not initialized from the model checkpoint at distilbert-base-uncased and are newly initialized: ['classifier.bias', 'classifier.weight', 'pre_classifier.bias', 'pre_classifier.weight']\n",
            "You should probably TRAIN this model on a down-stream task to be able to use it for predictions and inference.\n"
          ]
        },
        {
          "output_type": "display_data",
          "data": {
            "text/plain": [
              "<IPython.core.display.HTML object>"
            ],
            "text/html": [
              "Tracking run with wandb version 0.21.1"
            ]
          },
          "metadata": {}
        },
        {
          "output_type": "display_data",
          "data": {
            "text/plain": [
              "<IPython.core.display.HTML object>"
            ],
            "text/html": [
              "Run data is saved locally in <code>/content/wandb/run-20250819_124747-rusig8h7</code>"
            ]
          },
          "metadata": {}
        },
        {
          "output_type": "display_data",
          "data": {
            "text/plain": [
              "<IPython.core.display.HTML object>"
            ],
            "text/html": [
              "Syncing run <strong><a href='https://wandb.ai/avigailkollmann-tel-aviv-university/corona-tweets-finetuning/runs/rusig8h7' target=\"_blank\">distilbert_trial_1</a></strong> to <a href='https://wandb.ai/avigailkollmann-tel-aviv-university/corona-tweets-finetuning' target=\"_blank\">Weights & Biases</a> (<a href='https://wandb.me/developer-guide' target=\"_blank\">docs</a>)<br>"
            ]
          },
          "metadata": {}
        },
        {
          "output_type": "display_data",
          "data": {
            "text/plain": [
              "<IPython.core.display.HTML object>"
            ],
            "text/html": [
              " View project at <a href='https://wandb.ai/avigailkollmann-tel-aviv-university/corona-tweets-finetuning' target=\"_blank\">https://wandb.ai/avigailkollmann-tel-aviv-university/corona-tweets-finetuning</a>"
            ]
          },
          "metadata": {}
        },
        {
          "output_type": "display_data",
          "data": {
            "text/plain": [
              "<IPython.core.display.HTML object>"
            ],
            "text/html": [
              " View run at <a href='https://wandb.ai/avigailkollmann-tel-aviv-university/corona-tweets-finetuning/runs/rusig8h7' target=\"_blank\">https://wandb.ai/avigailkollmann-tel-aviv-university/corona-tweets-finetuning/runs/rusig8h7</a>"
            ]
          },
          "metadata": {}
        },
        {
          "output_type": "display_data",
          "data": {
            "text/plain": [
              "<IPython.core.display.HTML object>"
            ],
            "text/html": []
          },
          "metadata": {}
        },
        {
          "output_type": "display_data",
          "data": {
            "text/plain": [
              "<IPython.core.display.HTML object>"
            ],
            "text/html": [
              "<br>    <style><br>        .wandb-row {<br>            display: flex;<br>            flex-direction: row;<br>            flex-wrap: wrap;<br>            justify-content: flex-start;<br>            width: 100%;<br>        }<br>        .wandb-col {<br>            display: flex;<br>            flex-direction: column;<br>            flex-basis: 100%;<br>            flex: 1;<br>            padding: 10px;<br>        }<br>    </style><br><div class=\"wandb-row\"><div class=\"wandb-col\"><h3>Run history:</h3><br/><table class=\"wandb\"><tr><td>Epoch</td><td>▁▃▅▆█</td></tr><tr><td>Train Accuracy</td><td>▁▄▆▇█</td></tr><tr><td>Train Loss</td><td>█▅▃▂▁</td></tr><tr><td>Validation Accuracy</td><td>▁▄▆▆█</td></tr><tr><td>Validation F1</td><td>▁▄▅▆█</td></tr><tr><td>Validation Loss</td><td>█▄▂▁▂</td></tr><tr><td>Validation Precision</td><td>▁▃▅▅█</td></tr><tr><td>Validation Recall</td><td>▁▄▆▆█</td></tr></table><br/></div><div class=\"wandb-col\"><h3>Run summary:</h3><br/><table class=\"wandb\"><tr><td>Epoch</td><td>5</td></tr><tr><td>Train Accuracy</td><td>0.7279</td></tr><tr><td>Train Loss</td><td>0.68086</td></tr><tr><td>Validation Accuracy</td><td>0.67177</td></tr><tr><td>Validation F1</td><td>0.67361</td></tr><tr><td>Validation Loss</td><td>0.84513</td></tr><tr><td>Validation Precision</td><td>0.67917</td></tr><tr><td>Validation Recall</td><td>0.67177</td></tr></table><br/></div></div>"
            ]
          },
          "metadata": {}
        },
        {
          "output_type": "display_data",
          "data": {
            "text/plain": [
              "<IPython.core.display.HTML object>"
            ],
            "text/html": [
              " View run <strong style=\"color:#cdcd00\">distilbert_trial_1</strong> at: <a href='https://wandb.ai/avigailkollmann-tel-aviv-university/corona-tweets-finetuning/runs/rusig8h7' target=\"_blank\">https://wandb.ai/avigailkollmann-tel-aviv-university/corona-tweets-finetuning/runs/rusig8h7</a><br> View project at: <a href='https://wandb.ai/avigailkollmann-tel-aviv-university/corona-tweets-finetuning' target=\"_blank\">https://wandb.ai/avigailkollmann-tel-aviv-university/corona-tweets-finetuning</a><br>Synced 5 W&B file(s), 0 media file(s), 0 artifact file(s) and 0 other file(s)"
            ]
          },
          "metadata": {}
        },
        {
          "output_type": "display_data",
          "data": {
            "text/plain": [
              "<IPython.core.display.HTML object>"
            ],
            "text/html": [
              "Find logs at: <code>./wandb/run-20250819_124747-rusig8h7/logs</code>"
            ]
          },
          "metadata": {}
        },
        {
          "output_type": "stream",
          "name": "stderr",
          "text": [
            "[I 2025-08-19 13:02:43,465] Trial 1 finished with value: 0.6717687074829932 and parameters: {'learning_rate': 0.0003405060620436493, 'weight_decay': 5.225647506991129e-06, 'patience': 7, 'batch_size': 128, 'num_layers': 1}. Best is trial 0 with value: 0.7983479105928085.\n",
            "[I 2025-08-19 13:02:43,467] A new study created in memory with name: no-name-e92c482c-2cfd-4b5f-9854-077105b04440\n"
          ]
        },
        {
          "output_type": "stream",
          "name": "stdout",
          "text": [
            "\n",
            "=== Optimizing RoBERTa ===\n"
          ]
        },
        {
          "output_type": "stream",
          "name": "stderr",
          "text": [
            "Some weights of RobertaForSequenceClassification were not initialized from the model checkpoint at roberta-base and are newly initialized: ['classifier.dense.bias', 'classifier.dense.weight', 'classifier.out_proj.bias', 'classifier.out_proj.weight']\n",
            "You should probably TRAIN this model on a down-stream task to be able to use it for predictions and inference.\n"
          ]
        },
        {
          "output_type": "display_data",
          "data": {
            "text/plain": [
              "<IPython.core.display.HTML object>"
            ],
            "text/html": [
              "creating run (1.0s)"
            ]
          },
          "metadata": {}
        },
        {
          "output_type": "display_data",
          "data": {
            "text/plain": [
              "<IPython.core.display.HTML object>"
            ],
            "text/html": [
              "Tracking run with wandb version 0.21.1"
            ]
          },
          "metadata": {}
        },
        {
          "output_type": "display_data",
          "data": {
            "text/plain": [
              "<IPython.core.display.HTML object>"
            ],
            "text/html": [
              "Run data is saved locally in <code>/content/wandb/run-20250819_130246-ydd6yyb4</code>"
            ]
          },
          "metadata": {}
        },
        {
          "output_type": "display_data",
          "data": {
            "text/plain": [
              "<IPython.core.display.HTML object>"
            ],
            "text/html": [
              "Syncing run <strong><a href='https://wandb.ai/avigailkollmann-tel-aviv-university/corona-tweets-finetuning/runs/ydd6yyb4' target=\"_blank\">roberta_trial_0</a></strong> to <a href='https://wandb.ai/avigailkollmann-tel-aviv-university/corona-tweets-finetuning' target=\"_blank\">Weights & Biases</a> (<a href='https://wandb.me/developer-guide' target=\"_blank\">docs</a>)<br>"
            ]
          },
          "metadata": {}
        },
        {
          "output_type": "display_data",
          "data": {
            "text/plain": [
              "<IPython.core.display.HTML object>"
            ],
            "text/html": [
              " View project at <a href='https://wandb.ai/avigailkollmann-tel-aviv-university/corona-tweets-finetuning' target=\"_blank\">https://wandb.ai/avigailkollmann-tel-aviv-university/corona-tweets-finetuning</a>"
            ]
          },
          "metadata": {}
        },
        {
          "output_type": "display_data",
          "data": {
            "text/plain": [
              "<IPython.core.display.HTML object>"
            ],
            "text/html": [
              " View run at <a href='https://wandb.ai/avigailkollmann-tel-aviv-university/corona-tweets-finetuning/runs/ydd6yyb4' target=\"_blank\">https://wandb.ai/avigailkollmann-tel-aviv-university/corona-tweets-finetuning/runs/ydd6yyb4</a>"
            ]
          },
          "metadata": {}
        },
        {
          "output_type": "display_data",
          "data": {
            "text/plain": [
              "<IPython.core.display.HTML object>"
            ],
            "text/html": []
          },
          "metadata": {}
        },
        {
          "output_type": "display_data",
          "data": {
            "text/plain": [
              "<IPython.core.display.HTML object>"
            ],
            "text/html": [
              "<br>    <style><br>        .wandb-row {<br>            display: flex;<br>            flex-direction: row;<br>            flex-wrap: wrap;<br>            justify-content: flex-start;<br>            width: 100%;<br>        }<br>        .wandb-col {<br>            display: flex;<br>            flex-direction: column;<br>            flex-basis: 100%;<br>            flex: 1;<br>            padding: 10px;<br>        }<br>    </style><br><div class=\"wandb-row\"><div class=\"wandb-col\"><h3>Run history:</h3><br/><table class=\"wandb\"><tr><td>Epoch</td><td>▁▃▅▆█</td></tr><tr><td>Train Accuracy</td><td>▁▅▆▇█</td></tr><tr><td>Train Loss</td><td>█▄▃▂▁</td></tr><tr><td>Validation Accuracy</td><td>▁▄▅▇█</td></tr><tr><td>Validation F1</td><td>▁▄▅▇█</td></tr><tr><td>Validation Loss</td><td>█▅▄▂▁</td></tr><tr><td>Validation Precision</td><td>▁▄▄▇█</td></tr><tr><td>Validation Recall</td><td>▁▄▅▇█</td></tr></table><br/></div><div class=\"wandb-col\"><h3>Run summary:</h3><br/><table class=\"wandb\"><tr><td>Epoch</td><td>5</td></tr><tr><td>Train Accuracy</td><td>0.63694</td></tr><tr><td>Train Loss</td><td>0.88399</td></tr><tr><td>Validation Accuracy</td><td>0.62828</td></tr><tr><td>Validation F1</td><td>0.62812</td></tr><tr><td>Validation Loss</td><td>0.92019</td></tr><tr><td>Validation Precision</td><td>0.63814</td></tr><tr><td>Validation Recall</td><td>0.62828</td></tr></table><br/></div></div>"
            ]
          },
          "metadata": {}
        },
        {
          "output_type": "display_data",
          "data": {
            "text/plain": [
              "<IPython.core.display.HTML object>"
            ],
            "text/html": [
              " View run <strong style=\"color:#cdcd00\">roberta_trial_0</strong> at: <a href='https://wandb.ai/avigailkollmann-tel-aviv-university/corona-tweets-finetuning/runs/ydd6yyb4' target=\"_blank\">https://wandb.ai/avigailkollmann-tel-aviv-university/corona-tweets-finetuning/runs/ydd6yyb4</a><br> View project at: <a href='https://wandb.ai/avigailkollmann-tel-aviv-university/corona-tweets-finetuning' target=\"_blank\">https://wandb.ai/avigailkollmann-tel-aviv-university/corona-tweets-finetuning</a><br>Synced 5 W&B file(s), 0 media file(s), 0 artifact file(s) and 0 other file(s)"
            ]
          },
          "metadata": {}
        },
        {
          "output_type": "display_data",
          "data": {
            "text/plain": [
              "<IPython.core.display.HTML object>"
            ],
            "text/html": [
              "Find logs at: <code>./wandb/run-20250819_130246-ydd6yyb4/logs</code>"
            ]
          },
          "metadata": {}
        },
        {
          "output_type": "stream",
          "name": "stderr",
          "text": [
            "[I 2025-08-19 13:32:02,205] Trial 0 finished with value: 0.6282798833819242 and parameters: {'learning_rate': 2.0529580054490893e-05, 'weight_decay': 1.0839340397595588e-06, 'patience': 8, 'batch_size': 128, 'num_layers': 2}. Best is trial 0 with value: 0.6282798833819242.\n",
            "Some weights of RobertaForSequenceClassification were not initialized from the model checkpoint at roberta-base and are newly initialized: ['classifier.dense.bias', 'classifier.dense.weight', 'classifier.out_proj.bias', 'classifier.out_proj.weight']\n",
            "You should probably TRAIN this model on a down-stream task to be able to use it for predictions and inference.\n"
          ]
        },
        {
          "output_type": "display_data",
          "data": {
            "text/plain": [
              "<IPython.core.display.HTML object>"
            ],
            "text/html": [
              "Tracking run with wandb version 0.21.1"
            ]
          },
          "metadata": {}
        },
        {
          "output_type": "display_data",
          "data": {
            "text/plain": [
              "<IPython.core.display.HTML object>"
            ],
            "text/html": [
              "Run data is saved locally in <code>/content/wandb/run-20250819_133205-bs8e1kv8</code>"
            ]
          },
          "metadata": {}
        },
        {
          "output_type": "display_data",
          "data": {
            "text/plain": [
              "<IPython.core.display.HTML object>"
            ],
            "text/html": [
              "Syncing run <strong><a href='https://wandb.ai/avigailkollmann-tel-aviv-university/corona-tweets-finetuning/runs/bs8e1kv8' target=\"_blank\">roberta_trial_1</a></strong> to <a href='https://wandb.ai/avigailkollmann-tel-aviv-university/corona-tweets-finetuning' target=\"_blank\">Weights & Biases</a> (<a href='https://wandb.me/developer-guide' target=\"_blank\">docs</a>)<br>"
            ]
          },
          "metadata": {}
        },
        {
          "output_type": "display_data",
          "data": {
            "text/plain": [
              "<IPython.core.display.HTML object>"
            ],
            "text/html": [
              " View project at <a href='https://wandb.ai/avigailkollmann-tel-aviv-university/corona-tweets-finetuning' target=\"_blank\">https://wandb.ai/avigailkollmann-tel-aviv-university/corona-tweets-finetuning</a>"
            ]
          },
          "metadata": {}
        },
        {
          "output_type": "display_data",
          "data": {
            "text/plain": [
              "<IPython.core.display.HTML object>"
            ],
            "text/html": [
              " View run at <a href='https://wandb.ai/avigailkollmann-tel-aviv-university/corona-tweets-finetuning/runs/bs8e1kv8' target=\"_blank\">https://wandb.ai/avigailkollmann-tel-aviv-university/corona-tweets-finetuning/runs/bs8e1kv8</a>"
            ]
          },
          "metadata": {}
        },
        {
          "output_type": "display_data",
          "data": {
            "text/plain": [
              "<IPython.core.display.HTML object>"
            ],
            "text/html": []
          },
          "metadata": {}
        },
        {
          "output_type": "display_data",
          "data": {
            "text/plain": [
              "<IPython.core.display.HTML object>"
            ],
            "text/html": [
              "<br>    <style><br>        .wandb-row {<br>            display: flex;<br>            flex-direction: row;<br>            flex-wrap: wrap;<br>            justify-content: flex-start;<br>            width: 100%;<br>        }<br>        .wandb-col {<br>            display: flex;<br>            flex-direction: column;<br>            flex-basis: 100%;<br>            flex: 1;<br>            padding: 10px;<br>        }<br>    </style><br><div class=\"wandb-row\"><div class=\"wandb-col\"><h3>Run history:</h3><br/><table class=\"wandb\"><tr><td>Epoch</td><td>▁▃▅▆█</td></tr><tr><td>Train Accuracy</td><td>▁▅▆▇█</td></tr><tr><td>Train Loss</td><td>█▄▃▂▁</td></tr><tr><td>Validation Accuracy</td><td>▁▃▅▇█</td></tr><tr><td>Validation F1</td><td>▁▃▅▇█</td></tr><tr><td>Validation Loss</td><td>█▆▃▁▁</td></tr><tr><td>Validation Precision</td><td>▁▄▄▇█</td></tr><tr><td>Validation Recall</td><td>▁▃▅▇█</td></tr></table><br/></div><div class=\"wandb-col\"><h3>Run summary:</h3><br/><table class=\"wandb\"><tr><td>Epoch</td><td>5</td></tr><tr><td>Train Accuracy</td><td>0.72431</td></tr><tr><td>Train Loss</td><td>0.69049</td></tr><tr><td>Validation Accuracy</td><td>0.69679</td></tr><tr><td>Validation F1</td><td>0.69754</td></tr><tr><td>Validation Loss</td><td>0.81372</td></tr><tr><td>Validation Precision</td><td>0.70586</td></tr><tr><td>Validation Recall</td><td>0.69679</td></tr></table><br/></div></div>"
            ]
          },
          "metadata": {}
        },
        {
          "output_type": "display_data",
          "data": {
            "text/plain": [
              "<IPython.core.display.HTML object>"
            ],
            "text/html": [
              " View run <strong style=\"color:#cdcd00\">roberta_trial_1</strong> at: <a href='https://wandb.ai/avigailkollmann-tel-aviv-university/corona-tweets-finetuning/runs/bs8e1kv8' target=\"_blank\">https://wandb.ai/avigailkollmann-tel-aviv-university/corona-tweets-finetuning/runs/bs8e1kv8</a><br> View project at: <a href='https://wandb.ai/avigailkollmann-tel-aviv-university/corona-tweets-finetuning' target=\"_blank\">https://wandb.ai/avigailkollmann-tel-aviv-university/corona-tweets-finetuning</a><br>Synced 5 W&B file(s), 0 media file(s), 0 artifact file(s) and 0 other file(s)"
            ]
          },
          "metadata": {}
        },
        {
          "output_type": "display_data",
          "data": {
            "text/plain": [
              "<IPython.core.display.HTML object>"
            ],
            "text/html": [
              "Find logs at: <code>./wandb/run-20250819_133205-bs8e1kv8/logs</code>"
            ]
          },
          "metadata": {}
        },
        {
          "output_type": "stream",
          "name": "stderr",
          "text": [
            "[I 2025-08-19 14:04:27,375] Trial 1 finished with value: 0.6967930029154519 and parameters: {'learning_rate': 3.284382010232365e-05, 'weight_decay': 4.506428791123357e-06, 'patience': 9, 'batch_size': 128, 'num_layers': 3}. Best is trial 1 with value: 0.6967930029154519.\n"
          ]
        },
        {
          "output_type": "stream",
          "name": "stdout",
          "text": [
            "\n",
            "=== Best Parameters ===\n",
            "DistilBERT best params: {'learning_rate': 0.0003929999204358724, 'weight_decay': 1.1841474864462186e-06, 'patience': 8, 'batch_size': 128, 'num_layers': 3}\n",
            "DistilBERT best value: 0.7983479105928085\n",
            "RoBERTa best params: {'learning_rate': 3.284382010232365e-05, 'weight_decay': 4.506428791123357e-06, 'patience': 9, 'batch_size': 128, 'num_layers': 3}\n",
            "RoBERTa best value: 0.6967930029154519\n"
          ]
        }
      ]
    },
    {
      "cell_type": "markdown",
      "source": [
        "Fintun HF"
      ],
      "metadata": {
        "id": "HPVemcB8IqT1"
      }
    },
    {
      "cell_type": "code",
      "source": [
        "from transformers import TrainingArguments, Trainer\n",
        "import numpy as np\n",
        "import evaluate\n",
        "from scipy.special import softmax\n",
        "\n",
        "accuracy_metric = evaluate.load(\"accuracy\")\n",
        "precision_metric = evaluate.load(\"precision\")\n",
        "recall_metric = evaluate.load(\"recall\")\n",
        "f1_metric = evaluate.load(\"f1\")\n",
        "\n",
        "\n",
        "def compute_metrics_enhanced(eval_pred):\n",
        "    logits, labels = eval_pred\n",
        "    predictions = np.argmax(logits, axis=-1)\n",
        "\n",
        "    try:\n",
        "        probabilities = softmax(logits, axis=1)\n",
        "        auc = roc_auc_score(labels, probabilities, average=\"weighted\", multi_class=\"ovr\")\n",
        "    except Exception as e:\n",
        "        print(f\"AUC calculation failed: {e}\")\n",
        "        auc = 0.0\n",
        "\n",
        "    return {\n",
        "        \"accuracy\": accuracy_metric.compute(predictions=predictions, references=labels)[\"accuracy\"],\n",
        "        \"precision\": precision_metric.compute(predictions=predictions, references=labels, average=\"weighted\")[\"precision\"],\n",
        "        \"recall\": recall_metric.compute(predictions=predictions, references=labels, average=\"weighted\")[\"recall\"],\n",
        "        \"f1\": f1_metric.compute(predictions=predictions, references=labels, average=\"weighted\")[\"f1\"],\n",
        "        \"auc\": auc\n",
        "    }\n",
        "\n",
        "def compute_metrics_basic(eval_pred):\n",
        "    logits, labels = eval_pred\n",
        "    predictions = np.argmax(logits, axis=-1)\n",
        "    return accuracy_metric.compute(predictions=predictions, references=labels)\n",
        "\n",
        "def train_with_trainer(model_name, train_ds, val_ds, run_name, out_dir, enhanced_metrics=True, use_wandb=True):\n",
        "\n",
        "    model = AutoModelForSequenceClassification.from_pretrained(model_name, num_labels=5)\n",
        "\n",
        "    training_args = TrainingArguments(\n",
        "    output_dir=out_dir,\n",
        "    num_train_epochs=5,\n",
        "    eval_strategy=\"epoch\",\n",
        "    save_strategy=\"epoch\",\n",
        "    weight_decay=0.01,\n",
        "    load_best_model_at_end=True,\n",
        "    metric_for_best_model=\"eval_f1\",\n",
        "    greater_is_better=True,\n",
        "    report_to=[\"wandb\"] if use_wandb else \"none\",\n",
        "    run_name=run_name if use_wandb else None,\n",
        "    )\n",
        "\n",
        "    compute_metrics_fn = compute_metrics_enhanced if enhanced_metrics else compute_metrics_basic\n",
        "\n",
        "    trainer = Trainer(\n",
        "        model=model,\n",
        "        args=training_args,\n",
        "        train_dataset=train_ds,\n",
        "        eval_dataset=val_ds,\n",
        "        compute_metrics=compute_metrics_fn\n",
        "    )\n",
        "\n",
        "    trainer.train()\n",
        "\n",
        "    metrics = trainer.evaluate()\n",
        "    print(f\"{run_name} metrics:\", metrics)\n",
        "\n",
        "    return trainer\n",
        "\n",
        "USE_WANDB = True\n",
        "\n",
        "trainer_distilbert = train_with_trainer(\n",
        "    MODEL_NAME_DISTILBERT,\n",
        "    train_ds_distilbert,\n",
        "    val_ds_distilbert,\n",
        "    run_name=\"DistilBERT-Basic\",\n",
        "    out_dir=\"./test_trainer_distilbert\",\n",
        "    enhanced_metrics=True,\n",
        "    use_wandb=USE_WANDB\n",
        ")\n",
        "\n",
        "trainer_roberta = train_with_trainer(\n",
        "    MODEL_NAME_ROBERTA,\n",
        "    train_ds_roberta,\n",
        "    val_ds_roberta,\n",
        "    run_name=\"RoBERTa-Enhanced\",\n",
        "    out_dir=\"./test_trainer_roberta\",\n",
        "    enhanced_metrics=True,\n",
        "    use_wandb=USE_WANDB\n",
        ")\n",
        "\n",
        "final_distilbert = trainer_distilbert.model.to(DEVICE).eval()\n",
        "final_roberta = trainer_roberta.model.to(DEVICE).eval()"
      ],
      "metadata": {
        "colab": {
          "base_uri": "https://localhost:8080/",
          "height": 611
        },
        "id": "Px631Iuqhao8",
        "outputId": "c302d426-8587-461b-becb-0064e5cce06e"
      },
      "execution_count": null,
      "outputs": [
        {
          "output_type": "stream",
          "name": "stderr",
          "text": [
            "Some weights of DistilBertForSequenceClassification were not initialized from the model checkpoint at distilbert-base-uncased and are newly initialized: ['classifier.bias', 'classifier.weight', 'pre_classifier.bias', 'pre_classifier.weight']\n",
            "You should probably TRAIN this model on a down-stream task to be able to use it for predictions and inference.\n"
          ]
        },
        {
          "output_type": "display_data",
          "data": {
            "text/plain": [
              "<IPython.core.display.HTML object>"
            ],
            "text/html": [
              "\n",
              "    <div>\n",
              "      \n",
              "      <progress value='23155' max='23155' style='width:300px; height:20px; vertical-align: middle;'></progress>\n",
              "      [23155/23155 37:51, Epoch 5/5]\n",
              "    </div>\n",
              "    <table border=\"1\" class=\"dataframe\">\n",
              "  <thead>\n",
              " <tr style=\"text-align: left;\">\n",
              "      <th>Epoch</th>\n",
              "      <th>Training Loss</th>\n",
              "      <th>Validation Loss</th>\n",
              "      <th>Accuracy</th>\n",
              "      <th>Precision</th>\n",
              "      <th>Recall</th>\n",
              "      <th>F1</th>\n",
              "      <th>Auc</th>\n",
              "    </tr>\n",
              "  </thead>\n",
              "  <tbody>\n",
              "    <tr>\n",
              "      <td>1</td>\n",
              "      <td>0.534200</td>\n",
              "      <td>0.468491</td>\n",
              "      <td>0.829446</td>\n",
              "      <td>0.833201</td>\n",
              "      <td>0.829446</td>\n",
              "      <td>0.829860</td>\n",
              "      <td>0.968415</td>\n",
              "    </tr>\n",
              "    <tr>\n",
              "      <td>2</td>\n",
              "      <td>0.386100</td>\n",
              "      <td>0.447890</td>\n",
              "      <td>0.860301</td>\n",
              "      <td>0.864963</td>\n",
              "      <td>0.860301</td>\n",
              "      <td>0.860477</td>\n",
              "      <td>0.978296</td>\n",
              "    </tr>\n",
              "    <tr>\n",
              "      <td>3</td>\n",
              "      <td>0.264700</td>\n",
              "      <td>0.564530</td>\n",
              "      <td>0.867833</td>\n",
              "      <td>0.871581</td>\n",
              "      <td>0.867833</td>\n",
              "      <td>0.867615</td>\n",
              "      <td>0.977884</td>\n",
              "    </tr>\n",
              "    <tr>\n",
              "      <td>4</td>\n",
              "      <td>0.173700</td>\n",
              "      <td>0.583421</td>\n",
              "      <td>0.880224</td>\n",
              "      <td>0.881098</td>\n",
              "      <td>0.880224</td>\n",
              "      <td>0.880019</td>\n",
              "      <td>0.982771</td>\n",
              "    </tr>\n",
              "    <tr>\n",
              "      <td>5</td>\n",
              "      <td>0.106100</td>\n",
              "      <td>0.656035</td>\n",
              "      <td>0.879738</td>\n",
              "      <td>0.880110</td>\n",
              "      <td>0.879738</td>\n",
              "      <td>0.879582</td>\n",
              "      <td>0.982817</td>\n",
              "    </tr>\n",
              "  </tbody>\n",
              "</table><p>"
            ]
          },
          "metadata": {}
        },
        {
          "output_type": "display_data",
          "data": {
            "text/plain": [
              "<IPython.core.display.HTML object>"
            ],
            "text/html": [
              "\n",
              "    <div>\n",
              "      \n",
              "      <progress value='515' max='515' style='width:300px; height:20px; vertical-align: middle;'></progress>\n",
              "      [515/515 00:14]\n",
              "    </div>\n",
              "    "
            ]
          },
          "metadata": {}
        },
        {
          "output_type": "stream",
          "name": "stdout",
          "text": [
            "DistilBERT-Basic metrics: {'eval_loss': 0.5834210515022278, 'eval_accuracy': 0.88022351797862, 'eval_precision': 0.8810978028001043, 'eval_recall': 0.88022351797862, 'eval_f1': 0.8800194476766197, 'eval_auc': 0.9827713755062562, 'eval_runtime': 14.8678, 'eval_samples_per_second': 276.839, 'eval_steps_per_second': 34.639, 'epoch': 5.0}\n"
          ]
        },
        {
          "output_type": "stream",
          "name": "stderr",
          "text": [
            "Some weights of RobertaForSequenceClassification were not initialized from the model checkpoint at roberta-base and are newly initialized: ['classifier.dense.bias', 'classifier.dense.weight', 'classifier.out_proj.bias', 'classifier.out_proj.weight']\n",
            "You should probably TRAIN this model on a down-stream task to be able to use it for predictions and inference.\n"
          ]
        },
        {
          "output_type": "display_data",
          "data": {
            "text/plain": [
              "<IPython.core.display.HTML object>"
            ],
            "text/html": [
              "\n",
              "    <div>\n",
              "      \n",
              "      <progress value='23155' max='23155' style='width:300px; height:20px; vertical-align: middle;'></progress>\n",
              "      [23155/23155 1:15:52, Epoch 5/5]\n",
              "    </div>\n",
              "    <table border=\"1\" class=\"dataframe\">\n",
              "  <thead>\n",
              " <tr style=\"text-align: left;\">\n",
              "      <th>Epoch</th>\n",
              "      <th>Training Loss</th>\n",
              "      <th>Validation Loss</th>\n",
              "      <th>Accuracy</th>\n",
              "      <th>Precision</th>\n",
              "      <th>Recall</th>\n",
              "      <th>F1</th>\n",
              "      <th>Auc</th>\n",
              "    </tr>\n",
              "  </thead>\n",
              "  <tbody>\n",
              "    <tr>\n",
              "      <td>1</td>\n",
              "      <td>0.823200</td>\n",
              "      <td>0.813610</td>\n",
              "      <td>0.713071</td>\n",
              "      <td>0.745260</td>\n",
              "      <td>0.713071</td>\n",
              "      <td>0.712082</td>\n",
              "      <td>0.913576</td>\n",
              "    </tr>\n",
              "    <tr>\n",
              "      <td>2</td>\n",
              "      <td>0.632400</td>\n",
              "      <td>0.662826</td>\n",
              "      <td>0.782070</td>\n",
              "      <td>0.792246</td>\n",
              "      <td>0.782070</td>\n",
              "      <td>0.781805</td>\n",
              "      <td>0.949291</td>\n",
              "    </tr>\n",
              "    <tr>\n",
              "      <td>3</td>\n",
              "      <td>0.491200</td>\n",
              "      <td>0.602778</td>\n",
              "      <td>0.828717</td>\n",
              "      <td>0.830122</td>\n",
              "      <td>0.828717</td>\n",
              "      <td>0.828875</td>\n",
              "      <td>0.959332</td>\n",
              "    </tr>\n",
              "    <tr>\n",
              "      <td>4</td>\n",
              "      <td>0.377700</td>\n",
              "      <td>0.705106</td>\n",
              "      <td>0.829932</td>\n",
              "      <td>0.833518</td>\n",
              "      <td>0.829932</td>\n",
              "      <td>0.829249</td>\n",
              "      <td>0.966759</td>\n",
              "    </tr>\n",
              "    <tr>\n",
              "      <td>5</td>\n",
              "      <td>0.274500</td>\n",
              "      <td>0.645194</td>\n",
              "      <td>0.857143</td>\n",
              "      <td>0.857299</td>\n",
              "      <td>0.857143</td>\n",
              "      <td>0.856818</td>\n",
              "      <td>0.971706</td>\n",
              "    </tr>\n",
              "  </tbody>\n",
              "</table><p>"
            ]
          },
          "metadata": {}
        },
        {
          "output_type": "display_data",
          "data": {
            "text/plain": [
              "<IPython.core.display.HTML object>"
            ],
            "text/html": [
              "\n",
              "    <div>\n",
              "      \n",
              "      <progress value='515' max='515' style='width:300px; height:20px; vertical-align: middle;'></progress>\n",
              "      [515/515 00:26]\n",
              "    </div>\n",
              "    "
            ]
          },
          "metadata": {}
        },
        {
          "output_type": "stream",
          "name": "stdout",
          "text": [
            "RoBERTa-Enhanced metrics: {'eval_loss': 0.6451942920684814, 'eval_accuracy': 0.8571428571428571, 'eval_precision': 0.8572993014067517, 'eval_recall': 0.8571428571428571, 'eval_f1': 0.8568178719187166, 'eval_auc': 0.9717061636459475, 'eval_runtime': 26.3301, 'eval_samples_per_second': 156.323, 'eval_steps_per_second': 19.559, 'epoch': 5.0}\n"
          ]
        }
      ]
    },
    {
      "cell_type": "markdown",
      "source": [
        "Model Compression"
      ],
      "metadata": {
        "id": "3PU87yYEVziA"
      }
    },
    {
      "cell_type": "markdown",
      "source": [
        "Quantization"
      ],
      "metadata": {
        "id": "e1O_l3OPiXsb"
      }
    },
    {
      "cell_type": "code",
      "source": [
        "import torch\n",
        "import torch.nn as nn\n",
        "import torch.nn.utils.prune as prune\n",
        "from torch.quantization import quantize_dynamic\n",
        "import torch.nn.functional as F\n",
        "from transformers import AutoModelForSequenceClassification\n",
        "import copy"
      ],
      "metadata": {
        "id": "yfWGS-ofIvOp"
      },
      "execution_count": null,
      "outputs": []
    },
    {
      "cell_type": "code",
      "source": [
        "def compute_metrics_np(y_true, y_pred):\n",
        "    acc = accuracy_score(y_true, y_pred)\n",
        "    prec = precision_score(y_true, y_pred, average=\"weighted\", zero_division=0)\n",
        "    rec = recall_score(y_true, y_pred, average=\"weighted\", zero_division=0)\n",
        "    f1 = f1_score(y_true, y_pred, average=\"weighted\", zero_division=0)\n",
        "\n",
        "    try:\n",
        "        auc = roc_auc_score(y_true, pd.get_dummies(y_pred).values, average=\"weighted\", multi_class=\"ovr\")\n",
        "    except Exception:\n",
        "        auc = float(\"nan\")\n",
        "    return {\"accuracy\": acc, \"precision\": prec, \"recall\": rec, \"f1\": f1, \"auc\": auc}\n",
        "\n",
        "distilbert_cpu = final_distilbert.to(\"cpu\").eval()\n",
        "quantized_distilbert = quantize_dynamic(distilbert_cpu, {nn.Linear}, dtype=torch.qint8)\n",
        "print(\"DistilBERT quantization complete.\")\n",
        "print(\"Quantized DistilBERT size:\", sum(p.numel() for p in quantized_distilbert.parameters()))\n",
        "\n",
        "roberta_cpu = final_roberta.to(\"cpu\").eval()\n",
        "quantized_roberta = quantize_dynamic(roberta_cpu, {nn.Linear}, dtype=torch.qint8)\n",
        "print(\"RoBERTa quantization complete.\")\n",
        "print(\"Quantized RoBERTa size:\", sum(p.numel() for p in quantized_roberta.parameters()))\n",
        "\n",
        "def eval_model_cpu(model, val_dataset):\n",
        "    model.eval()\n",
        "    preds, gold = [], []\n",
        "\n",
        "    from torch.utils.data import DataLoader\n",
        "    val_loader = DataLoader(val_dataset, batch_size=8, shuffle=False)\n",
        "\n",
        "    with torch.no_grad():\n",
        "        for batch in val_loader:\n",
        "            input_ids = batch[\"input_ids\"]\n",
        "            attention_mask = batch[\"attention_mask\"]\n",
        "            labels = batch[\"labels\"]\n",
        "\n",
        "            logits = model(input_ids=input_ids, attention_mask=attention_mask).logits\n",
        "            preds.extend(torch.argmax(logits, dim=1).numpy().tolist())\n",
        "            gold.extend(labels.numpy().tolist())\n",
        "\n",
        "    return compute_metrics_np(gold, preds)\n",
        "\n",
        "quantized_distilbert_metrics = eval_model_cpu(quantized_distilbert, val_ds_distilbert)\n",
        "quantized_roberta_metrics = eval_model_cpu(quantized_roberta, val_ds_roberta)\n",
        "\n",
        "print(\"Quantized DistilBERT metrics:\", quantized_distilbert_metrics)\n",
        "print(\"Quantized RoBERTa metrics:\", quantized_roberta_metrics)"
      ],
      "metadata": {
        "colab": {
          "base_uri": "https://localhost:8080/"
        },
        "id": "xgeO-FGHhsXH",
        "outputId": "fb06647d-a063-4f60-e58a-133a63d604f3"
      },
      "execution_count": null,
      "outputs": [
        {
          "output_type": "stream",
          "name": "stdout",
          "text": [
            "DistilBERT quantization complete.\n",
            "Quantized DistilBERT size: 23854080\n",
            "RoBERTa quantization complete.\n",
            "Quantized RoBERTa size: 39037440\n",
            "Quantized DistilBERT metrics: {'accuracy': 0.8782798833819242, 'precision': 0.8792930250595514, 'recall': 0.8782798833819242, 'f1': 0.8782740698741696, 'auc': np.float64(0.9221471625164832)}\n",
            "Quantized RoBERTa metrics: {'accuracy': 0.8534985422740525, 'precision': 0.8537252994102956, 'recall': 0.8534985422740525, 'f1': 0.8533234362337822, 'auc': np.float64(0.9065602557377263)}\n"
          ]
        }
      ]
    },
    {
      "cell_type": "markdown",
      "source": [
        "Pruning"
      ],
      "metadata": {
        "id": "IGOT3Ytaidpi"
      }
    },
    {
      "cell_type": "code",
      "source": [
        "pruned_distilbert = copy.deepcopy(final_distilbert).to(DEVICE).eval()\n",
        "\n",
        "distilbert_to_prune = []\n",
        "for name, module in pruned_distilbert.named_modules():\n",
        "    if isinstance(module, nn.Linear):\n",
        "        distilbert_to_prune.append((module, 'weight'))\n",
        "\n",
        "prune.global_unstructured(\n",
        "    distilbert_to_prune,\n",
        "    pruning_method=prune.L1Unstructured,\n",
        "    amount=0.3\n",
        ")\n",
        "\n",
        "for module, pname in distilbert_to_prune:\n",
        "    prune.remove(module, pname)\n",
        "\n",
        "pruned_roberta = copy.deepcopy(final_roberta).to(DEVICE).eval()\n",
        "\n",
        "roberta_to_prune = []\n",
        "for name, module in pruned_roberta.named_modules():\n",
        "    if isinstance(module, nn.Linear):\n",
        "        roberta_to_prune.append((module, 'weight'))\n",
        "\n",
        "prune.global_unstructured(\n",
        "    roberta_to_prune,\n",
        "    pruning_method=prune.L1Unstructured,\n",
        "    amount=0.3\n",
        ")\n",
        "\n",
        "for module, pname in roberta_to_prune:\n",
        "    prune.remove(module, pname)\n",
        "\n",
        "def eval_model_device(model, val_dataset):\n",
        "    model.eval()\n",
        "    preds, gold = [], []\n",
        "\n",
        "    val_loader = DataLoader(val_dataset, batch_size=32, shuffle=False)\n",
        "\n",
        "    with torch.no_grad():\n",
        "        for batch in val_loader:\n",
        "            input_ids = batch[\"input_ids\"].to(DEVICE)\n",
        "            attention_mask = batch[\"attention_mask\"].to(DEVICE)\n",
        "            labels = batch[\"labels\"].to(DEVICE)\n",
        "\n",
        "            logits = model(input_ids=input_ids, attention_mask=attention_mask).logits\n",
        "            preds.extend(torch.argmax(logits, dim=1).cpu().numpy().tolist())\n",
        "            gold.extend(labels.cpu().numpy().tolist())\n",
        "\n",
        "    return compute_metrics_np(gold, preds)\n",
        "\n",
        "pruned_distilbert_metrics = eval_model_device(pruned_distilbert, val_ds_distilbert)\n",
        "pruned_roberta_metrics = eval_model_device(pruned_roberta, val_ds_roberta)\n",
        "\n",
        "print(\"Pruned DistilBERT metrics:\", pruned_distilbert_metrics)\n",
        "print(\"Pruned RoBERTa metrics:\", pruned_roberta_metrics)"
      ],
      "metadata": {
        "colab": {
          "base_uri": "https://localhost:8080/"
        },
        "id": "9y6n4ItdhwFq",
        "outputId": "25ac082d-7d89-407d-b045-fa75263155db"
      },
      "execution_count": null,
      "outputs": [
        {
          "output_type": "stream",
          "name": "stdout",
          "text": [
            "Pruned DistilBERT metrics: {'accuracy': 0.8629737609329446, 'precision': 0.8684890643405709, 'recall': 0.8629737609329446, 'f1': 0.8625078237173148, 'auc': np.float64(0.9142168855554794)}\n",
            "Pruned RoBERTa metrics: {'accuracy': 0.8189990281827016, 'precision': 0.8259752149195877, 'recall': 0.8189990281827016, 'f1': 0.8186497462070864, 'auc': np.float64(0.8851561779569824)}\n"
          ]
        }
      ]
    },
    {
      "cell_type": "markdown",
      "source": [
        "Knowledge Distillation"
      ],
      "metadata": {
        "id": "oiCf8z_IifBD"
      }
    },
    {
      "cell_type": "code",
      "source": [
        "from torch.optim import AdamW\n",
        "\n",
        "alpha = 0.6\n",
        "temperature = 3.0\n",
        "EPOCHS_DISTILL = 4\n",
        "\n",
        "print(\"DistilBERT → Even Smaller Student\")\n",
        "teacher_distilbert = final_distilbert.to(DEVICE).eval()\n",
        "student_tiny = AutoModelForSequenceClassification.from_pretrained(\n",
        "    \"prajjwal1/bert-tiny\", num_labels=5\n",
        ").to(DEVICE)\n",
        "\n",
        "print(f\"Teacher DistilBERT size: {sum(p.numel() for p in teacher_distilbert.parameters()):,}\")\n",
        "print(f\"Student Tiny size: {sum(p.numel() for p in student_tiny.parameters()):,}\")\n",
        "\n",
        "opt_tiny = AdamW(student_tiny.parameters(), lr=3e-5)\n",
        "\n",
        "for ep in range(1, EPOCHS_DISTILL + 1):\n",
        "    student_tiny.train()\n",
        "    running_loss = 0.0\n",
        "\n",
        "    for batch in DataLoader(train_ds_distilbert, batch_size=16, shuffle=True):\n",
        "        input_ids = batch[\"input_ids\"].to(DEVICE)\n",
        "        attention_mask = batch[\"attention_mask\"].to(DEVICE)\n",
        "        labels = batch[\"labels\"].to(DEVICE)\n",
        "\n",
        "        with torch.no_grad():\n",
        "            teacher_logits = teacher_distilbert(input_ids=input_ids, attention_mask=attention_mask).logits\n",
        "\n",
        "        student_output = student_tiny(input_ids=input_ids, attention_mask=attention_mask, labels=labels)\n",
        "        student_logits = student_output.logits\n",
        "        hard_loss = student_output.loss\n",
        "\n",
        "        soft_teacher = F.softmax(teacher_logits / temperature, dim=-1)\n",
        "        log_soft_student = F.log_softmax(student_logits / temperature, dim=-1)\n",
        "        distill_loss = F.kl_div(log_soft_student, soft_teacher, reduction=\"batchmean\") * (temperature**2)\n",
        "\n",
        "        loss = alpha * hard_loss + (1 - alpha) * distill_loss\n",
        "\n",
        "        opt_tiny.zero_grad()\n",
        "        loss.backward()\n",
        "        opt_tiny.step()\n",
        "        running_loss += loss.item()\n",
        "\n",
        "    print(f\"[DistilBERT→Tiny] Epoch {ep}/{EPOCHS_DISTILL} | loss={running_loss/len(DataLoader(train_ds_distilbert, batch_size=16)):.4f}\")\n",
        "\n",
        "\n",
        "print(\"\\nRoBERTa → DistilBERT Student\")\n",
        "teacher_roberta = final_roberta.to(DEVICE).eval()\n",
        "student_distilbert = AutoModelForSequenceClassification.from_pretrained(\n",
        "    MODEL_NAME_DISTILBERT, num_labels=5\n",
        ").to(DEVICE)\n",
        "\n",
        "print(f\"Teacher RoBERTa size: {sum(p.numel() for p in teacher_roberta.parameters()):,}\")\n",
        "print(f\"Student DistilBERT size: {sum(p.numel() for p in student_distilbert.parameters()):,}\")\n",
        "\n",
        "roberta_tokenizer = AutoTokenizer.from_pretrained(MODEL_NAME_ROBERTA)\n",
        "distilbert_tokenizer = AutoTokenizer.from_pretrained(MODEL_NAME_DISTILBERT)\n",
        "\n",
        "opt_distilbert = AdamW(student_distilbert.parameters(), lr=3e-5)\n",
        "\n",
        "for ep in range(1, EPOCHS_DISTILL + 1):\n",
        "    student_distilbert.train()\n",
        "    running_loss = 0.0\n",
        "    num_batches = 0\n",
        "\n",
        "    for batch in DataLoader(train_ds_roberta, batch_size=8, shuffle=True):\n",
        "        try:\n",
        "            roberta_input_ids = batch[\"input_ids\"].to(DEVICE)\n",
        "            roberta_attention_mask = batch[\"attention_mask\"].to(DEVICE)\n",
        "            labels = batch[\"labels\"].to(DEVICE)\n",
        "\n",
        "            with torch.no_grad():\n",
        "                teacher_logits = teacher_roberta(input_ids=roberta_input_ids, attention_mask=roberta_attention_mask).logits\n",
        "\n",
        "            input_ids_cpu = batch[\"input_ids\"].cpu()\n",
        "            texts = []\n",
        "            for ids in input_ids_cpu:\n",
        "                text = roberta_tokenizer.decode(ids, skip_special_tokens=True, clean_up_tokenization_spaces=True)\n",
        "                texts.append(text)\n",
        "\n",
        "            distilbert_encoding = distilbert_tokenizer(\n",
        "                texts, truncation=True, padding=True,\n",
        "                max_length=512, return_tensors=\"pt\"\n",
        "            ).to(DEVICE)\n",
        "\n",
        "            student_output = student_distilbert(\n",
        "                input_ids=distilbert_encoding[\"input_ids\"],\n",
        "                attention_mask=distilbert_encoding[\"attention_mask\"],\n",
        "                labels=labels\n",
        "            )\n",
        "            student_logits = student_output.logits\n",
        "            hard_loss = student_output.loss\n",
        "\n",
        "            soft_teacher = F.softmax(teacher_logits / temperature, dim=-1)\n",
        "            log_soft_student = F.log_softmax(student_logits / temperature, dim=-1)\n",
        "            distill_loss = F.kl_div(log_soft_student, soft_teacher, reduction=\"batchmean\") * (temperature**2)\n",
        "\n",
        "            loss = alpha * hard_loss + (1 - alpha) * distill_loss\n",
        "\n",
        "            opt_distilbert.zero_grad()\n",
        "            loss.backward()\n",
        "            opt_distilbert.step()\n",
        "            running_loss += loss.item()\n",
        "            num_batches += 1\n",
        "\n",
        "        except Exception as e:\n",
        "            print(f\"Skipping batch due to error: {e}\")\n",
        "            continue\n",
        "\n",
        "    if num_batches > 0:\n",
        "        print(f\"[RoBERTa→DistilBERT] Epoch {ep}/{EPOCHS_DISTILL} | loss={running_loss/num_batches:.4f}\")\n",
        "    else:\n",
        "        print(f\"[RoBERTa→DistilBERT] Epoch {ep}/{EPOCHS_DISTILL} | No successful batches\")\n",
        "\n",
        "\n",
        "distilled_tiny_metrics = eval_model_device(student_tiny.eval(), val_ds_distilbert)\n",
        "distilled_distilbert_metrics = eval_model_device(student_distilbert.eval(), val_ds_distilbert)\n",
        "\n",
        "print(\"Distilled Tiny (from DistilBERT) metrics:\", distilled_tiny_metrics)\n",
        "print(\"Distilled DistilBERT (from RoBERTa) metrics:\", distilled_distilbert_metrics)"
      ],
      "metadata": {
        "colab": {
          "base_uri": "https://localhost:8080/",
          "height": 498,
          "referenced_widgets": [
            "0c2f450378ad46188f916d9fea1dd8e3",
            "dfc8754f2b3f452fb353a47eec4ebf69",
            "80a8afea546e4e42ab0cd440ec09ab33",
            "3ef1d549a98e48aab8b625e8a6570c59",
            "b8c462aa40cc4b599364a5eb8d51757d",
            "f2bcd66478f6446290611fc5a1da1f32",
            "99242f2520e64092a4a48b40d1462321",
            "20d836a1ae74462a9e8433b7645525fd",
            "7da2fa7b517e4f4b8e3bf81266d0b349",
            "7c6d3196d8384423ac9aac1dd851401d",
            "7abaf666d27c4ae9bd6408ec7fe04595",
            "03af93e27c1b4707810feecde4c3da58",
            "d1e3c6d76f3c474b8a54ddcccee6ce8f",
            "482887074ae34e5db95942a3ff8bdb26",
            "9f9793b10ae5460486a847dbf94ea0d2",
            "82e67007ddd548fea8c56e164bda15f8",
            "9ee3641b300c41f583d8fc6201b577f0",
            "70d96609208b46fca246c9720142056a",
            "3f04b3a36b394754a1c1dff75371ba78",
            "c72161afc63848de9f1b2c23839e6a9d",
            "55cf78f5925a4f1b9bd190256ab4c477",
            "fb774891e59546e19986b1c3f1e9b239",
            "c93061db2c0645a0a571f826b149bec9",
            "c6bc972c70334ef69e417eddce31924e",
            "53927728b90f416baf7edd3198635e69",
            "ef0d7ad5025e49a9b29c75fb4811b2ad",
            "159f868d612b41cebc9a66e70a842db1",
            "38277dbd116e4ae3ad8a4c8a0c0c40fa",
            "aad821939e6c4ee7b4d93d53560337bf",
            "9ed1a55faf4b4774856f73ea44767628",
            "abeac8d2c2bc47bf80c9e442bf970cb5",
            "d05de9179a2f4632914679c7f589a84a",
            "d8df784b5a084444a434a1d020d9b78d"
          ]
        },
        "id": "EdeV8HRkh9Qr",
        "outputId": "8c0ee81d-d3f8-44d9-f4c0-146622f5621c"
      },
      "execution_count": null,
      "outputs": [
        {
          "output_type": "stream",
          "name": "stdout",
          "text": [
            "DistilBERT → Even Smaller Student\n"
          ]
        },
        {
          "output_type": "display_data",
          "data": {
            "text/plain": [
              "config.json:   0%|          | 0.00/285 [00:00<?, ?B/s]"
            ],
            "application/vnd.jupyter.widget-view+json": {
              "version_major": 2,
              "version_minor": 0,
              "model_id": "0c2f450378ad46188f916d9fea1dd8e3"
            }
          },
          "metadata": {}
        },
        {
          "output_type": "display_data",
          "data": {
            "text/plain": [
              "pytorch_model.bin:   0%|          | 0.00/17.8M [00:00<?, ?B/s]"
            ],
            "application/vnd.jupyter.widget-view+json": {
              "version_major": 2,
              "version_minor": 0,
              "model_id": "03af93e27c1b4707810feecde4c3da58"
            }
          },
          "metadata": {}
        },
        {
          "output_type": "stream",
          "name": "stderr",
          "text": [
            "Some weights of BertForSequenceClassification were not initialized from the model checkpoint at prajjwal1/bert-tiny and are newly initialized: ['classifier.bias', 'classifier.weight']\n",
            "You should probably TRAIN this model on a down-stream task to be able to use it for predictions and inference.\n"
          ]
        },
        {
          "output_type": "stream",
          "name": "stdout",
          "text": [
            "Teacher DistilBERT size: 66,957,317\n",
            "Student Tiny size: 4,386,565\n"
          ]
        },
        {
          "output_type": "display_data",
          "data": {
            "text/plain": [
              "model.safetensors:   0%|          | 0.00/17.7M [00:00<?, ?B/s]"
            ],
            "application/vnd.jupyter.widget-view+json": {
              "version_major": 2,
              "version_minor": 0,
              "model_id": "c93061db2c0645a0a571f826b149bec9"
            }
          },
          "metadata": {}
        },
        {
          "output_type": "stream",
          "name": "stdout",
          "text": [
            "[DistilBERT→Tiny] Epoch 1/4 | loss=3.6092\n",
            "[DistilBERT→Tiny] Epoch 2/4 | loss=2.3545\n",
            "[DistilBERT→Tiny] Epoch 3/4 | loss=1.8993\n",
            "[DistilBERT→Tiny] Epoch 4/4 | loss=1.6596\n",
            "\n",
            "RoBERTa → DistilBERT Student\n"
          ]
        },
        {
          "output_type": "stream",
          "name": "stderr",
          "text": [
            "Some weights of DistilBertForSequenceClassification were not initialized from the model checkpoint at distilbert-base-uncased and are newly initialized: ['classifier.bias', 'classifier.weight', 'pre_classifier.bias', 'pre_classifier.weight']\n",
            "You should probably TRAIN this model on a down-stream task to be able to use it for predictions and inference.\n"
          ]
        },
        {
          "output_type": "stream",
          "name": "stdout",
          "text": [
            "Teacher RoBERTa size: 124,649,477\n",
            "Student DistilBERT size: 66,957,317\n",
            "[RoBERTa→DistilBERT] Epoch 1/4 | loss=1.2581\n",
            "[RoBERTa→DistilBERT] Epoch 2/4 | loss=0.6048\n",
            "[RoBERTa→DistilBERT] Epoch 3/4 | loss=0.4446\n",
            "[RoBERTa→DistilBERT] Epoch 4/4 | loss=0.3445\n",
            "Distilled Tiny (from DistilBERT) metrics: {'accuracy': 0.761418853255588, 'precision': 0.7657555220294895, 'recall': 0.761418853255588, 'f1': 0.761353191836437, 'auc': np.float64(0.8482655296590735)}\n",
            "Distilled DistilBERT (from RoBERTa) metrics: {'accuracy': 0.8600583090379009, 'precision': 0.8631345377599475, 'recall': 0.8600583090379009, 'f1': 0.860322797998167, 'auc': np.float64(0.9114143063665232)}\n"
          ]
        }
      ]
    }
  ]
}